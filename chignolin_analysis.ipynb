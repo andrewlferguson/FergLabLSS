{
 "cells": [
  {
   "cell_type": "code",
   "execution_count": 52,
   "metadata": {},
   "outputs": [],
   "source": [
    "%matplotlib inline \n",
    "import numpy as np \n",
    "import os, pickle, time\n",
    "import pyemma as py \n",
    "import mdtraj as md \n",
    "import nglview as nv \n",
    "from sklearn.preprocessing import MinMaxScaler\n",
    "import matplotlib.pyplot as plt"
   ]
  },
  {
   "cell_type": "code",
   "execution_count": 53,
   "metadata": {},
   "outputs": [],
   "source": [
    "os.environ['CUDA_DEVICE_ORDER'] = 'PCI_BUS_ID'\n",
    "os.environ['CUDA_VISIBLE_DEVICES'] = '1' "
   ]
  },
  {
   "cell_type": "code",
   "execution_count": 54,
   "metadata": {},
   "outputs": [],
   "source": [
    "import tensorflow as tf\n",
    "import tensorflow.keras.backend as K\n",
    "#import tensorflow.compat.v1.keras.backend as K\n",
    "\n",
    "#config = tf.compat.v1.ConfigProto()\n",
    "config = tf.ConfigProto()\n",
    "# Don't pre-allocate memory; allocate as-needed\n",
    "config.gpu_options.allow_growth = True\n",
    " \n",
    "# Only allow a total of half the GPU memory to be allocated\n",
    "config.gpu_options.per_process_gpu_memory_fraction = 1.0\n",
    " \n",
    "# Create a session with the above options specified.\n",
    "#K.tensorflow.compat.v1.keras.backend.set_session(tf.Session(config=config))"
   ]
  },
  {
   "cell_type": "code",
   "execution_count": 55,
   "metadata": {},
   "outputs": [],
   "source": [
    "import tensorflow.compat"
   ]
  },
  {
   "cell_type": "code",
   "execution_count": 270,
   "metadata": {},
   "outputs": [],
   "source": [
    "import sys\n",
    "sys.path.append('/Users/aawad.19/Documents/Ferguson Lab/LSS_all_files/LSS_components')\n",
    "from hde import hde, MolGen, Propagator"
   ]
  },
  {
   "cell_type": "markdown",
   "metadata": {},
   "source": [
    "## generate trajectory"
   ]
  },
  {
   "cell_type": "code",
   "execution_count": 279,
   "metadata": {},
   "outputs": [],
   "source": [
    "# loading in number of desired frames. Adjust 'in range(x)' where x=1 yields 10k frames.\n",
    "trajs_files = ['/Users/aawad.19/Documents/Ferguson Lab/LSS_all_files/Chignolin/DESRES_trajectory_chig/DESRES/DESRES-Trajectory_CLN025-0-protein/DESRES-Trajectory_CLN025-0-protein/CLN025-0-protein/CLN025-0-protein-%03d.dcd' % item\n",
    "              for item in range(5)]\n",
    "trajs_all = [md.load(item, top='/Users/aawad.19/Documents/Ferguson Lab/LSS_all_files/Chignolin/DESRES_trajectory_chig/DESRES/DESRES-Trajectory_CLN025-0-protein/DESRES-Trajectory_CLN025-0-protein/CLN025-0-protein/CLN025-0-protein.pdb')\n",
    "             for item in trajs_files]"
   ]
  },
  {
   "cell_type": "code",
   "execution_count": 58,
   "metadata": {},
   "outputs": [],
   "source": [
    "traj = md.join(trajs_all)"
   ]
  },
  {
   "cell_type": "code",
   "execution_count": 63,
   "metadata": {},
   "outputs": [],
   "source": [
    "def get_autocorr(data, lag):\n",
    "    if type(data) is list or data.ndim == 2:\n",
    "        temp_pair = (np.concatenate([item_traj[:-lag:lag] for item_traj in data]),\n",
    "                     np.concatenate([item_traj[lag::lag] for item_traj in data]))\n",
    "    else:\n",
    "        temp_pair = (data[:-lag:lag], data[lag::lag])\n",
    "    return np.corrcoef(temp_pair[0], temp_pair[1])[0][1]\n",
    "\n",
    "def get_timescales(data, lag):\n",
    "    return -lag / np.log(get_autocorr(data, lag))"
   ]
  },
  {
   "cell_type": "markdown",
   "metadata": {},
   "source": [
    "## Prepare trajectory"
   ]
  },
  {
   "cell_type": "code",
   "execution_count": 65,
   "metadata": {},
   "outputs": [
    {
     "data": {
      "text/plain": [
       "<mdtraj.Trajectory with 50000 frames, 166 atoms, 10 residues, and unitcells at 0x1a4d07cc10>"
      ]
     },
     "execution_count": 65,
     "metadata": {},
     "output_type": "execute_result"
    }
   ],
   "source": [
    "traj.superpose(traj[0])"
   ]
  },
  {
   "cell_type": "code",
   "execution_count": 66,
   "metadata": {},
   "outputs": [],
   "source": [
    "alpha = traj.top.select_atom_indices('alpha')\n",
    "traj_ca = traj.atom_slice(alpha)"
   ]
  },
  {
   "cell_type": "code",
   "execution_count": 67,
   "metadata": {},
   "outputs": [
    {
     "data": {
      "text/plain": [
       "<mdtraj.Trajectory with 50000 frames, 10 atoms, 10 residues, and unitcells at 0x1a48269790>"
      ]
     },
     "execution_count": 67,
     "metadata": {},
     "output_type": "execute_result"
    }
   ],
   "source": [
    "traj_ca.superpose(traj_ca[0])"
   ]
  },
  {
   "cell_type": "code",
   "execution_count": 68,
   "metadata": {},
   "outputs": [],
   "source": [
    "xyz = traj_ca.xyz.reshape(-1, len(alpha)*3)"
   ]
  },
  {
   "cell_type": "code",
   "execution_count": 69,
   "metadata": {},
   "outputs": [],
   "source": [
    "scaler = MinMaxScaler(feature_range=(-1,1))"
   ]
  },
  {
   "cell_type": "code",
   "execution_count": 70,
   "metadata": {},
   "outputs": [],
   "source": [
    "y_train = scaler.fit_transform(xyz)"
   ]
  },
  {
   "cell_type": "markdown",
   "metadata": {},
   "source": [
    "## Load SRV for reference"
   ]
  },
  {
   "cell_type": "code",
   "execution_count": 271,
   "metadata": {},
   "outputs": [
    {
     "name": "stderr",
     "output_type": "stream",
     "text": [
      "/opt/anaconda3/envs/PythonGPU/lib/python3.7/site-packages/keras/engine/saving.py:341: UserWarning: No training configuration found in save file: the model was *not* compiled. Compile it manually.\n",
      "  warnings.warn('No training configuration found in save file: '\n"
     ]
    }
   ],
   "source": [
    "filename = '/Users/aawad.19/Documents/Ferguson Lab/LSS_all_files/Chignolin/SRV/hde_model2_chig.pkl'\n",
    "srv = pickle.load(open(filename, 'rb'))"
   ]
  },
  {
   "cell_type": "code",
   "execution_count": 72,
   "metadata": {},
   "outputs": [
    {
     "name": "stdout",
     "output_type": "stream",
     "text": [
      "[2063.09231095  520.24998669  150.20381646]\n"
     ]
    }
   ],
   "source": [
    "# check that SRV timescales have been correctly loaded in (reference with chignolin.ipynb)\n",
    "#hde_timescales = srv.timescales_\n",
    "#print(hde_timescales)"
   ]
  },
  {
   "cell_type": "code",
   "execution_count": 73,
   "metadata": {},
   "outputs": [
    {
     "name": "stdout",
     "output_type": "stream",
     "text": [
      "Model: \"model_43\"\n",
      "_________________________________________________________________\n",
      "Layer (type)                 Output Shape              Param #   \n",
      "=================================================================\n",
      "input_56 (InputLayer)        (None, 4352)              0         \n",
      "_________________________________________________________________\n",
      "dense_16 (Dense)             (None, 100)               435300    \n",
      "_________________________________________________________________\n",
      "batch_normalization_6 (Batch (None, 100)               400       \n",
      "_________________________________________________________________\n",
      "dense_17 (Dense)             (None, 100)               10100     \n",
      "_________________________________________________________________\n",
      "dense_18 (Dense)             (None, 3)                 303       \n",
      "_________________________________________________________________\n",
      "gaussian_noise_6 (GaussianNo (None, 3)                 0         \n",
      "=================================================================\n",
      "Total params: 446,103\n",
      "Trainable params: 445,903\n",
      "Non-trainable params: 200\n",
      "_________________________________________________________________\n"
     ]
    }
   ],
   "source": [
    "srv._encoder.summary()"
   ]
  },
  {
   "cell_type": "markdown",
   "metadata": {},
   "source": [
    "##  Load SRV coordinates"
   ]
  },
  {
   "cell_type": "code",
   "execution_count": 272,
   "metadata": {},
   "outputs": [
    {
     "name": "stdout",
     "output_type": "stream",
     "text": [
      "[[ 1.2419244   0.21987318 -0.35559627]\n",
      " [-0.12071919  0.09691165  0.32312223]\n",
      " [ 1.1593312   0.13921878  0.19697236]\n",
      " ...\n",
      " [-0.82291275 -0.00863858 -0.02370763]\n",
      " [-0.82291263 -0.00863834 -0.0237062 ]\n",
      " [-0.82291263 -0.00863834 -0.0237062 ]]\n"
     ]
    }
   ],
   "source": [
    "# coords generated chignolin.ipynb\n",
    "Z = np.load('/Users/aawad.19/Documents/Ferguson Lab/LSS_all_files/Chignolin/SRV/hde_coords_chig.npy')\n",
    "print(Z)"
   ]
  },
  {
   "cell_type": "code",
   "execution_count": 75,
   "metadata": {},
   "outputs": [],
   "source": [
    "srv_scaler = MinMaxScaler(feature_range=(-1,1))"
   ]
  },
  {
   "cell_type": "code",
   "execution_count": 78,
   "metadata": {},
   "outputs": [
    {
     "name": "stdout",
     "output_type": "stream",
     "text": [
      "[[ 0.70656145  0.98271954 -0.78459543]\n",
      " [-0.41939142  0.97207946 -0.72540283]\n",
      " [ 0.6383147   0.9757404  -0.73640466]\n",
      " ...\n",
      " [-0.99961424  0.962946   -0.7556507 ]\n",
      " [-0.9996141   0.962946   -0.7556505 ]\n",
      " [-0.9996141   0.962946   -0.7556505 ]]\n"
     ]
    }
   ],
   "source": [
    "x_train = srv_scaler.fit_transform(Z[:,[0,1,2]])\n",
    "print(x_train)\n",
    "#[:,[0,2,3]]"
   ]
  },
  {
   "cell_type": "markdown",
   "metadata": {},
   "source": [
    "# Fit Generator"
   ]
  },
  {
   "cell_type": "code",
   "execution_count": 84,
   "metadata": {},
   "outputs": [
    {
     "name": "stdout",
     "output_type": "stream",
     "text": [
      "Model: \"sequential_1\"\n",
      "_________________________________________________________________\n",
      "Layer (type)                 Output Shape              Param #   \n",
      "=================================================================\n",
      "dense_1 (Dense)              (None, 200)               10800     \n",
      "_________________________________________________________________\n",
      "dense_2 (Dense)              (None, 200)               40200     \n",
      "_________________________________________________________________\n",
      "dense_3 (Dense)              (None, 30)                6030      \n",
      "=================================================================\n",
      "Total params: 57,030\n",
      "Trainable params: 57,030\n",
      "Non-trainable params: 0\n",
      "_________________________________________________________________\n",
      "Model: \"sequential_2\"\n",
      "_________________________________________________________________\n",
      "Layer (type)                 Output Shape              Param #   \n",
      "=================================================================\n",
      "dense_4 (Dense)              (None, 200)               6800      \n",
      "_________________________________________________________________\n",
      "dense_5 (Dense)              (None, 200)               40200     \n",
      "_________________________________________________________________\n",
      "dense_6 (Dense)              (None, 1)                 201       \n",
      "=================================================================\n",
      "Total params: 47,201\n",
      "Trainable params: 47,201\n",
      "Non-trainable params: 0\n",
      "_________________________________________________________________\n"
     ]
    }
   ],
   "source": [
    "molgen = MolGen(\n",
    "    latent_dim=x_train.shape[1],\n",
    "    output_dim=y_train.shape[1],\n",
    "    batch_size=20000,\n",
    "    noise_dim=50,\n",
    "    n_epochs=100,\n",
    "    hidden_layer_depth=2,\n",
    "    hidden_size=200,\n",
    "    n_discriminator=5\n",
    ")\n",
    "# train on SRV coordinates, then on molecular outputs"
   ]
  },
  {
   "cell_type": "code",
   "execution_count": 181,
   "metadata": {
    "scrolled": true
   },
   "outputs": [
    {
     "name": "stdout",
     "output_type": "stream",
     "text": [
      "0 [D loss: 5.318592] [G loss: 0.029768]\n",
      "1 [D loss: 4.786848] [G loss: 0.017640]\n",
      "2 [D loss: 4.346718] [G loss: 0.005288]\n",
      "3 [D loss: 3.947312] [G loss: -0.007802]\n",
      "4 [D loss: 3.570655] [G loss: -0.019234]\n",
      "5 [D loss: 3.220314] [G loss: -0.035143]\n",
      "6 [D loss: 2.882243] [G loss: -0.048942]\n",
      "7 [D loss: 2.562641] [G loss: -0.063854]\n",
      "8 [D loss: 2.256702] [G loss: -0.079246]\n",
      "9 [D loss: 1.964534] [G loss: -0.097443]\n",
      "10 [D loss: 1.688932] [G loss: -0.114942]\n",
      "11 [D loss: 1.432093] [G loss: -0.133072]\n",
      "12 [D loss: 1.191192] [G loss: -0.151980]\n",
      "13 [D loss: 0.967070] [G loss: -0.172781]\n",
      "14 [D loss: 0.759360] [G loss: -0.193613]\n",
      "15 [D loss: 0.565047] [G loss: -0.213662]\n",
      "16 [D loss: 0.402742] [G loss: -0.237451]\n",
      "17 [D loss: 0.250501] [G loss: -0.259796]\n",
      "18 [D loss: 0.120850] [G loss: -0.282836]\n",
      "19 [D loss: 0.009100] [G loss: -0.309696]\n",
      "20 [D loss: -0.081482] [G loss: -0.333206]\n",
      "21 [D loss: -0.157156] [G loss: -0.357132]\n",
      "22 [D loss: -0.212344] [G loss: -0.380695]\n",
      "23 [D loss: -0.246575] [G loss: -0.401188]\n",
      "24 [D loss: -0.284042] [G loss: -0.422488]\n",
      "25 [D loss: -0.312313] [G loss: -0.446544]\n",
      "26 [D loss: -0.327549] [G loss: -0.461293]\n",
      "27 [D loss: -0.345400] [G loss: -0.478883]\n",
      "28 [D loss: -0.366000] [G loss: -0.489362]\n",
      "29 [D loss: -0.380894] [G loss: -0.501620]\n",
      "30 [D loss: -0.397840] [G loss: -0.510721]\n",
      "31 [D loss: -0.424948] [G loss: -0.518949]\n",
      "32 [D loss: -0.432643] [G loss: -0.529013]\n",
      "33 [D loss: -0.462305] [G loss: -0.533328]\n",
      "34 [D loss: -0.479959] [G loss: -0.543580]\n",
      "35 [D loss: -0.495559] [G loss: -0.543771]\n",
      "36 [D loss: -0.523758] [G loss: -0.551400]\n",
      "37 [D loss: -0.537084] [G loss: -0.552298]\n",
      "38 [D loss: -0.547053] [G loss: -0.554435]\n",
      "39 [D loss: -0.584061] [G loss: -0.556610]\n",
      "40 [D loss: -0.597802] [G loss: -0.558542]\n",
      "41 [D loss: -0.604714] [G loss: -0.556571]\n",
      "42 [D loss: -0.626855] [G loss: -0.557553]\n",
      "43 [D loss: -0.645922] [G loss: -0.555484]\n",
      "44 [D loss: -0.663386] [G loss: -0.559732]\n",
      "45 [D loss: -0.687563] [G loss: -0.554554]\n",
      "46 [D loss: -0.703615] [G loss: -0.552847]\n",
      "47 [D loss: -0.724041] [G loss: -0.547110]\n",
      "48 [D loss: -0.738573] [G loss: -0.546481]\n",
      "49 [D loss: -0.757490] [G loss: -0.539060]\n",
      "50 [D loss: -0.784471] [G loss: -0.538308]\n",
      "51 [D loss: -0.788722] [G loss: -0.529782]\n",
      "52 [D loss: -0.811360] [G loss: -0.526275]\n",
      "53 [D loss: -0.824241] [G loss: -0.517325]\n",
      "54 [D loss: -0.847977] [G loss: -0.511600]\n",
      "55 [D loss: -0.869726] [G loss: -0.499613]\n",
      "56 [D loss: -0.861094] [G loss: -0.496572]\n",
      "57 [D loss: -0.891358] [G loss: -0.485617]\n",
      "58 [D loss: -0.900772] [G loss: -0.478167]\n",
      "59 [D loss: -0.927207] [G loss: -0.467957]\n",
      "60 [D loss: -0.936128] [G loss: -0.459614]\n",
      "61 [D loss: -0.946976] [G loss: -0.447893]\n",
      "62 [D loss: -0.956552] [G loss: -0.435761]\n",
      "63 [D loss: -0.961914] [G loss: -0.422870]\n",
      "64 [D loss: -0.970176] [G loss: -0.415252]\n",
      "65 [D loss: -0.967085] [G loss: -0.398373]\n",
      "66 [D loss: -0.978997] [G loss: -0.389629]\n",
      "67 [D loss: -0.998444] [G loss: -0.381942]\n",
      "68 [D loss: -0.999200] [G loss: -0.365741]\n",
      "69 [D loss: -1.009940] [G loss: -0.355366]\n",
      "70 [D loss: -1.006375] [G loss: -0.342194]\n",
      "71 [D loss: -1.004828] [G loss: -0.331853]\n",
      "72 [D loss: -1.003077] [G loss: -0.319514]\n",
      "73 [D loss: -1.004908] [G loss: -0.307509]\n",
      "74 [D loss: -1.021801] [G loss: -0.296306]\n",
      "75 [D loss: -1.011217] [G loss: -0.286574]\n",
      "76 [D loss: -1.012679] [G loss: -0.275070]\n",
      "77 [D loss: -1.003201] [G loss: -0.266016]\n",
      "78 [D loss: -1.008152] [G loss: -0.256291]\n",
      "79 [D loss: -0.997810] [G loss: -0.247519]\n",
      "80 [D loss: -1.002249] [G loss: -0.237956]\n",
      "81 [D loss: -0.996481] [G loss: -0.230590]\n",
      "82 [D loss: -0.986234] [G loss: -0.224283]\n",
      "83 [D loss: -0.970385] [G loss: -0.218894]\n",
      "84 [D loss: -0.962338] [G loss: -0.213089]\n",
      "85 [D loss: -0.981073] [G loss: -0.209673]\n",
      "86 [D loss: -0.961499] [G loss: -0.206299]\n",
      "87 [D loss: -0.948513] [G loss: -0.204422]\n",
      "88 [D loss: -0.947415] [G loss: -0.200743]\n",
      "89 [D loss: -0.944629] [G loss: -0.205452]\n",
      "90 [D loss: -0.912000] [G loss: -0.205888]\n",
      "91 [D loss: -0.918689] [G loss: -0.208342]\n",
      "92 [D loss: -0.911100] [G loss: -0.209739]\n",
      "93 [D loss: -0.905794] [G loss: -0.213662]\n",
      "94 [D loss: -0.897702] [G loss: -0.216165]\n",
      "95 [D loss: -0.896367] [G loss: -0.222582]\n",
      "96 [D loss: -0.889194] [G loss: -0.223710]\n",
      "97 [D loss: -0.882635] [G loss: -0.228663]\n",
      "98 [D loss: -0.873154] [G loss: -0.233017]\n",
      "99 [D loss: -0.871984] [G loss: -0.234853]\n"
     ]
    },
    {
     "data": {
      "text/plain": [
       "MolGen(activation='swish', batch_size=20000, hidden_layer_depth=2,\n",
       "       hidden_size=200, latent_dim=3, n_discriminator=5, n_epochs=100,\n",
       "       noise_dim=50, output_dim=30, verbose=True)"
      ]
     },
     "execution_count": 181,
     "metadata": {},
     "output_type": "execute_result"
    }
   ],
   "source": [
    "#molgen.fit(x_train, y_train)"
   ]
  },
  {
   "cell_type": "code",
   "execution_count": 51,
   "metadata": {},
   "outputs": [
    {
     "ename": "NameError",
     "evalue": "name 'molgen' is not defined",
     "output_type": "error",
     "traceback": [
      "\u001b[0;31m---------------------------------------------------------------------------\u001b[0m",
      "\u001b[0;31mNameError\u001b[0m                                 Traceback (most recent call last)",
      "\u001b[0;32m<ipython-input-51-cf72823070b8>\u001b[0m in \u001b[0;36m<module>\u001b[0;34m\u001b[0m\n\u001b[0;32m----> 1\u001b[0;31m \u001b[0mmolgen\u001b[0m\u001b[0;34m.\u001b[0m\u001b[0mgenerator\u001b[0m\u001b[0;34m.\u001b[0m\u001b[0msave\u001b[0m\u001b[0;34m(\u001b[0m\u001b[0;34m'lss_files/generator_chig.h5'\u001b[0m\u001b[0;34m)\u001b[0m\u001b[0;34m\u001b[0m\u001b[0;34m\u001b[0m\u001b[0m\n\u001b[0m",
      "\u001b[0;31mNameError\u001b[0m: name 'molgen' is not defined"
     ]
    }
   ],
   "source": [
    "#molgen.generator.save('/Users/aawad.19/Documents/Ferguson Lab/LSS_all_files/Chignolin/generator_chig.h5')"
   ]
  },
  {
   "cell_type": "code",
   "execution_count": 199,
   "metadata": {},
   "outputs": [],
   "source": [
    "#molgen.discriminator.save('/Users/aawad.19/Documents/Ferguson Lab/LSS_all_files/Chignolin/discriminator_chig.h5')"
   ]
  },
  {
   "cell_type": "markdown",
   "metadata": {},
   "source": [
    "Running Molgen\n",
    "Minimum achieved for D loss: (epoch )\n",
    "-1.34 (82)"
   ]
  },
  {
   "cell_type": "code",
   "execution_count": 88,
   "metadata": {},
   "outputs": [],
   "source": [
    "#with open('/Users/aawad.19/Documents/Ferguson Lab/LSS_all_files/Chignolin/lss_files/chignolin_molgen.pkl', 'wb') as f:\n",
    "#    pickle.dump(molgen, f)\n",
    "\n",
    "#molgen = pickle.load(open('chignolin_molgen.pkl', 'rb'))"
   ]
  },
  {
   "cell_type": "code",
   "execution_count": 89,
   "metadata": {},
   "outputs": [],
   "source": [
    "from hde.molgen import swish"
   ]
  },
  {
   "cell_type": "code",
   "execution_count": 274,
   "metadata": {},
   "outputs": [
    {
     "name": "stdout",
     "output_type": "stream",
     "text": [
      "WARNING:tensorflow:No training configuration found in save file: the model was *not* compiled. Compile it manually.\n",
      "WARNING:tensorflow:No training configuration found in save file: the model was *not* compiled. Compile it manually.\n"
     ]
    }
   ],
   "source": [
    "molgen.generator = tf.keras.models.load_model('/Users/aawad.19/Documents/Ferguson Lab/LSS_all_files/Chignolin/lss_files/generator_chig.h5', custom_objects={'swish': swish})\n",
    "molgen.discriminator = tf.keras.models.load_model('/Users/aawad.19/Documents/Ferguson Lab/LSS_all_files/Chignolin/lss_files/discriminator_chig.h5', custom_objects={'swish': swish})"
   ]
  },
  {
   "cell_type": "markdown",
   "metadata": {},
   "source": [
    "## Propagator"
   ]
  },
  {
   "cell_type": "code",
   "execution_count": 34,
   "metadata": {},
   "outputs": [],
   "source": [
    "n_mix = 25\n",
    "lag = 100"
   ]
  },
  {
   "cell_type": "code",
   "execution_count": 35,
   "metadata": {},
   "outputs": [],
   "source": [
    "prop_scaler = MinMaxScaler(feature_range=(0,1))"
   ]
  },
  {
   "cell_type": "code",
   "execution_count": 36,
   "metadata": {},
   "outputs": [],
   "source": [
    "traj_prop = x_train"
   ]
  },
  {
   "cell_type": "code",
   "execution_count": 37,
   "metadata": {},
   "outputs": [],
   "source": [
    "traj_prop_scaled = prop_scaler.fit_transform(traj_prop)"
   ]
  },
  {
   "cell_type": "code",
   "execution_count": 38,
   "metadata": {},
   "outputs": [],
   "source": [
    "callbacks = [\n",
    "    tf.keras.callbacks.EarlyStopping(monitor='loss', patience=100, restore_best_weights=True)\n",
    "]"
   ]
  },
  {
   "cell_type": "code",
   "execution_count": 39,
   "metadata": {},
   "outputs": [
    {
     "name": "stdout",
     "output_type": "stream",
     "text": [
      "WARNING:tensorflow:Entity <bound method MDN.call of <hde.propagator.MDN object at 0x1a36735550>> could not be transformed and will be executed as-is. Please report this to the AutgoGraph team. When filing the bug, set the verbosity to 10 (on Linux, `export AUTOGRAPH_VERBOSITY=10`) and attach the full output. Cause: converting <bound method MDN.call of <hde.propagator.MDN object at 0x1a36735550>>: AssertionError: Bad argument number for Name: 3, expecting 4\n",
      "WARNING: Entity <bound method MDN.call of <hde.propagator.MDN object at 0x1a36735550>> could not be transformed and will be executed as-is. Please report this to the AutgoGraph team. When filing the bug, set the verbosity to 10 (on Linux, `export AUTOGRAPH_VERBOSITY=10`) and attach the full output. Cause: converting <bound method MDN.call of <hde.propagator.MDN object at 0x1a36735550>>: AssertionError: Bad argument number for Name: 3, expecting 4\n",
      "WARNING:tensorflow:From /Users/aawad.19/.local/lib/python3.7/site-packages/tensorflow/python/ops/math_ops.py:2403: add_dispatch_support.<locals>.wrapper (from tensorflow.python.ops.array_ops) is deprecated and will be removed in a future version.\n",
      "Instructions for updating:\n",
      "Use tf.where in 2.0, which has the same broadcast rule as np.where\n",
      "WARNING:tensorflow:From /Users/aawad.19/Documents/Ferguson Lab/LSS_all_files/hde/propagator.py:171: The name tf.keras.backend.get_session is deprecated. Please use tf.compat.v1.keras.backend.get_session instead.\n",
      "\n"
     ]
    }
   ],
   "source": [
    "prop = Propagator(\n",
    "    traj_prop_scaled.shape[1], \n",
    "    n_components=n_mix, \n",
    "    lag_time=lag, \n",
    "    batch_size=200000, \n",
    "    learning_rate=0.0005, \n",
    "    n_epochs=20000,\n",
    "    callbacks=callbacks,\n",
    "    hidden_size=100,\n",
    "    activation='relu'\n",
    ")"
   ]
  },
  {
   "cell_type": "code",
   "execution_count": 41,
   "metadata": {},
   "outputs": [],
   "source": [
    "from hde.propagator import get_mixture_loss_func"
   ]
  },
  {
   "cell_type": "code",
   "execution_count": 42,
   "metadata": {},
   "outputs": [],
   "source": [
    "prop.model.compile(loss=get_mixture_loss_func(prop.input_dim, prop.n_components), optimizer=tf.keras.optimizers.Adam(lr=0.0001))"
   ]
  },
  {
   "cell_type": "markdown",
   "metadata": {},
   "source": [
    "Best so far (for chignolin): \n",
    "- -12.361 (hidden_size = 100, n_mix = 25, activation = relu) (10k frames)\n",
    "- -18.37 (hidden_size = 100, n_mix = 25, activation = relu) (50k frames)\n",
    "\n",
    "For trp cage:\n",
    "- -11.4 (hidden_size = 100, n_mix = 10)\n",
    "- -11.65 (hidden_size = 20, n_mix = 20, activation = relu)\n",
    "- -12.12 (hidden_size = 100, n_mix = 25, activation = relu)"
   ]
  },
  {
   "cell_type": "code",
   "execution_count": 43,
   "metadata": {},
   "outputs": [
    {
     "name": "stdout",
     "output_type": "stream",
     "text": [
      "Epoch 1/20000\n",
      "99800/99800 [==============================] - 1s 10us/sample - loss: 3.0147\n",
      "Epoch 2/20000\n",
      "99800/99800 [==============================] - 1s 6us/sample - loss: 2.9666\n",
      "Epoch 3/20000\n",
      "99800/99800 [==============================] - 1s 6us/sample - loss: 2.9147\n",
      "Epoch 4/20000\n",
      "99800/99800 [==============================] - 1s 7us/sample - loss: 2.8601\n",
      "Epoch 5/20000\n",
      "99800/99800 [==============================] - 1s 6us/sample - loss: 2.8019\n",
      "Epoch 6/20000\n",
      "99800/99800 [==============================] - 1s 6us/sample - loss: 2.7395\n",
      "Epoch 7/20000\n",
      "99800/99800 [==============================] - 1s 6us/sample - loss: 2.6720\n",
      "Epoch 8/20000\n",
      "99800/99800 [==============================] - 1s 6us/sample - loss: 2.5987\n",
      "Epoch 9/20000\n",
      "99800/99800 [==============================] - 1s 7us/sample - loss: 2.5195\n",
      "Epoch 10/20000\n",
      "99800/99800 [==============================] - 1s 7us/sample - loss: 2.4334\n",
      "Epoch 11/20000\n",
      "99800/99800 [==============================] - 1s 7us/sample - loss: 2.3403\n",
      "Epoch 12/20000\n",
      "99800/99800 [==============================] - 1s 8us/sample - loss: 2.2401\n",
      "Epoch 13/20000\n",
      "99800/99800 [==============================] - 1s 8us/sample - loss: 2.1321\n",
      "Epoch 14/20000\n",
      "99800/99800 [==============================] - 1s 8us/sample - loss: 2.0163\n",
      "Epoch 15/20000\n",
      "99800/99800 [==============================] - 1s 8us/sample - loss: 1.8922\n",
      "Epoch 16/20000\n",
      "99800/99800 [==============================] - 1s 8us/sample - loss: 1.7604\n",
      "Epoch 17/20000\n",
      "99800/99800 [==============================] - 1s 7us/sample - loss: 1.6213\n",
      "Epoch 18/20000\n",
      "99800/99800 [==============================] - 1s 7us/sample - loss: 1.4756\n",
      "Epoch 19/20000\n",
      "99800/99800 [==============================] - 1s 7us/sample - loss: 1.3228\n",
      "Epoch 20/20000\n",
      "99800/99800 [==============================] - 1s 6us/sample - loss: 1.1634\n",
      "Epoch 21/20000\n",
      "99800/99800 [==============================] - 1s 6us/sample - loss: 0.9960\n",
      "Epoch 22/20000\n",
      "99800/99800 [==============================] - 1s 6us/sample - loss: 0.8187\n",
      "Epoch 23/20000\n",
      "99800/99800 [==============================] - 1s 6us/sample - loss: 0.6287\n",
      "Epoch 24/20000\n",
      "99800/99800 [==============================] - 1s 6us/sample - loss: 0.4223\n",
      "Epoch 25/20000\n",
      "99800/99800 [==============================] - 1s 6us/sample - loss: 0.1967\n",
      "Epoch 26/20000\n",
      "99800/99800 [==============================] - 1s 6us/sample - loss: -0.0501\n",
      "Epoch 27/20000\n",
      "99800/99800 [==============================] - 1s 7us/sample - loss: -0.3194\n",
      "Epoch 28/20000\n",
      "99800/99800 [==============================] - 1s 7us/sample - loss: -0.6095\n",
      "Epoch 29/20000\n",
      "99800/99800 [==============================] - 1s 8us/sample - loss: -0.9167\n",
      "Epoch 30/20000\n",
      "99800/99800 [==============================] - 1s 7us/sample - loss: -1.2358\n",
      "Epoch 31/20000\n",
      "99800/99800 [==============================] - 1s 7us/sample - loss: -1.5618\n",
      "Epoch 32/20000\n",
      "99800/99800 [==============================] - 1s 6us/sample - loss: -1.8884\n",
      "Epoch 33/20000\n",
      "99800/99800 [==============================] - 1s 6us/sample - loss: -2.2070\n",
      "Epoch 34/20000\n",
      "99800/99800 [==============================] - 1s 7us/sample - loss: -2.5092\n",
      "Epoch 35/20000\n",
      "99800/99800 [==============================] - 1s 8us/sample - loss: -2.8062\n",
      "Epoch 36/20000\n",
      "99800/99800 [==============================] - 1s 7us/sample - loss: -3.1483\n",
      "Epoch 37/20000\n",
      "99800/99800 [==============================] - 1s 7us/sample - loss: -3.5787\n",
      "Epoch 38/20000\n",
      "99800/99800 [==============================] - 1s 7us/sample - loss: -4.0961\n",
      "Epoch 39/20000\n",
      "99800/99800 [==============================] - 1s 8us/sample - loss: -4.6544\n",
      "Epoch 40/20000\n",
      "99800/99800 [==============================] - 1s 7us/sample - loss: -5.1511\n",
      "Epoch 41/20000\n",
      "99800/99800 [==============================] - 1s 7us/sample - loss: -5.6282\n",
      "Epoch 42/20000\n",
      "99800/99800 [==============================] - 1s 8us/sample - loss: -6.1525\n",
      "Epoch 43/20000\n",
      "99800/99800 [==============================] - 1s 8us/sample - loss: -6.4831\n",
      "Epoch 44/20000\n",
      "99800/99800 [==============================] - 1s 7us/sample - loss: -7.0420\n",
      "Epoch 45/20000\n",
      "99800/99800 [==============================] - 1s 7us/sample - loss: -7.4150\n",
      "Epoch 46/20000\n",
      "99800/99800 [==============================] - 1s 6us/sample - loss: -7.6884\n",
      "Epoch 47/20000\n",
      "99800/99800 [==============================] - 1s 6us/sample - loss: -7.8910\n",
      "Epoch 48/20000\n",
      "99800/99800 [==============================] - 1s 6us/sample - loss: -7.8380\n",
      "Epoch 49/20000\n",
      "99800/99800 [==============================] - 1s 6us/sample - loss: -8.6831\n",
      "Epoch 50/20000\n",
      "99800/99800 [==============================] - 1s 6us/sample - loss: -8.4613\n",
      "Epoch 51/20000\n",
      "99800/99800 [==============================] - 1s 6us/sample - loss: -8.8200\n",
      "Epoch 52/20000\n",
      "99800/99800 [==============================] - 1s 6us/sample - loss: -9.5623\n",
      "Epoch 53/20000\n",
      "99800/99800 [==============================] - 1s 6us/sample - loss: -8.7722\n",
      "Epoch 54/20000\n",
      "99800/99800 [==============================] - 1s 6us/sample - loss: -8.9971\n",
      "Epoch 55/20000\n",
      "99800/99800 [==============================] - 1s 6us/sample - loss: -9.9153\n",
      "Epoch 56/20000\n",
      "99800/99800 [==============================] - 1s 6us/sample - loss: -9.7794\n",
      "Epoch 57/20000\n",
      "99800/99800 [==============================] - 1s 6us/sample - loss: -10.2796\n",
      "Epoch 58/20000\n",
      "99800/99800 [==============================] - 1s 6us/sample - loss: -10.2790\n",
      "Epoch 59/20000\n",
      "99800/99800 [==============================] - 1s 6us/sample - loss: -10.7526\n",
      "Epoch 60/20000\n",
      "99800/99800 [==============================] - 1s 6us/sample - loss: -11.0071\n",
      "Epoch 61/20000\n",
      "99800/99800 [==============================] - 1s 6us/sample - loss: -11.6788\n",
      "Epoch 62/20000\n",
      "99800/99800 [==============================] - 1s 6us/sample - loss: -11.5475\n",
      "Epoch 63/20000\n",
      "99800/99800 [==============================] - 1s 6us/sample - loss: -12.2404\n",
      "Epoch 64/20000\n",
      "99800/99800 [==============================] - 1s 6us/sample - loss: -11.7519\n",
      "Epoch 65/20000\n",
      "99800/99800 [==============================] - 1s 6us/sample - loss: -12.8642\n",
      "Epoch 66/20000\n",
      "99800/99800 [==============================] - 1s 6us/sample - loss: -12.2148\n",
      "Epoch 67/20000\n",
      "99800/99800 [==============================] - 1s 6us/sample - loss: -13.2979\n",
      "Epoch 68/20000\n",
      "99800/99800 [==============================] - 1s 6us/sample - loss: -12.3717\n",
      "Epoch 69/20000\n",
      "99800/99800 [==============================] - 1s 6us/sample - loss: -13.3815\n",
      "Epoch 70/20000\n",
      "99800/99800 [==============================] - 1s 6us/sample - loss: -13.1409\n",
      "Epoch 71/20000\n",
      "99800/99800 [==============================] - 1s 6us/sample - loss: -13.6812\n",
      "Epoch 72/20000\n",
      "99800/99800 [==============================] - 1s 6us/sample - loss: -12.6525\n",
      "Epoch 73/20000\n",
      "99800/99800 [==============================] - 1s 6us/sample - loss: -13.7847\n",
      "Epoch 74/20000\n",
      "99800/99800 [==============================] - 1s 6us/sample - loss: -14.1528\n",
      "Epoch 75/20000\n",
      "99800/99800 [==============================] - 1s 6us/sample - loss: -13.1976\n",
      "Epoch 76/20000\n",
      "99800/99800 [==============================] - 1s 6us/sample - loss: -13.8764\n",
      "Epoch 77/20000\n",
      "99800/99800 [==============================] - 1s 6us/sample - loss: -14.0892\n",
      "Epoch 78/20000\n",
      "99800/99800 [==============================] - 1s 6us/sample - loss: -14.2118\n",
      "Epoch 79/20000\n",
      "99800/99800 [==============================] - 1s 6us/sample - loss: -14.2255\n",
      "Epoch 80/20000\n",
      "99800/99800 [==============================] - 1s 6us/sample - loss: -13.9700\n",
      "Epoch 81/20000\n",
      "99800/99800 [==============================] - 1s 6us/sample - loss: -14.6279\n",
      "Epoch 82/20000\n",
      "99800/99800 [==============================] - 1s 6us/sample - loss: -14.8842\n",
      "Epoch 83/20000\n",
      "99800/99800 [==============================] - 1s 6us/sample - loss: -14.4993\n",
      "Epoch 84/20000\n",
      "99800/99800 [==============================] - 1s 6us/sample - loss: -14.5726\n",
      "Epoch 85/20000\n",
      "99800/99800 [==============================] - 1s 6us/sample - loss: -15.1507\n",
      "Epoch 86/20000\n",
      "99800/99800 [==============================] - 1s 6us/sample - loss: -15.4727\n",
      "Epoch 87/20000\n",
      "99800/99800 [==============================] - 1s 6us/sample - loss: -15.0917\n",
      "Epoch 88/20000\n",
      "99800/99800 [==============================] - 1s 6us/sample - loss: -15.1122\n",
      "Epoch 89/20000\n",
      "99800/99800 [==============================] - 1s 6us/sample - loss: -15.8237\n",
      "Epoch 90/20000\n"
     ]
    },
    {
     "name": "stdout",
     "output_type": "stream",
     "text": [
      "99800/99800 [==============================] - 1s 6us/sample - loss: -15.9415\n",
      "Epoch 91/20000\n",
      "99800/99800 [==============================] - 1s 6us/sample - loss: -15.7115\n",
      "Epoch 92/20000\n",
      "99800/99800 [==============================] - 1s 6us/sample - loss: -15.8673\n",
      "Epoch 93/20000\n",
      "99800/99800 [==============================] - 1s 6us/sample - loss: -16.3916\n",
      "Epoch 94/20000\n",
      "99800/99800 [==============================] - 1s 6us/sample - loss: -16.3516\n",
      "Epoch 95/20000\n",
      "99800/99800 [==============================] - 1s 6us/sample - loss: -15.7757\n",
      "Epoch 96/20000\n",
      "99800/99800 [==============================] - 1s 6us/sample - loss: -14.5386\n",
      "Epoch 97/20000\n",
      "99800/99800 [==============================] - 1s 6us/sample - loss: -14.3141\n",
      "Epoch 98/20000\n",
      "99800/99800 [==============================] - 1s 6us/sample - loss: -16.6995\n",
      "Epoch 99/20000\n",
      "99800/99800 [==============================] - 1s 6us/sample - loss: -13.9415\n",
      "Epoch 100/20000\n",
      "99800/99800 [==============================] - 1s 6us/sample - loss: -16.8005\n",
      "Epoch 101/20000\n",
      "99800/99800 [==============================] - 1s 6us/sample - loss: -15.2731\n",
      "Epoch 102/20000\n",
      "99800/99800 [==============================] - 1s 6us/sample - loss: -15.2645\n",
      "Epoch 103/20000\n",
      "99800/99800 [==============================] - 1s 6us/sample - loss: -16.4385\n",
      "Epoch 104/20000\n",
      "99800/99800 [==============================] - 1s 6us/sample - loss: -16.2699\n",
      "Epoch 105/20000\n",
      "99800/99800 [==============================] - 1s 6us/sample - loss: -15.7193\n",
      "Epoch 106/20000\n",
      "99800/99800 [==============================] - 1s 6us/sample - loss: -15.8144\n",
      "Epoch 107/20000\n",
      "99800/99800 [==============================] - 1s 6us/sample - loss: -15.7109\n",
      "Epoch 108/20000\n",
      "99800/99800 [==============================] - 1s 6us/sample - loss: -16.6286\n",
      "Epoch 109/20000\n",
      "99800/99800 [==============================] - 1s 6us/sample - loss: -16.0083\n",
      "Epoch 110/20000\n",
      "99800/99800 [==============================] - 1s 6us/sample - loss: -16.4110\n",
      "Epoch 111/20000\n",
      "99800/99800 [==============================] - 1s 6us/sample - loss: -15.1610\n",
      "Epoch 112/20000\n",
      "99800/99800 [==============================] - 1s 6us/sample - loss: -16.7265\n",
      "Epoch 113/20000\n",
      "99800/99800 [==============================] - 1s 6us/sample - loss: -15.4463\n",
      "Epoch 114/20000\n",
      "99800/99800 [==============================] - 1s 6us/sample - loss: -16.4825\n",
      "Epoch 115/20000\n",
      "99800/99800 [==============================] - 1s 6us/sample - loss: -16.2890\n",
      "Epoch 116/20000\n",
      "99800/99800 [==============================] - 1s 6us/sample - loss: -16.4332\n",
      "Epoch 117/20000\n",
      "99800/99800 [==============================] - 1s 6us/sample - loss: -15.1870\n",
      "Epoch 118/20000\n",
      "99800/99800 [==============================] - 1s 6us/sample - loss: -16.4301\n",
      "Epoch 119/20000\n",
      "99800/99800 [==============================] - 1s 6us/sample - loss: -15.4408\n",
      "Epoch 120/20000\n",
      "99800/99800 [==============================] - 1s 6us/sample - loss: -16.7255\n",
      "Epoch 121/20000\n",
      "99800/99800 [==============================] - 1s 6us/sample - loss: -14.6174\n",
      "Epoch 122/20000\n",
      "99800/99800 [==============================] - 1s 6us/sample - loss: -16.6440\n",
      "Epoch 123/20000\n",
      "99800/99800 [==============================] - 1s 6us/sample - loss: -15.6857\n",
      "Epoch 124/20000\n",
      "99800/99800 [==============================] - 1s 6us/sample - loss: -15.8305\n",
      "Epoch 125/20000\n",
      "99800/99800 [==============================] - 1s 6us/sample - loss: -16.4067\n",
      "Epoch 126/20000\n",
      "99800/99800 [==============================] - 1s 6us/sample - loss: -15.8398\n",
      "Epoch 127/20000\n",
      "99800/99800 [==============================] - 1s 6us/sample - loss: -15.9536\n",
      "Epoch 128/20000\n",
      "99800/99800 [==============================] - 1s 6us/sample - loss: -16.3475\n",
      "Epoch 129/20000\n",
      "99800/99800 [==============================] - 1s 6us/sample - loss: -16.7557\n",
      "Epoch 130/20000\n",
      "99800/99800 [==============================] - 1s 6us/sample - loss: -16.6238\n",
      "Epoch 131/20000\n",
      "99800/99800 [==============================] - 1s 6us/sample - loss: -16.1549\n",
      "Epoch 132/20000\n",
      "99800/99800 [==============================] - 1s 6us/sample - loss: -16.4283\n",
      "Epoch 133/20000\n",
      "99800/99800 [==============================] - 1s 8us/sample - loss: -16.9703\n",
      "Epoch 134/20000\n",
      "99800/99800 [==============================] - 1s 6us/sample - loss: -16.9931\n",
      "Epoch 135/20000\n",
      "99800/99800 [==============================] - 1s 6us/sample - loss: -16.9063\n",
      "Epoch 136/20000\n",
      "99800/99800 [==============================] - 1s 6us/sample - loss: -16.9212\n",
      "Epoch 137/20000\n",
      "99800/99800 [==============================] - 1s 6us/sample - loss: -17.1122\n",
      "Epoch 138/20000\n",
      "99800/99800 [==============================] - 1s 6us/sample - loss: -17.2186\n",
      "Epoch 139/20000\n",
      "99800/99800 [==============================] - 1s 6us/sample - loss: -17.3643\n",
      "Epoch 140/20000\n",
      "99800/99800 [==============================] - 1s 6us/sample - loss: -17.4353\n",
      "Epoch 141/20000\n",
      "99800/99800 [==============================] - 1s 6us/sample - loss: -17.5839\n",
      "Epoch 142/20000\n",
      "99800/99800 [==============================] - 1s 6us/sample - loss: -17.4238\n",
      "Epoch 143/20000\n",
      "99800/99800 [==============================] - 1s 6us/sample - loss: -17.2569\n",
      "Epoch 144/20000\n",
      "99800/99800 [==============================] - 1s 6us/sample - loss: -15.2151\n",
      "Epoch 145/20000\n",
      "99800/99800 [==============================] - 1s 6us/sample - loss: -14.0255\n",
      "Epoch 146/20000\n",
      "99800/99800 [==============================] - 1s 6us/sample - loss: -16.7125\n",
      "Epoch 147/20000\n",
      "99800/99800 [==============================] - 1s 6us/sample - loss: -15.7976\n",
      "Epoch 148/20000\n",
      "99800/99800 [==============================] - 1s 6us/sample - loss: -16.5161\n",
      "Epoch 149/20000\n",
      "99800/99800 [==============================] - 1s 6us/sample - loss: -16.4824\n",
      "Epoch 150/20000\n",
      "99800/99800 [==============================] - 1s 6us/sample - loss: -16.2252\n",
      "Epoch 151/20000\n",
      "99800/99800 [==============================] - 1s 6us/sample - loss: -15.8240\n",
      "Epoch 152/20000\n",
      "99800/99800 [==============================] - 1s 6us/sample - loss: -17.4403\n",
      "Epoch 153/20000\n",
      "99800/99800 [==============================] - 1s 6us/sample - loss: -15.5750\n",
      "Epoch 154/20000\n",
      "99800/99800 [==============================] - 1s 6us/sample - loss: -16.5037\n",
      "Epoch 155/20000\n",
      "99800/99800 [==============================] - 1s 6us/sample - loss: -16.8994\n",
      "Epoch 156/20000\n",
      "99800/99800 [==============================] - 1s 6us/sample - loss: -16.3473\n",
      "Epoch 157/20000\n",
      "99800/99800 [==============================] - 1s 6us/sample - loss: -16.8184\n",
      "Epoch 158/20000\n",
      "99800/99800 [==============================] - 1s 6us/sample - loss: -16.9923\n",
      "Epoch 159/20000\n",
      "99800/99800 [==============================] - 1s 6us/sample - loss: -16.7305\n",
      "Epoch 160/20000\n",
      "99800/99800 [==============================] - 1s 6us/sample - loss: -16.5862\n",
      "Epoch 161/20000\n",
      "99800/99800 [==============================] - 1s 6us/sample - loss: -16.5990\n",
      "Epoch 162/20000\n",
      "99800/99800 [==============================] - 1s 6us/sample - loss: -17.3109\n",
      "Epoch 163/20000\n",
      "99800/99800 [==============================] - 1s 6us/sample - loss: -16.5977\n",
      "Epoch 164/20000\n",
      "99800/99800 [==============================] - 1s 6us/sample - loss: -16.9873\n",
      "Epoch 165/20000\n",
      "99800/99800 [==============================] - 1s 6us/sample - loss: -16.1970\n",
      "Epoch 166/20000\n",
      "99800/99800 [==============================] - 1s 6us/sample - loss: -16.8062\n",
      "Epoch 167/20000\n",
      "99800/99800 [==============================] - 1s 6us/sample - loss: -17.1515\n",
      "Epoch 168/20000\n",
      "99800/99800 [==============================] - 1s 6us/sample - loss: -16.3030\n",
      "Epoch 169/20000\n",
      "99800/99800 [==============================] - 1s 6us/sample - loss: -17.3320\n",
      "Epoch 170/20000\n",
      "99800/99800 [==============================] - 1s 6us/sample - loss: -15.9693\n",
      "Epoch 171/20000\n",
      "99800/99800 [==============================] - 1s 6us/sample - loss: -17.2988\n",
      "Epoch 172/20000\n",
      "99800/99800 [==============================] - 1s 6us/sample - loss: -16.7673\n",
      "Epoch 173/20000\n",
      "99800/99800 [==============================] - 1s 6us/sample - loss: -16.2998\n",
      "Epoch 174/20000\n",
      "99800/99800 [==============================] - 1s 6us/sample - loss: -17.2953\n",
      "Epoch 175/20000\n",
      "99800/99800 [==============================] - 1s 6us/sample - loss: -17.0117\n",
      "Epoch 176/20000\n",
      "99800/99800 [==============================] - 1s 6us/sample - loss: -16.7625\n",
      "Epoch 177/20000\n",
      "99800/99800 [==============================] - 1s 6us/sample - loss: -17.1203\n"
     ]
    },
    {
     "name": "stdout",
     "output_type": "stream",
     "text": [
      "Epoch 178/20000\n",
      "99800/99800 [==============================] - 1s 6us/sample - loss: -17.3476\n",
      "Epoch 179/20000\n",
      "99800/99800 [==============================] - 1s 6us/sample - loss: -17.2322\n",
      "Epoch 180/20000\n",
      "99800/99800 [==============================] - 1s 6us/sample - loss: -17.0019\n",
      "Epoch 181/20000\n",
      "99800/99800 [==============================] - 1s 6us/sample - loss: -17.2873\n",
      "Epoch 182/20000\n",
      "99800/99800 [==============================] - 1s 6us/sample - loss: -17.5814\n",
      "Epoch 183/20000\n",
      "99800/99800 [==============================] - 1s 6us/sample - loss: -17.4165\n",
      "Epoch 184/20000\n",
      "99800/99800 [==============================] - 1s 6us/sample - loss: -17.3706\n",
      "Epoch 185/20000\n",
      "99800/99800 [==============================] - 1s 6us/sample - loss: -17.4582\n",
      "Epoch 186/20000\n",
      "99800/99800 [==============================] - 1s 6us/sample - loss: -17.7650\n",
      "Epoch 187/20000\n",
      "99800/99800 [==============================] - 1s 6us/sample - loss: -17.6658\n",
      "Epoch 188/20000\n",
      "99800/99800 [==============================] - 1s 6us/sample - loss: -17.7178\n",
      "Epoch 189/20000\n",
      "99800/99800 [==============================] - 1s 6us/sample - loss: -17.7078\n",
      "Epoch 190/20000\n",
      "99800/99800 [==============================] - 1s 6us/sample - loss: -17.6653\n",
      "Epoch 191/20000\n",
      "99800/99800 [==============================] - 1s 6us/sample - loss: -18.0626\n",
      "Epoch 192/20000\n",
      "99800/99800 [==============================] - 1s 6us/sample - loss: -17.7438\n",
      "Epoch 193/20000\n",
      "99800/99800 [==============================] - 1s 6us/sample - loss: -17.7315\n",
      "Epoch 194/20000\n",
      "99800/99800 [==============================] - 1s 6us/sample - loss: -18.0530\n",
      "Epoch 195/20000\n",
      "99800/99800 [==============================] - 1s 6us/sample - loss: -17.6030\n",
      "Epoch 196/20000\n",
      "99800/99800 [==============================] - 1s 6us/sample - loss: -17.9591\n",
      "Epoch 197/20000\n",
      "99800/99800 [==============================] - 1s 6us/sample - loss: -17.7862\n",
      "Epoch 198/20000\n",
      "99800/99800 [==============================] - 1s 6us/sample - loss: -17.5063\n",
      "Epoch 199/20000\n",
      "99800/99800 [==============================] - 1s 6us/sample - loss: -18.2107\n",
      "Epoch 200/20000\n",
      "99800/99800 [==============================] - 1s 6us/sample - loss: -16.7761\n",
      "Epoch 201/20000\n",
      "99800/99800 [==============================] - 1s 6us/sample - loss: -18.1145\n",
      "Epoch 202/20000\n",
      "99800/99800 [==============================] - 1s 6us/sample - loss: -17.4789\n",
      "Epoch 203/20000\n",
      "99800/99800 [==============================] - 1s 6us/sample - loss: -16.5017\n",
      "Epoch 204/20000\n",
      "99800/99800 [==============================] - 1s 6us/sample - loss: -18.0929\n",
      "Epoch 205/20000\n",
      "99800/99800 [==============================] - 1s 6us/sample - loss: -16.1531\n",
      "Epoch 206/20000\n",
      "99800/99800 [==============================] - 1s 6us/sample - loss: -17.0554\n",
      "Epoch 207/20000\n",
      "99800/99800 [==============================] - 1s 6us/sample - loss: -17.5937\n",
      "Epoch 208/20000\n",
      "99800/99800 [==============================] - 1s 6us/sample - loss: -15.3376\n",
      "Epoch 209/20000\n",
      "99800/99800 [==============================] - 1s 6us/sample - loss: -17.9160\n",
      "Epoch 210/20000\n",
      "99800/99800 [==============================] - 1s 6us/sample - loss: -17.2943\n",
      "Epoch 211/20000\n",
      "99800/99800 [==============================] - 1s 6us/sample - loss: -15.9622\n",
      "Epoch 212/20000\n",
      "99800/99800 [==============================] - 1s 6us/sample - loss: -17.1281\n",
      "Epoch 213/20000\n",
      "99800/99800 [==============================] - 1s 6us/sample - loss: -17.0018\n",
      "Epoch 214/20000\n",
      "99800/99800 [==============================] - 1s 6us/sample - loss: -17.4070\n",
      "Epoch 215/20000\n",
      "99800/99800 [==============================] - 1s 6us/sample - loss: -16.4975\n",
      "Epoch 216/20000\n",
      "99800/99800 [==============================] - 1s 6us/sample - loss: -16.0880\n",
      "Epoch 217/20000\n",
      "99800/99800 [==============================] - 1s 6us/sample - loss: -17.0547\n",
      "Epoch 218/20000\n",
      "99800/99800 [==============================] - 1s 6us/sample - loss: -16.9205\n",
      "Epoch 219/20000\n",
      "99800/99800 [==============================] - 1s 6us/sample - loss: -16.6335\n",
      "Epoch 220/20000\n",
      "99800/99800 [==============================] - 1s 6us/sample - loss: -16.6632\n",
      "Epoch 221/20000\n",
      "99800/99800 [==============================] - 1s 6us/sample - loss: -15.7128\n",
      "Epoch 222/20000\n",
      "99800/99800 [==============================] - 1s 6us/sample - loss: -17.5011\n",
      "Epoch 223/20000\n",
      "99800/99800 [==============================] - 1s 6us/sample - loss: -16.3180\n",
      "Epoch 224/20000\n",
      "99800/99800 [==============================] - 1s 6us/sample - loss: -16.4760\n",
      "Epoch 225/20000\n",
      "99800/99800 [==============================] - 1s 6us/sample - loss: -17.4469\n",
      "Epoch 226/20000\n",
      "99800/99800 [==============================] - 1s 6us/sample - loss: -16.9113\n",
      "Epoch 227/20000\n",
      "99800/99800 [==============================] - 1s 6us/sample - loss: -16.5660\n",
      "Epoch 228/20000\n",
      "99800/99800 [==============================] - 1s 6us/sample - loss: -17.0733\n",
      "Epoch 229/20000\n",
      "99800/99800 [==============================] - 1s 6us/sample - loss: -17.3822\n",
      "Epoch 230/20000\n",
      "99800/99800 [==============================] - 1s 6us/sample - loss: -17.3818\n",
      "Epoch 231/20000\n",
      "99800/99800 [==============================] - 1s 6us/sample - loss: -17.2516\n",
      "Epoch 232/20000\n",
      "99800/99800 [==============================] - 1s 6us/sample - loss: -17.1129\n",
      "Epoch 233/20000\n",
      "99800/99800 [==============================] - 1s 6us/sample - loss: -17.2812\n",
      "Epoch 234/20000\n",
      "99800/99800 [==============================] - 1s 6us/sample - loss: -17.6247\n",
      "Epoch 235/20000\n",
      "99800/99800 [==============================] - 1s 6us/sample - loss: -17.6538\n",
      "Epoch 236/20000\n",
      "99800/99800 [==============================] - 1s 6us/sample - loss: -17.5719\n",
      "Epoch 237/20000\n",
      "99800/99800 [==============================] - 1s 6us/sample - loss: -17.6915\n",
      "Epoch 238/20000\n",
      "99800/99800 [==============================] - 1s 6us/sample - loss: -17.7108\n",
      "Epoch 239/20000\n",
      "99800/99800 [==============================] - 1s 6us/sample - loss: -17.7094\n",
      "Epoch 240/20000\n",
      "99800/99800 [==============================] - 1s 6us/sample - loss: -17.9525\n",
      "Epoch 241/20000\n",
      "99800/99800 [==============================] - 1s 6us/sample - loss: -18.1467\n",
      "Epoch 242/20000\n",
      "99800/99800 [==============================] - 1s 6us/sample - loss: -17.8558\n",
      "Epoch 243/20000\n",
      "99800/99800 [==============================] - 1s 6us/sample - loss: -18.0481\n",
      "Epoch 244/20000\n",
      "99800/99800 [==============================] - 1s 6us/sample - loss: -18.3567\n",
      "Epoch 245/20000\n",
      "99800/99800 [==============================] - 1s 6us/sample - loss: -18.0905\n",
      "Epoch 246/20000\n",
      "99800/99800 [==============================] - 1s 6us/sample - loss: -18.2783\n",
      "Epoch 247/20000\n",
      "99800/99800 [==============================] - 1s 6us/sample - loss: -18.4715\n",
      "Epoch 248/20000\n",
      "99800/99800 [==============================] - 1s 6us/sample - loss: -18.2968\n",
      "Epoch 249/20000\n",
      "99800/99800 [==============================] - 1s 6us/sample - loss: -18.6213\n",
      "Epoch 250/20000\n",
      "99800/99800 [==============================] - 1s 6us/sample - loss: -18.3872\n",
      "Epoch 251/20000\n",
      "99800/99800 [==============================] - 1s 6us/sample - loss: -18.4165\n",
      "Epoch 252/20000\n",
      "99800/99800 [==============================] - 1s 6us/sample - loss: -18.7098\n",
      "Epoch 253/20000\n",
      "99800/99800 [==============================] - 1s 6us/sample - loss: -18.7409\n",
      "Epoch 254/20000\n",
      "99800/99800 [==============================] - 1s 6us/sample - loss: -17.9985\n",
      "Epoch 255/20000\n",
      "99800/99800 [==============================] - 1s 6us/sample - loss: -15.8879\n",
      "Epoch 256/20000\n",
      "99800/99800 [==============================] - 1s 6us/sample - loss: -13.1168\n",
      "Epoch 257/20000\n",
      "99800/99800 [==============================] - 1s 6us/sample - loss: -16.5736\n",
      "Epoch 258/20000\n",
      "99800/99800 [==============================] - 1s 6us/sample - loss: -17.9785\n",
      "Epoch 259/20000\n",
      "99800/99800 [==============================] - 1s 6us/sample - loss: -13.9094\n",
      "Epoch 260/20000\n",
      "99800/99800 [==============================] - 1s 6us/sample - loss: -18.8381\n",
      "Epoch 261/20000\n",
      "99800/99800 [==============================] - 1s 6us/sample - loss: -14.4630\n",
      "Epoch 262/20000\n",
      "99800/99800 [==============================] - 1s 6us/sample - loss: -17.8214\n",
      "Epoch 263/20000\n",
      "99800/99800 [==============================] - 1s 6us/sample - loss: -17.0873\n",
      "Epoch 264/20000\n",
      "99800/99800 [==============================] - 1s 6us/sample - loss: -16.2748\n",
      "Epoch 265/20000\n"
     ]
    },
    {
     "name": "stdout",
     "output_type": "stream",
     "text": [
      "99800/99800 [==============================] - 1s 6us/sample - loss: -17.4778\n",
      "Epoch 266/20000\n",
      "99800/99800 [==============================] - 1s 6us/sample - loss: -16.3817\n",
      "Epoch 267/20000\n",
      "99800/99800 [==============================] - 1s 6us/sample - loss: -16.6249\n",
      "Epoch 268/20000\n",
      "99800/99800 [==============================] - 1s 6us/sample - loss: -17.2056\n",
      "Epoch 269/20000\n",
      "99800/99800 [==============================] - 1s 6us/sample - loss: -16.8748\n",
      "Epoch 270/20000\n",
      "99800/99800 [==============================] - 1s 6us/sample - loss: -16.5378\n",
      "Epoch 271/20000\n",
      "99800/99800 [==============================] - 1s 7us/sample - loss: -15.8520\n",
      "Epoch 272/20000\n",
      "99800/99800 [==============================] - 1s 7us/sample - loss: -17.4331\n",
      "Epoch 273/20000\n",
      "99800/99800 [==============================] - 1s 6us/sample - loss: -16.1615\n",
      "Epoch 274/20000\n",
      "99800/99800 [==============================] - 1s 6us/sample - loss: -16.6805\n",
      "Epoch 275/20000\n",
      "99800/99800 [==============================] - 1s 6us/sample - loss: -17.3486\n",
      "Epoch 276/20000\n",
      "99800/99800 [==============================] - 1s 6us/sample - loss: -16.3411\n",
      "Epoch 277/20000\n",
      "99800/99800 [==============================] - 1s 6us/sample - loss: -16.2933\n",
      "Epoch 278/20000\n",
      "99800/99800 [==============================] - 1s 6us/sample - loss: -17.2886\n",
      "Epoch 279/20000\n",
      "99800/99800 [==============================] - 1s 6us/sample - loss: -17.3756\n",
      "Epoch 280/20000\n",
      "99800/99800 [==============================] - 1s 6us/sample - loss: -16.7733\n",
      "Epoch 281/20000\n",
      "99800/99800 [==============================] - 1s 6us/sample - loss: -16.8085\n",
      "Epoch 282/20000\n",
      "99800/99800 [==============================] - 1s 6us/sample - loss: -17.2957\n",
      "Epoch 283/20000\n",
      "99800/99800 [==============================] - 1s 6us/sample - loss: -17.4474\n",
      "Epoch 284/20000\n",
      "99800/99800 [==============================] - 1s 6us/sample - loss: -17.3124\n",
      "Epoch 285/20000\n",
      "99800/99800 [==============================] - 1s 7us/sample - loss: -17.2562\n",
      "Epoch 286/20000\n",
      "99800/99800 [==============================] - 1s 6us/sample - loss: -17.3628\n",
      "Epoch 287/20000\n",
      "99800/99800 [==============================] - 1s 6us/sample - loss: -17.5382\n",
      "Epoch 288/20000\n",
      "99800/99800 [==============================] - 1s 6us/sample - loss: -17.6818\n",
      "Epoch 289/20000\n",
      "99800/99800 [==============================] - 1s 6us/sample - loss: -17.7966\n",
      "Epoch 290/20000\n",
      "99800/99800 [==============================] - 1s 6us/sample - loss: -17.7630\n",
      "Epoch 291/20000\n",
      "99800/99800 [==============================] - 1s 6us/sample - loss: -17.7198\n",
      "Epoch 292/20000\n",
      "99800/99800 [==============================] - 1s 6us/sample - loss: -17.9673\n",
      "Epoch 293/20000\n",
      "99800/99800 [==============================] - 1s 6us/sample - loss: -18.1389\n",
      "Epoch 294/20000\n",
      "99800/99800 [==============================] - 1s 6us/sample - loss: -18.1130\n",
      "Epoch 295/20000\n",
      "99800/99800 [==============================] - 1s 6us/sample - loss: -18.1865\n",
      "Epoch 296/20000\n",
      "99800/99800 [==============================] - 1s 6us/sample - loss: -18.2420\n",
      "Epoch 297/20000\n",
      "99800/99800 [==============================] - 1s 6us/sample - loss: -18.3490\n",
      "Epoch 298/20000\n",
      "99800/99800 [==============================] - 1s 6us/sample - loss: -18.5374\n",
      "Epoch 299/20000\n",
      "99800/99800 [==============================] - 1s 6us/sample - loss: -18.4790\n",
      "Epoch 300/20000\n",
      "99800/99800 [==============================] - 1s 6us/sample - loss: -18.4475\n",
      "Epoch 301/20000\n",
      "99800/99800 [==============================] - 1s 6us/sample - loss: -18.8336\n",
      "Epoch 302/20000\n",
      "99800/99800 [==============================] - 1s 6us/sample - loss: -18.5406\n",
      "Epoch 303/20000\n",
      "99800/99800 [==============================] - 1s 6us/sample - loss: -18.7526\n",
      "Epoch 304/20000\n",
      "99800/99800 [==============================] - 1s 6us/sample - loss: -18.8286\n",
      "Epoch 305/20000\n",
      "99800/99800 [==============================] - 1s 6us/sample - loss: -18.6763\n",
      "Epoch 306/20000\n",
      "99800/99800 [==============================] - 1s 6us/sample - loss: -18.9725\n",
      "Epoch 307/20000\n",
      "99800/99800 [==============================] - 1s 6us/sample - loss: -18.8849\n",
      "Epoch 308/20000\n",
      "99800/99800 [==============================] - 1s 6us/sample - loss: -18.8278\n",
      "Epoch 309/20000\n",
      "99800/99800 [==============================] - 1s 6us/sample - loss: -19.1051\n",
      "Epoch 310/20000\n",
      "99800/99800 [==============================] - 1s 6us/sample - loss: -18.8715\n",
      "Epoch 311/20000\n",
      "99800/99800 [==============================] - 1s 6us/sample - loss: -19.0279\n",
      "Epoch 312/20000\n",
      "99800/99800 [==============================] - 1s 6us/sample - loss: -19.0095\n",
      "Epoch 313/20000\n",
      "99800/99800 [==============================] - 1s 6us/sample - loss: -18.3907\n",
      "Epoch 314/20000\n",
      "99800/99800 [==============================] - 1s 6us/sample - loss: -16.6339\n",
      "Epoch 315/20000\n",
      "99800/99800 [==============================] - 1s 6us/sample - loss: -11.7761\n",
      "Epoch 316/20000\n",
      "99800/99800 [==============================] - 1s 6us/sample - loss: -11.5089\n",
      "Epoch 317/20000\n",
      "99800/99800 [==============================] - 1s 6us/sample - loss: -12.5954\n",
      "Epoch 318/20000\n",
      "99800/99800 [==============================] - 1s 6us/sample - loss: -12.1794\n",
      "Epoch 319/20000\n",
      "99800/99800 [==============================] - 1s 6us/sample - loss: -13.3215\n",
      "Epoch 320/20000\n",
      "99800/99800 [==============================] - 1s 6us/sample - loss: -13.2366\n",
      "Epoch 321/20000\n",
      "99800/99800 [==============================] - 1s 6us/sample - loss: -13.6204\n",
      "Epoch 322/20000\n",
      "99800/99800 [==============================] - 1s 6us/sample - loss: -8.3362\n",
      "Epoch 323/20000\n",
      "99800/99800 [==============================] - 1s 6us/sample - loss: -12.4885\n",
      "Epoch 324/20000\n",
      "99800/99800 [==============================] - 1s 6us/sample - loss: -8.7888\n",
      "Epoch 325/20000\n",
      "99800/99800 [==============================] - 1s 6us/sample - loss: -13.7378\n",
      "Epoch 326/20000\n",
      "99800/99800 [==============================] - 1s 6us/sample - loss: -14.7730\n",
      "Epoch 327/20000\n",
      "99800/99800 [==============================] - 1s 6us/sample - loss: -13.5849\n",
      "Epoch 328/20000\n",
      "99800/99800 [==============================] - 1s 6us/sample - loss: -13.6797\n",
      "Epoch 329/20000\n",
      "99800/99800 [==============================] - 1s 6us/sample - loss: -13.5748\n",
      "Epoch 330/20000\n",
      "99800/99800 [==============================] - 1s 6us/sample - loss: -14.4293\n",
      "Epoch 331/20000\n",
      "99800/99800 [==============================] - 1s 6us/sample - loss: -14.5351\n",
      "Epoch 332/20000\n",
      "99800/99800 [==============================] - 1s 6us/sample - loss: -14.2033\n",
      "Epoch 333/20000\n",
      "99800/99800 [==============================] - 1s 6us/sample - loss: -15.1346\n",
      "Epoch 334/20000\n",
      "99800/99800 [==============================] - 1s 6us/sample - loss: -15.2714\n",
      "Epoch 335/20000\n",
      "99800/99800 [==============================] - 1s 6us/sample - loss: -14.6897\n",
      "Epoch 336/20000\n",
      "99800/99800 [==============================] - 1s 6us/sample - loss: -14.9921\n",
      "Epoch 337/20000\n",
      "99800/99800 [==============================] - 1s 6us/sample - loss: -15.4658\n",
      "Epoch 338/20000\n",
      "99800/99800 [==============================] - 1s 6us/sample - loss: -15.2137\n",
      "Epoch 339/20000\n",
      "99800/99800 [==============================] - 1s 6us/sample - loss: -15.1175\n",
      "Epoch 340/20000\n",
      "99800/99800 [==============================] - 1s 6us/sample - loss: -14.9422\n",
      "Epoch 341/20000\n",
      "99800/99800 [==============================] - 1s 6us/sample - loss: -15.6332\n",
      "Epoch 342/20000\n",
      "99800/99800 [==============================] - 1s 6us/sample - loss: -14.0029\n",
      "Epoch 343/20000\n",
      "99800/99800 [==============================] - 1s 6us/sample - loss: -15.7500\n",
      "Epoch 344/20000\n",
      "99800/99800 [==============================] - 1s 6us/sample - loss: -13.2524\n",
      "Epoch 345/20000\n",
      "99800/99800 [==============================] - 1s 6us/sample - loss: -15.3888\n",
      "Epoch 346/20000\n",
      "99800/99800 [==============================] - 1s 6us/sample - loss: -15.2583\n",
      "Epoch 347/20000\n",
      "99800/99800 [==============================] - 1s 6us/sample - loss: -14.3880\n",
      "Epoch 348/20000\n",
      "99800/99800 [==============================] - 1s 6us/sample - loss: -14.9220\n",
      "Epoch 349/20000\n",
      "99800/99800 [==============================] - 1s 6us/sample - loss: -15.5818\n",
      "Epoch 350/20000\n",
      "99800/99800 [==============================] - 1s 6us/sample - loss: -15.8742\n",
      "Epoch 351/20000\n",
      "99800/99800 [==============================] - 1s 6us/sample - loss: -15.3097\n",
      "Epoch 352/20000\n",
      "99800/99800 [==============================] - 1s 6us/sample - loss: -15.2926\n"
     ]
    },
    {
     "name": "stdout",
     "output_type": "stream",
     "text": [
      "Epoch 353/20000\n",
      "99800/99800 [==============================] - 1s 6us/sample - loss: -15.5836\n",
      "Epoch 354/20000\n",
      "99800/99800 [==============================] - 1s 6us/sample - loss: -14.8540\n",
      "Epoch 355/20000\n",
      "99800/99800 [==============================] - 1s 6us/sample - loss: -15.8096\n",
      "Epoch 356/20000\n",
      "99800/99800 [==============================] - 1s 6us/sample - loss: -15.1471\n",
      "Epoch 357/20000\n",
      "99800/99800 [==============================] - 1s 6us/sample - loss: -15.3476\n",
      "Epoch 358/20000\n",
      "99800/99800 [==============================] - 1s 6us/sample - loss: -15.7175\n",
      "Epoch 359/20000\n",
      "99800/99800 [==============================] - 1s 6us/sample - loss: -15.3827\n",
      "Epoch 360/20000\n",
      "99800/99800 [==============================] - 1s 6us/sample - loss: -15.2169\n",
      "Epoch 361/20000\n",
      "99800/99800 [==============================] - 1s 6us/sample - loss: -15.5039\n",
      "Epoch 362/20000\n",
      "99800/99800 [==============================] - 1s 6us/sample - loss: -15.3119\n",
      "Epoch 363/20000\n",
      "99800/99800 [==============================] - 1s 6us/sample - loss: -15.5232\n",
      "Epoch 364/20000\n",
      "99800/99800 [==============================] - 1s 6us/sample - loss: -16.1397\n",
      "Epoch 365/20000\n",
      "99800/99800 [==============================] - 1s 6us/sample - loss: -15.5839\n",
      "Epoch 366/20000\n",
      "99800/99800 [==============================] - 1s 6us/sample - loss: -15.1156\n",
      "Epoch 367/20000\n",
      "99800/99800 [==============================] - 1s 6us/sample - loss: -15.8354\n",
      "Epoch 368/20000\n",
      "99800/99800 [==============================] - 1s 6us/sample - loss: -15.9017\n",
      "Epoch 369/20000\n",
      "99800/99800 [==============================] - 1s 6us/sample - loss: -15.5539\n",
      "Epoch 370/20000\n",
      "99800/99800 [==============================] - 1s 6us/sample - loss: -15.9604\n",
      "Epoch 371/20000\n",
      "99800/99800 [==============================] - 1s 7us/sample - loss: -15.8328\n",
      "Epoch 372/20000\n",
      "99800/99800 [==============================] - 1s 6us/sample - loss: -15.9583\n",
      "Epoch 373/20000\n",
      "99800/99800 [==============================] - 1s 6us/sample - loss: -16.1846\n",
      "Epoch 374/20000\n",
      "99800/99800 [==============================] - 1s 6us/sample - loss: -16.4313\n",
      "Epoch 375/20000\n",
      "99800/99800 [==============================] - 1s 6us/sample - loss: -16.2023\n",
      "Epoch 376/20000\n",
      "99800/99800 [==============================] - 1s 6us/sample - loss: -16.5896\n",
      "Epoch 377/20000\n",
      "99800/99800 [==============================] - 1s 6us/sample - loss: -16.8039\n",
      "Epoch 378/20000\n",
      "99800/99800 [==============================] - 1s 6us/sample - loss: -16.6234\n",
      "Epoch 379/20000\n",
      "99800/99800 [==============================] - 1s 6us/sample - loss: -16.5833\n",
      "Epoch 380/20000\n",
      "99800/99800 [==============================] - 1s 6us/sample - loss: -17.0346\n",
      "Epoch 381/20000\n",
      "99800/99800 [==============================] - 1s 6us/sample - loss: -16.7936\n",
      "Epoch 382/20000\n",
      "99800/99800 [==============================] - 1s 6us/sample - loss: -16.6309\n",
      "Epoch 383/20000\n",
      "99800/99800 [==============================] - 1s 6us/sample - loss: -16.4745\n",
      "Epoch 384/20000\n",
      "99800/99800 [==============================] - 1s 6us/sample - loss: -17.0777\n",
      "Epoch 385/20000\n",
      "99800/99800 [==============================] - 1s 6us/sample - loss: -15.3833\n",
      "Epoch 386/20000\n",
      "99800/99800 [==============================] - 1s 6us/sample - loss: -17.1730\n",
      "Epoch 387/20000\n",
      "99800/99800 [==============================] - 1s 7us/sample - loss: -15.0717\n",
      "Epoch 388/20000\n",
      "99800/99800 [==============================] - 1s 7us/sample - loss: -16.6104\n",
      "Epoch 389/20000\n",
      "99800/99800 [==============================] - 1s 6us/sample - loss: -15.7318\n",
      "Epoch 390/20000\n",
      "99800/99800 [==============================] - 1s 6us/sample - loss: -15.6302\n",
      "Epoch 391/20000\n",
      "99800/99800 [==============================] - 1s 6us/sample - loss: -16.0252\n",
      "Epoch 392/20000\n",
      "99800/99800 [==============================] - 1s 6us/sample - loss: -15.4657\n",
      "Epoch 393/20000\n",
      "99800/99800 [==============================] - 1s 6us/sample - loss: -16.9599\n",
      "Epoch 394/20000\n",
      "99800/99800 [==============================] - 1s 6us/sample - loss: -15.4397\n",
      "Epoch 395/20000\n",
      "99800/99800 [==============================] - 1s 6us/sample - loss: -14.9486\n",
      "Epoch 396/20000\n",
      "99800/99800 [==============================] - 1s 6us/sample - loss: -15.9325\n",
      "Epoch 397/20000\n",
      "99800/99800 [==============================] - 1s 7us/sample - loss: -16.4476\n",
      "Epoch 398/20000\n",
      "99800/99800 [==============================] - 1s 6us/sample - loss: -15.4491\n",
      "Epoch 399/20000\n",
      "99800/99800 [==============================] - 1s 6us/sample - loss: -15.8960\n",
      "Epoch 400/20000\n",
      "99800/99800 [==============================] - 1s 6us/sample - loss: -15.7111\n",
      "Epoch 401/20000\n",
      "99800/99800 [==============================] - 1s 6us/sample - loss: -15.9277\n",
      "Epoch 402/20000\n",
      "99800/99800 [==============================] - 1s 6us/sample - loss: -16.2103\n",
      "Epoch 403/20000\n",
      "99800/99800 [==============================] - 1s 6us/sample - loss: -16.0935\n",
      "Epoch 404/20000\n",
      "99800/99800 [==============================] - 1s 6us/sample - loss: -16.0193\n",
      "Epoch 405/20000\n",
      "99800/99800 [==============================] - 1s 6us/sample - loss: -16.1745\n",
      "Epoch 406/20000\n",
      "99800/99800 [==============================] - 1s 6us/sample - loss: -16.4048\n",
      "Epoch 407/20000\n",
      "99800/99800 [==============================] - 1s 6us/sample - loss: -16.5517\n",
      "Epoch 408/20000\n",
      "99800/99800 [==============================] - 1s 6us/sample - loss: -16.4958\n",
      "Epoch 409/20000\n",
      "99800/99800 [==============================] - 1s 6us/sample - loss: -16.6399\n"
     ]
    },
    {
     "name": "stderr",
     "output_type": "stream",
     "text": [
      "/opt/anaconda3/envs/PythonGPU/lib/python3.7/site-packages/sklearn/base.py:197: FutureWarning: From version 0.24, get_params will raise an AttributeError if a parameter cannot be retrieved as an instance attribute. Previously it would return None.\n",
      "  FutureWarning)\n"
     ]
    },
    {
     "data": {
      "text/plain": [
       "Propagator(activation=None, batch_size=200000,\n",
       "           callbacks=[<tensorflow.python.keras.callbacks.EarlyStopping object at 0x1a36f93350>],\n",
       "           hidden_layer_depth=None, hidden_size=None, input_dim=3, lag_time=100,\n",
       "           learning_rate=0.0005, n_components=25, n_epochs=20000, verbose=True)"
      ]
     },
     "execution_count": 43,
     "metadata": {},
     "output_type": "execute_result"
    }
   ],
   "source": [
    "prop.model.compile(loss=get_mixture_loss_func(prop.input_dim, prop.n_components), optimizer=tf.keras.optimizers.Adam(lr=0.001))\n",
    "prop.fit([traj_prop_scaled, traj_prop_scaled[::-1]])"
   ]
  },
  {
   "cell_type": "code",
   "execution_count": 48,
   "metadata": {},
   "outputs": [],
   "source": [
    "#with open('chig_prop_weights.pkl', 'wb') as f:\n",
    "#    pickle.dump(prop.model.get_weights(), f)"
   ]
  },
  {
   "cell_type": "code",
   "execution_count": 79,
   "metadata": {},
   "outputs": [],
   "source": [
    "with open('/Users/aawad.19/Documents/Ferguson Lab/LSS_all_files/Chignolin/lss_files/chig_prop_weights.pkl', 'rb') as f:\n",
    "    prop.model.set_weights(pickle.load(f))"
   ]
  },
  {
   "cell_type": "markdown",
   "metadata": {},
   "source": [
    "## Generate multiple trajectories"
   ]
  },
  {
   "cell_type": "code",
   "execution_count": 275,
   "metadata": {
    "scrolled": true
   },
   "outputs": [],
   "source": [
    "#synth_trajs = [prop.propagate(traj_prop_scaled[0].reshape(1,-1).astype(np.float32), 10440).reshape(10440, -1) for item in range(100)]\n",
    "#np.save('/Users/aawad.19/Documents/Ferguson Lab/LSS_all_files/Chignolin/synth_trajs_chig', synth_trajs)\n",
    "synth_trajs = np.load('/Users/aawad.19/Documents/Ferguson Lab/LSS_all_files/Chignolin/synth_trajs_chig.npy')"
   ]
  },
  {
   "cell_type": "code",
   "execution_count": 173,
   "metadata": {},
   "outputs": [],
   "source": [
    "# propagator verification\n",
    "#idx = [0,1,2]\n",
    "#-lag / np.log(get_autocorr([item[:, idx] for item in synth_trajs], lag))\n",
    "#get_autocorr(synth_trajs[:, :, item], item_lag)"
   ]
  },
  {
   "cell_type": "code",
   "execution_count": 182,
   "metadata": {},
   "outputs": [],
   "source": [
    "def add_label_to_subplot(ax, label, label_font_size=18):\n",
    "    xlim = ax.get_xlim()\n",
    "    xlim_width = xlim[1] - xlim[0]\n",
    "    ylim = ax.get_ylim()\n",
    "    ylim_width = ylim[1] - ylim[0]\n",
    "    ax.text(xlim[0] - xlim_width * 0.20, ylim[1] + 0.05 * ylim_width, label,\n",
    "            fontsize=label_font_size)\n",
    "    return"
   ]
  },
  {
   "cell_type": "code",
   "execution_count": 183,
   "metadata": {},
   "outputs": [
    {
     "data": {
      "image/png": "[encoded data removed]",
      "text/plain": [
       "<Figure size 864x360 with 2 Axes>"
      ]
     },
     "metadata": {
      "needs_background": "light"
     },
     "output_type": "display_data"
    }
   ],
   "source": [
    "concat_synth_trajs = synth_trajs.reshape(synth_trajs.shape[0] * synth_trajs.shape[1], 3)\n",
    "subplot_labels = ['(a)', '(b)']\n",
    "fig, axes = plt.subplots(1, 2)\n",
    "ax = axes[0]\n",
    "ax.scatter(concat_synth_trajs[:, 0], concat_synth_trajs[:, 1], s=2, label='LSS', alpha=0.5, c='grey')\n",
    "ax.scatter(traj_prop_scaled[:, 0], traj_prop_scaled[:, 1], s=2, label='MD', alpha=0.5, c='orange')\n",
    "ax = axes[1]\n",
    "ax.plot(synth_trajs[0, :, 0], synth_trajs[0, :, 1], label='LSS', alpha=0.5, c='grey')\n",
    "ax.plot(traj_prop_scaled[::100, 0], traj_prop_scaled[::100, 1], label='MD', alpha=0.5, c='orange')\n",
    "ax.set_xlim([0.8, 1.0])\n",
    "ax.set_ylim([0, 0.2])\n",
    "for item in range(2):\n",
    "    axes[item].set_xlabel('$\\psi_1$')\n",
    "    axes[item].set_ylabel('$\\psi_2$')\n",
    "    axes[item].legend()\n",
    "    add_label_to_subplot(axes[item], subplot_labels[item])\n",
    "fig.tight_layout()\n",
    "fig.set_size_inches(12, 5)\n",
    "fig.savefig('R1.png', bbox_inches='tight')"
   ]
  },
  {
   "cell_type": "code",
   "execution_count": 184,
   "metadata": {},
   "outputs": [
    {
     "name": "stderr",
     "output_type": "stream",
     "text": [
      "/Users/aawad.19/.local/lib/python3.7/site-packages/numpy/lib/function_base.py:2526: RuntimeWarning: Degrees of freedom <= 0 for slice\n",
      "  c = cov(x, y, rowvar)\n",
      "/Users/aawad.19/.local/lib/python3.7/site-packages/numpy/lib/function_base.py:2455: RuntimeWarning: divide by zero encountered in true_divide\n",
      "  c *= np.true_divide(1, fact)\n",
      "/Users/aawad.19/.local/lib/python3.7/site-packages/numpy/lib/function_base.py:2455: RuntimeWarning: invalid value encountered in multiply\n",
      "  c *= np.true_divide(1, fact)\n"
     ]
    },
    {
     "ename": "ValueError",
     "evalue": "array must not contain infs or NaNs",
     "output_type": "error",
     "traceback": [
      "\u001b[0;31m---------------------------------------------------------------------------\u001b[0m",
      "\u001b[0;31mValueError\u001b[0m                                Traceback (most recent call last)",
      "\u001b[0;32m<ipython-input-184-b88370bb08f9>\u001b[0m in \u001b[0;36m<module>\u001b[0;34m\u001b[0m\n\u001b[1;32m     18\u001b[0m         \u001b[0;32mif\u001b[0m \u001b[0m_1\u001b[0m \u001b[0;34m==\u001b[0m \u001b[0;36m0\u001b[0m\u001b[0;34m:\u001b[0m\u001b[0;34m\u001b[0m\u001b[0;34m\u001b[0m\u001b[0m\n\u001b[1;32m     19\u001b[0m             \u001b[0mtemp_autocorr\u001b[0m \u001b[0;34m=\u001b[0m \u001b[0;34m[\u001b[0m\u001b[0mget_autocorr\u001b[0m\u001b[0;34m(\u001b[0m\u001b[0mtraj_prop_scaled\u001b[0m\u001b[0;34m[\u001b[0m\u001b[0;34m:\u001b[0m\u001b[0;34m,\u001b[0m \u001b[0mitem\u001b[0m\u001b[0;34m]\u001b[0m\u001b[0;34m,\u001b[0m \u001b[0mitem_lag\u001b[0m\u001b[0;34m)\u001b[0m \u001b[0;32mfor\u001b[0m \u001b[0mitem_lag\u001b[0m \u001b[0;32min\u001b[0m \u001b[0mlag_list\u001b[0m\u001b[0;34m]\u001b[0m\u001b[0;34m\u001b[0m\u001b[0;34m\u001b[0m\u001b[0m\n\u001b[0;32m---> 20\u001b[0;31m             \u001b[0mpopt\u001b[0m\u001b[0;34m,\u001b[0m \u001b[0mpcov\u001b[0m \u001b[0;34m=\u001b[0m \u001b[0mcurve_fit\u001b[0m\u001b[0;34m(\u001b[0m\u001b[0mexp_func\u001b[0m\u001b[0;34m,\u001b[0m \u001b[0mlag_list\u001b[0m \u001b[0;34m/\u001b[0m \u001b[0munit_convert_factor\u001b[0m\u001b[0;34m[\u001b[0m\u001b[0m_1\u001b[0m\u001b[0;34m]\u001b[0m\u001b[0;34m,\u001b[0m \u001b[0mtemp_autocorr\u001b[0m\u001b[0;34m)\u001b[0m\u001b[0;34m\u001b[0m\u001b[0;34m\u001b[0m\u001b[0m\n\u001b[0m\u001b[1;32m     21\u001b[0m \u001b[0;31m#             print(\"MD (i = %d): k, t_i, c_i = \" % (item + 1), popt)\u001b[0m\u001b[0;34m\u001b[0m\u001b[0;34m\u001b[0m\u001b[0;34m\u001b[0m\u001b[0m\n\u001b[1;32m     22\u001b[0m \u001b[0;31m#             print(\"MD (i = %d): t_i = \" % (item + 1), popt)\u001b[0m\u001b[0;34m\u001b[0m\u001b[0;34m\u001b[0m\u001b[0;34m\u001b[0m\u001b[0m\n",
      "\u001b[0;32m/opt/anaconda3/envs/PythonGPU/lib/python3.7/site-packages/scipy/optimize/minpack.py\u001b[0m in \u001b[0;36mcurve_fit\u001b[0;34m(f, xdata, ydata, p0, sigma, absolute_sigma, check_finite, bounds, method, jac, **kwargs)\u001b[0m\n\u001b[1;32m    711\u001b[0m     \u001b[0;31m# NaNs can not be handled\u001b[0m\u001b[0;34m\u001b[0m\u001b[0;34m\u001b[0m\u001b[0;34m\u001b[0m\u001b[0m\n\u001b[1;32m    712\u001b[0m     \u001b[0;32mif\u001b[0m \u001b[0mcheck_finite\u001b[0m\u001b[0;34m:\u001b[0m\u001b[0;34m\u001b[0m\u001b[0;34m\u001b[0m\u001b[0m\n\u001b[0;32m--> 713\u001b[0;31m         \u001b[0mydata\u001b[0m \u001b[0;34m=\u001b[0m \u001b[0mnp\u001b[0m\u001b[0;34m.\u001b[0m\u001b[0masarray_chkfinite\u001b[0m\u001b[0;34m(\u001b[0m\u001b[0mydata\u001b[0m\u001b[0;34m,\u001b[0m \u001b[0mfloat\u001b[0m\u001b[0;34m)\u001b[0m\u001b[0;34m\u001b[0m\u001b[0;34m\u001b[0m\u001b[0m\n\u001b[0m\u001b[1;32m    714\u001b[0m     \u001b[0;32melse\u001b[0m\u001b[0;34m:\u001b[0m\u001b[0;34m\u001b[0m\u001b[0;34m\u001b[0m\u001b[0m\n\u001b[1;32m    715\u001b[0m         \u001b[0mydata\u001b[0m \u001b[0;34m=\u001b[0m \u001b[0mnp\u001b[0m\u001b[0;34m.\u001b[0m\u001b[0masarray\u001b[0m\u001b[0;34m(\u001b[0m\u001b[0mydata\u001b[0m\u001b[0;34m,\u001b[0m \u001b[0mfloat\u001b[0m\u001b[0;34m)\u001b[0m\u001b[0;34m\u001b[0m\u001b[0;34m\u001b[0m\u001b[0m\n",
      "\u001b[0;32m~/.local/lib/python3.7/site-packages/numpy/lib/function_base.py\u001b[0m in \u001b[0;36masarray_chkfinite\u001b[0;34m(a, dtype, order)\u001b[0m\n\u001b[1;32m    497\u001b[0m     \u001b[0;32mif\u001b[0m \u001b[0ma\u001b[0m\u001b[0;34m.\u001b[0m\u001b[0mdtype\u001b[0m\u001b[0;34m.\u001b[0m\u001b[0mchar\u001b[0m \u001b[0;32min\u001b[0m \u001b[0mtypecodes\u001b[0m\u001b[0;34m[\u001b[0m\u001b[0;34m'AllFloat'\u001b[0m\u001b[0;34m]\u001b[0m \u001b[0;32mand\u001b[0m \u001b[0;32mnot\u001b[0m \u001b[0mnp\u001b[0m\u001b[0;34m.\u001b[0m\u001b[0misfinite\u001b[0m\u001b[0;34m(\u001b[0m\u001b[0ma\u001b[0m\u001b[0;34m)\u001b[0m\u001b[0;34m.\u001b[0m\u001b[0mall\u001b[0m\u001b[0;34m(\u001b[0m\u001b[0;34m)\u001b[0m\u001b[0;34m:\u001b[0m\u001b[0;34m\u001b[0m\u001b[0;34m\u001b[0m\u001b[0m\n\u001b[1;32m    498\u001b[0m         raise ValueError(\n\u001b[0;32m--> 499\u001b[0;31m             \"array must not contain infs or NaNs\")\n\u001b[0m\u001b[1;32m    500\u001b[0m     \u001b[0;32mreturn\u001b[0m \u001b[0ma\u001b[0m\u001b[0;34m\u001b[0m\u001b[0;34m\u001b[0m\u001b[0m\n\u001b[1;32m    501\u001b[0m \u001b[0;34m\u001b[0m\u001b[0m\n",
      "\u001b[0;31mValueError\u001b[0m: array must not contain infs or NaNs"
     ]
    },
    {
     "data": {
      "image/png": "[encoded data removed]",
      "text/plain": [
       "<Figure size 1080x360 with 3 Axes>"
      ]
     },
     "metadata": {
      "needs_background": "light"
     },
     "output_type": "display_data"
    }
   ],
   "source": [
    "data_for_autocorr = [traj_prop_scaled, synth_trajs]\n",
    "unit_convert_factor = [5000, 50]\n",
    "lag_time_max = [6, 1, 1]\n",
    "fig, axes = plt.subplots(1, 3)\n",
    "fig.set_size_inches(15, 5)\n",
    "color_list = ['orange', 'grey']\n",
    "label_list = ['MD', 'LSS']\n",
    "\n",
    "from scipy.optimize import curve_fit\n",
    "def exp_func(lag, temp_t):\n",
    "    return np.exp(- lag / temp_t)\n",
    "\n",
    "for item in range(3):\n",
    "    ax = axes[item]\n",
    "    for _1 in range(2):\n",
    "        lag_list = np.array(range(1, lag_time_max[item] * unit_convert_factor[_1], \n",
    "                                  lag_time_max[item] * unit_convert_factor[_1] // 10))\n",
    "        if _1 == 0:\n",
    "            temp_autocorr = [get_autocorr(traj_prop_scaled[:, item], item_lag) for item_lag in lag_list]\n",
    "            popt, pcov = curve_fit(exp_func, lag_list / unit_convert_factor[_1], temp_autocorr)\n",
    "#             print(\"MD (i = %d): k, t_i, c_i = \" % (item + 1), popt)\n",
    "#             print(\"MD (i = %d): t_i = \" % (item + 1), popt)\n",
    "\n",
    "            len_block = traj_prop_scaled.shape[0] // 5\n",
    "            temp_autocorr_block = [[get_autocorr(\n",
    "                traj_prop_scaled[item_traj * len_block: (item_traj + 1) * len_block, item], item_lag) \n",
    "                        for item_lag in lag_list] for item_traj in range(5)]\n",
    "            \n",
    "        else:\n",
    "            temp_autocorr = [get_autocorr(synth_trajs[:, :, item], item_lag) for item_lag in lag_list]\n",
    "            popt, pcov = curve_fit(exp_func, lag_list / unit_convert_factor[_1], temp_autocorr)\n",
    "#             print(\"LSS (i = %d): k, t_i, c_i = \" % (item + 1), popt)\n",
    "#             print(\"LSS (i = %d): t_i = \" % (item + 1), popt)\n",
    "            len_block = synth_trajs.shape[0] // 5\n",
    "            temp_autocorr_block = [[get_autocorr(\n",
    "                synth_trajs[item_traj * len_block: (item_traj + 1) * len_block, :, item], item_lag) \n",
    "                        for item_lag in lag_list] for item_traj in range(5)]\n",
    "        ax.plot(lag_list / unit_convert_factor[_1], temp_autocorr, c=color_list[_1], label=label_list[_1])\n",
    "        for item_traj in range(5):\n",
    "            ax.plot(lag_list / unit_convert_factor[_1], temp_autocorr_block[item_traj], '--', alpha=0.3,\n",
    "                    c=color_list[_1])\n",
    "        ax.set_xlabel('$\\\\tau$/$\\mu$s')\n",
    "        ax.set_ylabel('$C_%d(\\\\tau)$' % (item + 1))\n",
    "    ax.legend()\n",
    "fig.tight_layout()\n",
    "fig.savefig('R2.pdf', bbox_inches='tight')"
   ]
  },
  {
   "cell_type": "code",
   "execution_count": 233,
   "metadata": {},
   "outputs": [
    {
     "name": "stdout",
     "output_type": "stream",
     "text": [
      "WARNING:tensorflow:Entity <bound method MDN.call of <hde.propagator.MDN object at 0x1a36735550>> could not be transformed and will be executed as-is. Please report this to the AutgoGraph team. When filing the bug, set the verbosity to 10 (on Linux, `export AUTOGRAPH_VERBOSITY=10`) and attach the full output. Cause: converting <bound method MDN.call of <hde.propagator.MDN object at 0x1a36735550>>: AssertionError: Bad argument number for Name: 3, expecting 4\n",
      "WARNING: Entity <bound method MDN.call of <hde.propagator.MDN object at 0x1a36735550>> could not be transformed and will be executed as-is. Please report this to the AutgoGraph team. When filing the bug, set the verbosity to 10 (on Linux, `export AUTOGRAPH_VERBOSITY=10`) and attach the full output. Cause: converting <bound method MDN.call of <hde.propagator.MDN object at 0x1a36735550>>: AssertionError: Bad argument number for Name: 3, expecting 4\n"
     ]
    }
   ],
   "source": [
    "#x_prop = prop.propagate(traj_prop_scaled[0].reshape(1,-1).astype(np.float32), 10000)\n",
    "#x_prop = x_prop.reshape(10000, -1)"
   ]
  },
  {
   "cell_type": "code",
   "execution_count": 234,
   "metadata": {},
   "outputs": [
    {
     "data": {
      "text/plain": [
       "434.6498184886298"
      ]
     },
     "execution_count": 234,
     "metadata": {},
     "output_type": "execute_result"
    }
   ],
   "source": [
    "-lag / np.log(np.corrcoef(traj_prop[:-lag:lag, 0], traj_prop[lag::lag, 0])[0][1])*0.2"
   ]
  },
  {
   "cell_type": "code",
   "execution_count": 235,
   "metadata": {},
   "outputs": [
    {
     "name": "stdout",
     "output_type": "stream",
     "text": [
      "nan nan\n",
      "nan nan\n",
      "nan nan\n",
      "11.158098961308184 0.03247696882157672\n",
      "nan nan\n",
      "nan nan\n"
     ]
    },
    {
     "name": "stderr",
     "output_type": "stream",
     "text": [
      "/Users/aawad.19/.local/lib/python3.7/site-packages/numpy/lib/function_base.py:2534: RuntimeWarning: invalid value encountered in true_divide\n",
      "  c /= stddev[:, None]\n",
      "/opt/anaconda3/envs/PythonGPU/lib/python3.7/site-packages/ipykernel_launcher.py:11: RuntimeWarning: invalid value encountered in log\n",
      "  # This is added back by InteractiveShellApp.init_path()\n"
     ]
    }
   ],
   "source": [
    "def get_timescales_blocking(trajs, lag_time, num_blocks):\n",
    "    result = []\n",
    "    temp_size = trajs.shape[0] // num_blocks\n",
    "    for item in range(num_blocks):\n",
    "        temp_traj = trajs[item * temp_size: (item+1) * temp_size]\n",
    "        if temp_traj.ndim == 1:\n",
    "            temp_pair = (temp_traj[:-lag_time:lag_time], temp_traj[lag_time::lag_time])\n",
    "        elif temp_traj.ndim == 2:\n",
    "            temp_pair = (np.concatenate([item_traj[:-lag_time:lag_time] for item_traj in temp_traj]),\n",
    "                         np.concatenate([item_traj[lag_time::lag_time] for item_traj in temp_traj]))\n",
    "        result.append(-lag_time / np.log(np.corrcoef(temp_pair[0], temp_pair[1])[0,1]))\n",
    "    return np.array(result)\n",
    "\n",
    "for item in range(3):\n",
    "    timescales_md = get_timescales_blocking(traj_prop_scaled[:, item], 100, 5)\n",
    "    print(0.2 * timescales_md.mean(), 0.2 * timescales_md.std())\n",
    "for item in range(3):\n",
    "    timescales_lss = get_timescales_blocking(synth_trajs[:,:, item], 1, 5)\n",
    "    print(100 * 0.2 * timescales_lss.mean(), 100 * 0.2 * timescales_lss.std())"
   ]
  },
  {
   "cell_type": "code",
   "execution_count": 236,
   "metadata": {},
   "outputs": [
    {
     "data": {
      "text/plain": [
       "(array([55.75034738,         nan,         nan]),\n",
       " array([2.62648283,        nan,        nan]))"
      ]
     },
     "execution_count": 236,
     "metadata": {},
     "output_type": "execute_result"
    }
   ],
   "source": [
    "np.array(synth_timescales).mean(axis=0), np.array(synth_timescales).std(axis=0)"
   ]
  },
  {
   "cell_type": "code",
   "execution_count": 237,
   "metadata": {
    "scrolled": true
   },
   "outputs": [
    {
     "name": "stderr",
     "output_type": "stream",
     "text": [
      "/opt/anaconda3/envs/PythonGPU/lib/python3.7/site-packages/ipykernel_launcher.py:7: RuntimeWarning: invalid value encountered in log\n",
      "  import sys\n"
     ]
    }
   ],
   "source": [
    "synth_timescales = []\n",
    "for st in synth_trajs:\n",
    "    \n",
    "    tss = []\n",
    "    for i in range(st.shape[1]):\n",
    "        tc = np.corrcoef(st[:-1:1,i], st[1::1,i])[0,1]\n",
    "        ts = -lag/np.log(tc)\n",
    "        tss.append(ts)\n",
    "    synth_timescales.append(tss)"
   ]
  },
  {
   "cell_type": "code",
   "execution_count": 238,
   "metadata": {},
   "outputs": [],
   "source": [
    "synth_timescales = np.array(synth_timescales)"
   ]
  },
  {
   "cell_type": "code",
   "execution_count": 239,
   "metadata": {},
   "outputs": [
    {
     "name": "stderr",
     "output_type": "stream",
     "text": [
      "/opt/anaconda3/envs/PythonGPU/lib/python3.7/site-packages/ipykernel_launcher.py:4: RuntimeWarning: invalid value encountered in log\n",
      "  after removing the cwd from sys.path.\n"
     ]
    }
   ],
   "source": [
    "ref_timescales = [] \n",
    "for i in range(3):\n",
    "    tc = np.corrcoef(traj_prop_scaled[:-lag:lag,i], traj_prop_scaled[lag::lag,i])[0,1]\n",
    "    ts = -lag/np.log(tc)\n",
    "    ref_timescales.append(ts)\n",
    "\n",
    "ref_timescales = np.array(ref_timescales)"
   ]
  },
  {
   "cell_type": "code",
   "execution_count": 240,
   "metadata": {},
   "outputs": [],
   "source": [
    "sort_idx = np.argsort(np.sqrt(np.sum((synth_timescales - ref_timescales)**2, axis=1)))"
   ]
  },
  {
   "cell_type": "code",
   "execution_count": 241,
   "metadata": {},
   "outputs": [],
   "source": [
    "top_synth_trajs = [synth_trajs[i] for i in sort_idx[:10]]  # choose optimal 10 synthetic trajectories\n",
    "#print(top_synth_trajs)"
   ]
  },
  {
   "cell_type": "code",
   "execution_count": 242,
   "metadata": {},
   "outputs": [
    {
     "data": {
      "text/plain": [
       "array([56.94323545,         nan,         nan])"
      ]
     },
     "execution_count": 242,
     "metadata": {},
     "output_type": "execute_result"
    }
   ],
   "source": [
    "np.mean(synth_timescales[sort_idx[:10]], axis=0)"
   ]
  },
  {
   "cell_type": "code",
   "execution_count": 243,
   "metadata": {},
   "outputs": [
    {
     "data": {
      "text/plain": [
       "array([2.27541677,        nan,        nan])"
      ]
     },
     "execution_count": 243,
     "metadata": {},
     "output_type": "execute_result"
    }
   ],
   "source": [
    "np.std(synth_timescales[sort_idx[:10]], axis=0)"
   ]
  },
  {
   "cell_type": "code",
   "execution_count": 244,
   "metadata": {},
   "outputs": [
    {
     "data": {
      "text/plain": [
       "array([2173.24907372,   96.03837423,           nan])"
      ]
     },
     "execution_count": 244,
     "metadata": {},
     "output_type": "execute_result"
    }
   ],
   "source": [
    "ref_timescales"
   ]
  },
  {
   "cell_type": "code",
   "execution_count": 245,
   "metadata": {},
   "outputs": [
    {
     "name": "stdout",
     "output_type": "stream",
     "text": [
      "10.7 1.5524174696260022\n"
     ]
    }
   ],
   "source": [
    "counts_transitions = np.array([14, 9, 11, 11, 12, 10, 11, 10, 8, 11])\n",
    "print(counts_transitions.mean(), counts_transitions.std())"
   ]
  },
  {
   "cell_type": "code",
   "execution_count": 246,
   "metadata": {},
   "outputs": [
    {
     "data": {
      "image/png": "[encoded data removed]",
      "text/plain": [
       "<Figure size 720x360 with 1 Axes>"
      ]
     },
     "metadata": {
      "needs_background": "light"
     },
     "output_type": "display_data"
    }
   ],
   "source": [
    "fig, ax = plt.subplots()\n",
    "ax.plot(top_synth_trajs[9][:, 0])\n",
    "ax.plot(traj_prop_scaled[:, 0])\n",
    "fig.set_size_inches((10, 5))"
   ]
  },
  {
   "cell_type": "markdown",
   "metadata": {},
   "source": [
    "## Free energy comparison"
   ]
  },
  {
   "cell_type": "code",
   "execution_count": 201,
   "metadata": {},
   "outputs": [],
   "source": [
    "best_traj = top_synth_trajs[0]"
   ]
  },
  {
   "cell_type": "code",
   "execution_count": 202,
   "metadata": {},
   "outputs": [],
   "source": [
    "Ff_s, xf_s = np.histogram(np.concatenate(top_synth_trajs)[:,0], bins=100)\n",
    "Ff_r, xf_r = np.histogram(traj_prop_scaled[:,0], bins=100)"
   ]
  },
  {
   "cell_type": "code",
   "execution_count": 203,
   "metadata": {},
   "outputs": [],
   "source": [
    "x_ticks = np.arange(0, 1.01, 0.01)"
   ]
  },
  {
   "cell_type": "code",
   "execution_count": 204,
   "metadata": {},
   "outputs": [],
   "source": [
    "def uncertainty_with_blocking(data_to_use, num=5):\n",
    "    fes_list = []\n",
    "    data_length = data_to_use.shape[0]\n",
    "    for _1 in range(num):\n",
    "        itersample = data_to_use[data_length // num * _1: data_length // num * (_1+1)]\n",
    "        fes_count = np.histogram(itersample, bins=x_ticks, density=False)[0] + 1\n",
    "        fes_count = fes_count / fes_count.sum()\n",
    "        fes_list.append(-np.log(fes_count))\n",
    "    fes_list = np.array(fes_list)\n",
    "    confidence_interval = np.array([fes_list.mean(axis=0) - 1.96 * fes_list.std(axis=0),\n",
    "                           fes_list.mean(axis=0) + 1.96 * fes_list.std(axis=0)]).T\n",
    "    return fes_list, confidence_interval\n",
    "\n",
    "fes_list_md, confidence_interval_md = uncertaity_with_blocking(traj_prop_scaled[:,0])\n",
    "fes_list_lss, confidence_interval_lss = uncertaity_with_blocking(np.concatenate(synth_trajs)[:, 0], num=5)"
   ]
  },
  {
   "cell_type": "code",
   "execution_count": 205,
   "metadata": {},
   "outputs": [],
   "source": [
    "# bootstrap for uncertainty estimation\n",
    "def bootstrap_for_uncertainty_estimate(data_to_use, num=100):\n",
    "    fes_list = []\n",
    "    for _ in range(num):\n",
    "        itersample = np.random.choice(data_to_use, size=data_to_use.shape, replace=True)\n",
    "        fes_list.append(-np.log(np.histogram(itersample, bins=x_ticks, density=True)[0]))\n",
    "    fes_list = np.array(fes_list)\n",
    "    high_per, low_per = 1 - 0.025, 0.025\n",
    "    confidence_interval = []\n",
    "    for item in fes_list.T:\n",
    "        item.sort()\n",
    "        nn = len(item)\n",
    "        low_val, high_val = item[int(np.floor(nn * low_per))], item[int(np.floor(nn * high_per))]\n",
    "        confidence_interval.append([low_val, high_val])\n",
    "    confidence_interval = np.array(confidence_interval)\n",
    "    return fes_list, confidence_interval\n",
    "\n",
    "# fes_list_md, confidence_interval_md = bootstrap_for_uncertainty_estimate(traj_prop_scaled[:,0])\n",
    "# fes_list_lss, confidence_interval_lss = bootstrap_for_uncertainty_estimate(np.concatenate(synth_trajs)[:, 0])"
   ]
  },
  {
   "cell_type": "code",
   "execution_count": 206,
   "metadata": {},
   "outputs": [
    {
     "data": {
      "text/plain": [
       "39.54928331523131"
      ]
     },
     "execution_count": 206,
     "metadata": {},
     "output_type": "execute_result"
    }
   ],
   "source": [
    "np.mean((confidence_interval_md[:, 1] - confidence_interval_md[:, 0]) \n",
    "        / (confidence_interval_lss[:, 1] - confidence_interval_lss[:, 0]))"
   ]
  },
  {
   "cell_type": "code",
   "execution_count": 247,
   "metadata": {},
   "outputs": [
    {
     "data": {
      "image/png": "[encoded data removed]",
      "text/plain": [
       "<Figure size 432x360 with 1 Axes>"
      ]
     },
     "metadata": {
      "needs_background": "light"
     },
     "output_type": "display_data"
    }
   ],
   "source": [
    "fes_offset = fes_list_md.mean() - fes_list_lss.mean()\n",
    "fes_list_lss = fes_list_lss + fes_offset\n",
    "confidence_interval_lss = confidence_interval_lss + fes_offset\n",
    "plt.rcParams['font.size'] = 16\n",
    "fig = plt.figure(figsize=(6, 5))\n",
    "plt.plot(x_ticks[:-1], np.mean(fes_list_md, axis=0), linewidth=3, color='orange')\n",
    "plt.plot(x_ticks[:-1], np.mean(fes_list_lss, axis=0), linewidth=3, color='purple')\n",
    "plt.fill_between(x_ticks[:-1], confidence_interval_md[:, 0], confidence_interval_md[:, 1], alpha=0.4, color='orange')\n",
    "plt.fill_between(x_ticks[:-1], confidence_interval_lss[:, 0], confidence_interval_lss[:, 1], alpha=0.4, color='purple')\n",
    "plt.xlabel(r'$\\psi_1$')\n",
    "plt.ylabel('F ($k_BT$)')\n",
    "i = 0\n",
    "for spine in plt.gca().spines.values():\n",
    "    if (i+1) % 2 == 0:\n",
    "        spine.set_visible(False)\n",
    "    i += 1\n",
    "    \n",
    "plt.legend(['MD', 'LSS'], frameon=False, loc=(0, 0.9))\n",
    "\n",
    "plt.tight_layout()    \n",
    "plt.savefig('fes_comparison.png', dpi=300)"
   ]
  },
  {
   "cell_type": "code",
   "execution_count": 227,
   "metadata": {},
   "outputs": [],
   "source": [
    "# np.sqrt(np.mean((-np.log(Ff_r) - (-np.log(Ff_s)-1.2))**2))"
   ]
  },
  {
   "cell_type": "code",
   "execution_count": 228,
   "metadata": {},
   "outputs": [],
   "source": [
    "def gen_mol_traj(x_scaled):\n",
    "    molgen.is_fitted = True\n",
    "    x_unscaled = prop_scaler.inverse_transform(x_scaled)\n",
    "    synth = scaler.inverse_transform(molgen.transform(x_unscaled)).reshape(-1, 20, 3)\n",
    "    gen_traj = traj_ca.slice(range(synth.shape[0]))\n",
    "    \n",
    "    for i in range(len(gen_traj)):\n",
    "        gen_traj.xyz[i] = synth[i] \n",
    "\n",
    "    gen_traj.superpose(gen_traj[0])\n",
    "    \n",
    "    return gen_traj"
   ]
  },
  {
   "cell_type": "code",
   "execution_count": 229,
   "metadata": {},
   "outputs": [],
   "source": [
    "def get_closest_frames(val, idx, traj, n=10):\n",
    "    matches = np.argsort(np.abs(traj[:,idx] - val))\n",
    "    return matches[:n]"
   ]
  },
  {
   "cell_type": "code",
   "execution_count": 230,
   "metadata": {},
   "outputs": [
    {
     "name": "stdout",
     "output_type": "stream",
     "text": [
      "0.17716458\n"
     ]
    },
    {
     "ename": "NameError",
     "evalue": "name 'synth_all_trajs' is not defined",
     "output_type": "error",
     "traceback": [
      "\u001b[0;31m---------------------------------------------------------------------------\u001b[0m",
      "\u001b[0;31mNameError\u001b[0m                                 Traceback (most recent call last)",
      "\u001b[0;32m<ipython-input-230-870d2cfd1255>\u001b[0m in \u001b[0;36m<module>\u001b[0;34m\u001b[0m\n\u001b[1;32m      6\u001b[0m \u001b[0;34m\u001b[0m\u001b[0m\n\u001b[1;32m      7\u001b[0m \u001b[0mprint\u001b[0m\u001b[0;34m(\u001b[0m\u001b[0mget_RMSD_within_SRV_range\u001b[0m\u001b[0;34m(\u001b[0m\u001b[0mtraj_ca\u001b[0m\u001b[0;34m,\u001b[0m \u001b[0mtraj_prop_scaled\u001b[0m\u001b[0;34m[\u001b[0m\u001b[0;34m:\u001b[0m\u001b[0;34m,\u001b[0m \u001b[0;36m0\u001b[0m\u001b[0;34m]\u001b[0m\u001b[0;34m,\u001b[0m \u001b[0;36m0.4\u001b[0m\u001b[0;34m,\u001b[0m \u001b[0;36m0.5\u001b[0m\u001b[0;34m)\u001b[0m\u001b[0;34m)\u001b[0m\u001b[0;34m\u001b[0m\u001b[0;34m\u001b[0m\u001b[0m\n\u001b[0;32m----> 8\u001b[0;31m print(get_RMSD_within_SRV_range(md.join(synth_all_trajs),\n\u001b[0m\u001b[1;32m      9\u001b[0m                                 np.concatenate(synth_trajs)[:, 0], 0.4, 0.5))\n",
      "\u001b[0;31mNameError\u001b[0m: name 'synth_all_trajs' is not defined"
     ]
    }
   ],
   "source": [
    "def get_RMSD_within_SRV_range(traj, srv_val, val_lo, val_hi):\n",
    "    idx = (srv_val > val_lo) & (srv_val < val_hi)\n",
    "    frames = traj[idx]\n",
    "    result = np.sqrt(frames.xyz.var(axis=0).sum(axis=1).mean())\n",
    "    return result\n",
    "\n",
    "print(get_RMSD_within_SRV_range(traj_ca, traj_prop_scaled[:, 0], 0.4, 0.5))\n",
    "print(get_RMSD_within_SRV_range(md.join(synth_all_trajs),\n",
    "                                np.concatenate(synth_trajs)[:, 0], 0.4, 0.5))"
   ]
  },
  {
   "cell_type": "markdown",
   "metadata": {},
   "source": [
    "Select structures closest to different CV values, then generate ensembles."
   ]
  },
  {
   "cell_type": "markdown",
   "metadata": {},
   "source": [
    "First pose"
   ]
  },
  {
   "cell_type": "code",
   "execution_count": 212,
   "metadata": {},
   "outputs": [],
   "source": [
    "synth_idx = get_closest_frames(0., 0, best_traj)\n",
    "ref_idx = get_closest_frames(0, 0, traj_prop_scaled)"
   ]
  },
  {
   "cell_type": "code",
   "execution_count": 213,
   "metadata": {},
   "outputs": [
    {
     "ename": "ValueError",
     "evalue": "could not broadcast input array from shape (20,3) into shape (10,3)",
     "output_type": "error",
     "traceback": [
      "\u001b[0;31m---------------------------------------------------------------------------\u001b[0m",
      "\u001b[0;31mValueError\u001b[0m                                Traceback (most recent call last)",
      "\u001b[0;32m<ipython-input-213-98279d974bfb>\u001b[0m in \u001b[0;36m<module>\u001b[0;34m\u001b[0m\n\u001b[0;32m----> 1\u001b[0;31m \u001b[0msynth_mol_1\u001b[0m \u001b[0;34m=\u001b[0m \u001b[0mgen_mol_traj\u001b[0m\u001b[0;34m(\u001b[0m\u001b[0mbest_traj\u001b[0m\u001b[0;34m[\u001b[0m\u001b[0msynth_idx\u001b[0m\u001b[0;34m]\u001b[0m\u001b[0;34m)\u001b[0m\u001b[0;34m\u001b[0m\u001b[0;34m\u001b[0m\u001b[0m\n\u001b[0m\u001b[1;32m      2\u001b[0m \u001b[0mref_mol_1\u001b[0m \u001b[0;34m=\u001b[0m \u001b[0mtraj_ca\u001b[0m\u001b[0;34m[\u001b[0m\u001b[0mref_idx\u001b[0m\u001b[0;34m]\u001b[0m\u001b[0;34m\u001b[0m\u001b[0;34m\u001b[0m\u001b[0m\n",
      "\u001b[0;32m<ipython-input-209-2e95fb2597bf>\u001b[0m in \u001b[0;36mgen_mol_traj\u001b[0;34m(x_scaled)\u001b[0m\n\u001b[1;32m      6\u001b[0m \u001b[0;34m\u001b[0m\u001b[0m\n\u001b[1;32m      7\u001b[0m     \u001b[0;32mfor\u001b[0m \u001b[0mi\u001b[0m \u001b[0;32min\u001b[0m \u001b[0mrange\u001b[0m\u001b[0;34m(\u001b[0m\u001b[0mlen\u001b[0m\u001b[0;34m(\u001b[0m\u001b[0mgen_traj\u001b[0m\u001b[0;34m)\u001b[0m\u001b[0;34m)\u001b[0m\u001b[0;34m:\u001b[0m\u001b[0;34m\u001b[0m\u001b[0;34m\u001b[0m\u001b[0m\n\u001b[0;32m----> 8\u001b[0;31m         \u001b[0mgen_traj\u001b[0m\u001b[0;34m.\u001b[0m\u001b[0mxyz\u001b[0m\u001b[0;34m[\u001b[0m\u001b[0mi\u001b[0m\u001b[0;34m]\u001b[0m \u001b[0;34m=\u001b[0m \u001b[0msynth\u001b[0m\u001b[0;34m[\u001b[0m\u001b[0mi\u001b[0m\u001b[0;34m]\u001b[0m\u001b[0;34m\u001b[0m\u001b[0;34m\u001b[0m\u001b[0m\n\u001b[0m\u001b[1;32m      9\u001b[0m \u001b[0;34m\u001b[0m\u001b[0m\n\u001b[1;32m     10\u001b[0m     \u001b[0mgen_traj\u001b[0m\u001b[0;34m.\u001b[0m\u001b[0msuperpose\u001b[0m\u001b[0;34m(\u001b[0m\u001b[0mgen_traj\u001b[0m\u001b[0;34m[\u001b[0m\u001b[0;36m0\u001b[0m\u001b[0;34m]\u001b[0m\u001b[0;34m)\u001b[0m\u001b[0;34m\u001b[0m\u001b[0;34m\u001b[0m\u001b[0m\n",
      "\u001b[0;31mValueError\u001b[0m: could not broadcast input array from shape (20,3) into shape (10,3)"
     ]
    }
   ],
   "source": [
    "synth_mol_1 = gen_mol_traj(best_traj[synth_idx])\n",
    "ref_mol_1 = traj_ca[ref_idx]"
   ]
  },
  {
   "cell_type": "code",
   "execution_count": 214,
   "metadata": {},
   "outputs": [
    {
     "ename": "NameError",
     "evalue": "name 'ref_mol_1' is not defined",
     "output_type": "error",
     "traceback": [
      "\u001b[0;31m---------------------------------------------------------------------------\u001b[0m",
      "\u001b[0;31mNameError\u001b[0m                                 Traceback (most recent call last)",
      "\u001b[0;32m<ipython-input-214-1b8a1d469abb>\u001b[0m in \u001b[0;36m<module>\u001b[0;34m\u001b[0m\n\u001b[0;32m----> 1\u001b[0;31m \u001b[0mnp\u001b[0m\u001b[0;34m.\u001b[0m\u001b[0mmean\u001b[0m\u001b[0;34m(\u001b[0m\u001b[0mnp\u001b[0m\u001b[0;34m.\u001b[0m\u001b[0mconcatenate\u001b[0m\u001b[0;34m(\u001b[0m\u001b[0;34m[\u001b[0m\u001b[0mmd\u001b[0m\u001b[0;34m.\u001b[0m\u001b[0mrmsd\u001b[0m\u001b[0;34m(\u001b[0m\u001b[0msynth_mol_1\u001b[0m\u001b[0;34m,\u001b[0m \u001b[0mref_mol_1\u001b[0m\u001b[0;34m[\u001b[0m\u001b[0mi\u001b[0m\u001b[0;34m]\u001b[0m\u001b[0;34m)\u001b[0m \u001b[0;32mfor\u001b[0m \u001b[0mi\u001b[0m \u001b[0;32min\u001b[0m \u001b[0mrange\u001b[0m\u001b[0;34m(\u001b[0m\u001b[0mlen\u001b[0m\u001b[0;34m(\u001b[0m\u001b[0mref_mol_1\u001b[0m\u001b[0;34m)\u001b[0m\u001b[0;34m)\u001b[0m\u001b[0;34m]\u001b[0m\u001b[0;34m)\u001b[0m\u001b[0;34m)\u001b[0m\u001b[0;34m*\u001b[0m\u001b[0;36m10\u001b[0m \u001b[0;31m# Angstrom\u001b[0m\u001b[0;34m\u001b[0m\u001b[0;34m\u001b[0m\u001b[0m\n\u001b[0m",
      "\u001b[0;31mNameError\u001b[0m: name 'ref_mol_1' is not defined"
     ]
    }
   ],
   "source": [
    "np.mean(np.concatenate([md.rmsd(synth_mol_1, ref_mol_1[i]) for i in range(len(ref_mol_1))]))*10 # Angstrom"
   ]
  },
  {
   "cell_type": "code",
   "execution_count": 215,
   "metadata": {},
   "outputs": [
    {
     "ename": "NameError",
     "evalue": "name 'synth_mol_1' is not defined",
     "output_type": "error",
     "traceback": [
      "\u001b[0;31m---------------------------------------------------------------------------\u001b[0m",
      "\u001b[0;31mNameError\u001b[0m                                 Traceback (most recent call last)",
      "\u001b[0;32m<ipython-input-215-c33d9fee8ad0>\u001b[0m in \u001b[0;36m<module>\u001b[0;34m\u001b[0m\n\u001b[0;32m----> 1\u001b[0;31m \u001b[0mnp\u001b[0m\u001b[0;34m.\u001b[0m\u001b[0mmean\u001b[0m\u001b[0;34m(\u001b[0m\u001b[0mmd\u001b[0m\u001b[0;34m.\u001b[0m\u001b[0mrmsd\u001b[0m\u001b[0;34m(\u001b[0m\u001b[0msynth_mol_1\u001b[0m\u001b[0;34m,\u001b[0m \u001b[0mref_mol_1\u001b[0m\u001b[0;34m[\u001b[0m\u001b[0;36m6\u001b[0m\u001b[0;34m]\u001b[0m\u001b[0;34m)\u001b[0m\u001b[0;34m)\u001b[0m\u001b[0;34m*\u001b[0m\u001b[0;36m10\u001b[0m \u001b[0;31m# Angstrom. Central structure.\u001b[0m\u001b[0;34m\u001b[0m\u001b[0;34m\u001b[0m\u001b[0m\n\u001b[0m",
      "\u001b[0;31mNameError\u001b[0m: name 'synth_mol_1' is not defined"
     ]
    }
   ],
   "source": [
    "np.mean(md.rmsd(synth_mol_1, ref_mol_1[6]))*10 # Angstrom. Central structure. "
   ]
  },
  {
   "cell_type": "code",
   "execution_count": 216,
   "metadata": {},
   "outputs": [
    {
     "ename": "OSError",
     "evalue": "No such file: /Users/aawad/OneDrive/Documents/LSS_all_files/2jof.pdb",
     "output_type": "error",
     "traceback": [
      "\u001b[0;31m---------------------------------------------------------------------------\u001b[0m",
      "\u001b[0;31mOSError\u001b[0m                                   Traceback (most recent call last)",
      "\u001b[0;32m<ipython-input-216-95b7a9c7103e>\u001b[0m in \u001b[0;36m<module>\u001b[0;34m\u001b[0m\n\u001b[0;32m----> 1\u001b[0;31m \u001b[0mref_2jof\u001b[0m \u001b[0;34m=\u001b[0m \u001b[0mmd\u001b[0m\u001b[0;34m.\u001b[0m\u001b[0mload\u001b[0m\u001b[0;34m(\u001b[0m\u001b[0;34m'/Users/aawad/OneDrive/Documents/LSS_all_files/2jof.pdb'\u001b[0m\u001b[0;34m)\u001b[0m\u001b[0;34m\u001b[0m\u001b[0;34m\u001b[0m\u001b[0m\n\u001b[0m\u001b[1;32m      2\u001b[0m \u001b[0mref_2jof\u001b[0m \u001b[0;34m=\u001b[0m \u001b[0mref_2jof\u001b[0m\u001b[0;34m.\u001b[0m\u001b[0matom_slice\u001b[0m\u001b[0;34m(\u001b[0m\u001b[0mref_2jof\u001b[0m\u001b[0;34m.\u001b[0m\u001b[0mtop\u001b[0m\u001b[0;34m.\u001b[0m\u001b[0mselect_atom_indices\u001b[0m\u001b[0;34m(\u001b[0m\u001b[0;34m'alpha'\u001b[0m\u001b[0;34m)\u001b[0m\u001b[0;34m)\u001b[0m\u001b[0;34m\u001b[0m\u001b[0;34m\u001b[0m\u001b[0m\n\u001b[1;32m      3\u001b[0m \u001b[0mnp\u001b[0m\u001b[0;34m.\u001b[0m\u001b[0mmean\u001b[0m\u001b[0;34m(\u001b[0m\u001b[0mmd\u001b[0m\u001b[0;34m.\u001b[0m\u001b[0mrmsd\u001b[0m\u001b[0;34m(\u001b[0m\u001b[0msynth_mol_1\u001b[0m\u001b[0;34m,\u001b[0m \u001b[0mref_2jof\u001b[0m\u001b[0;34m)\u001b[0m\u001b[0;34m)\u001b[0m\u001b[0;34m\u001b[0m\u001b[0;34m\u001b[0m\u001b[0m\n",
      "\u001b[0;32m/opt/anaconda3/envs/PythonGPU/lib/python3.7/site-packages/mdtraj/core/trajectory.py\u001b[0m in \u001b[0;36mload\u001b[0;34m(filename_or_filenames, discard_overlapping_frames, **kwargs)\u001b[0m\n\u001b[1;32m    424\u001b[0m \u001b[0;34m\u001b[0m\u001b[0m\n\u001b[1;32m    425\u001b[0m     \u001b[0;32mif\u001b[0m \u001b[0mloader\u001b[0m\u001b[0;34m.\u001b[0m\u001b[0m__name__\u001b[0m \u001b[0;32mnot\u001b[0m \u001b[0;32min\u001b[0m \u001b[0;34m[\u001b[0m\u001b[0;34m'load_dtr'\u001b[0m\u001b[0;34m]\u001b[0m\u001b[0;34m:\u001b[0m\u001b[0;34m\u001b[0m\u001b[0;34m\u001b[0m\u001b[0m\n\u001b[0;32m--> 426\u001b[0;31m         \u001b[0m_assert_files_exist\u001b[0m\u001b[0;34m(\u001b[0m\u001b[0mfilename_or_filenames\u001b[0m\u001b[0;34m)\u001b[0m\u001b[0;34m\u001b[0m\u001b[0;34m\u001b[0m\u001b[0m\n\u001b[0m\u001b[1;32m    427\u001b[0m     \u001b[0;32melse\u001b[0m\u001b[0;34m:\u001b[0m\u001b[0;34m\u001b[0m\u001b[0;34m\u001b[0m\u001b[0m\n\u001b[1;32m    428\u001b[0m         \u001b[0m_assert_files_or_dirs_exist\u001b[0m\u001b[0;34m(\u001b[0m\u001b[0mfilename_or_filenames\u001b[0m\u001b[0;34m)\u001b[0m\u001b[0;34m\u001b[0m\u001b[0;34m\u001b[0m\u001b[0m\n",
      "\u001b[0;32m/opt/anaconda3/envs/PythonGPU/lib/python3.7/site-packages/mdtraj/core/trajectory.py\u001b[0m in \u001b[0;36m_assert_files_exist\u001b[0;34m(filenames)\u001b[0m\n\u001b[1;32m     97\u001b[0m     \u001b[0;32mfor\u001b[0m \u001b[0mfn\u001b[0m \u001b[0;32min\u001b[0m \u001b[0mfilenames\u001b[0m\u001b[0;34m:\u001b[0m\u001b[0;34m\u001b[0m\u001b[0;34m\u001b[0m\u001b[0m\n\u001b[1;32m     98\u001b[0m         \u001b[0;32mif\u001b[0m \u001b[0;32mnot\u001b[0m \u001b[0;34m(\u001b[0m\u001b[0mos\u001b[0m\u001b[0;34m.\u001b[0m\u001b[0mpath\u001b[0m\u001b[0;34m.\u001b[0m\u001b[0mexists\u001b[0m\u001b[0;34m(\u001b[0m\u001b[0mfn\u001b[0m\u001b[0;34m)\u001b[0m \u001b[0;32mand\u001b[0m \u001b[0mos\u001b[0m\u001b[0;34m.\u001b[0m\u001b[0mpath\u001b[0m\u001b[0;34m.\u001b[0m\u001b[0misfile\u001b[0m\u001b[0;34m(\u001b[0m\u001b[0mfn\u001b[0m\u001b[0;34m)\u001b[0m\u001b[0;34m)\u001b[0m\u001b[0;34m:\u001b[0m\u001b[0;34m\u001b[0m\u001b[0;34m\u001b[0m\u001b[0m\n\u001b[0;32m---> 99\u001b[0;31m             \u001b[0;32mraise\u001b[0m \u001b[0mIOError\u001b[0m\u001b[0;34m(\u001b[0m\u001b[0;34m'No such file: %s'\u001b[0m \u001b[0;34m%\u001b[0m \u001b[0mfn\u001b[0m\u001b[0;34m)\u001b[0m\u001b[0;34m\u001b[0m\u001b[0;34m\u001b[0m\u001b[0m\n\u001b[0m\u001b[1;32m    100\u001b[0m \u001b[0;34m\u001b[0m\u001b[0m\n\u001b[1;32m    101\u001b[0m \u001b[0;34m\u001b[0m\u001b[0m\n",
      "\u001b[0;31mOSError\u001b[0m: No such file: /Users/aawad/OneDrive/Documents/LSS_all_files/2jof.pdb"
     ]
    }
   ],
   "source": [
    "ref_2jof = md.load('/Users/aawad/OneDrive/Documents/LSS_all_files/2jof.pdb')\n",
    "ref_2jof = ref_2jof.atom_slice(ref_2jof.top.select_atom_indices('alpha'))\n",
    "np.mean(md.rmsd(synth_mol_1, ref_2jof))"
   ]
  },
  {
   "cell_type": "code",
   "execution_count": 217,
   "metadata": {},
   "outputs": [
    {
     "ename": "NameError",
     "evalue": "name 'synth_mol_1' is not defined",
     "output_type": "error",
     "traceback": [
      "\u001b[0;31m---------------------------------------------------------------------------\u001b[0m",
      "\u001b[0;31mNameError\u001b[0m                                 Traceback (most recent call last)",
      "\u001b[0;32m<ipython-input-217-79e3963d5ebf>\u001b[0m in \u001b[0;36m<module>\u001b[0;34m\u001b[0m\n\u001b[0;32m----> 1\u001b[0;31m \u001b[0msynth_mol_1\u001b[0m\u001b[0;34m.\u001b[0m\u001b[0msave_pdb\u001b[0m\u001b[0;34m(\u001b[0m\u001b[0;34m'synth_mol_1.pdb'\u001b[0m\u001b[0;34m)\u001b[0m\u001b[0;34m\u001b[0m\u001b[0;34m\u001b[0m\u001b[0m\n\u001b[0m\u001b[1;32m      2\u001b[0m \u001b[0mref_mol_1\u001b[0m\u001b[0;34m.\u001b[0m\u001b[0msave_pdb\u001b[0m\u001b[0;34m(\u001b[0m\u001b[0;34m'ref_mol_1.pdb'\u001b[0m\u001b[0;34m)\u001b[0m\u001b[0;34m\u001b[0m\u001b[0;34m\u001b[0m\u001b[0m\n",
      "\u001b[0;31mNameError\u001b[0m: name 'synth_mol_1' is not defined"
     ]
    }
   ],
   "source": [
    "synth_mol_1.save_pdb('synth_mol_1.pdb')\n",
    "ref_mol_1.save_pdb('ref_mol_1.pdb')"
   ]
  },
  {
   "cell_type": "markdown",
   "metadata": {},
   "source": [
    "Third pose"
   ]
  },
  {
   "cell_type": "code",
   "execution_count": null,
   "metadata": {},
   "outputs": [],
   "source": [
    "synth_idx = get_closest_frames(0.45, 0, best_traj)\n",
    "ref_idx = get_closest_frames(0.45, 0, traj_prop_scaled)"
   ]
  },
  {
   "cell_type": "code",
   "execution_count": null,
   "metadata": {},
   "outputs": [],
   "source": [
    "synth_mol_3 = gen_mol_traj(best_traj[synth_idx])\n",
    "ref_mol_3 = traj_ca[ref_idx]"
   ]
  },
  {
   "cell_type": "code",
   "execution_count": null,
   "metadata": {},
   "outputs": [],
   "source": [
    "synth_mol_3.save_pdb('synth_mol_3.pdb')\n",
    "ref_mol_3.save_pdb('ref_mol_3.pdb')"
   ]
  },
  {
   "cell_type": "code",
   "execution_count": 218,
   "metadata": {},
   "outputs": [
    {
     "ename": "NameError",
     "evalue": "name 'ref_mol_3' is not defined",
     "output_type": "error",
     "traceback": [
      "\u001b[0;31m---------------------------------------------------------------------------\u001b[0m",
      "\u001b[0;31mNameError\u001b[0m                                 Traceback (most recent call last)",
      "\u001b[0;32m<ipython-input-218-d4c75957b864>\u001b[0m in \u001b[0;36m<module>\u001b[0;34m\u001b[0m\n\u001b[0;32m----> 1\u001b[0;31m \u001b[0mnp\u001b[0m\u001b[0;34m.\u001b[0m\u001b[0mmean\u001b[0m\u001b[0;34m(\u001b[0m\u001b[0mnp\u001b[0m\u001b[0;34m.\u001b[0m\u001b[0mconcatenate\u001b[0m\u001b[0;34m(\u001b[0m\u001b[0;34m[\u001b[0m\u001b[0mmd\u001b[0m\u001b[0;34m.\u001b[0m\u001b[0mrmsd\u001b[0m\u001b[0;34m(\u001b[0m\u001b[0msynth_mol_3\u001b[0m\u001b[0;34m,\u001b[0m \u001b[0mref_mol_3\u001b[0m\u001b[0;34m[\u001b[0m\u001b[0mi\u001b[0m\u001b[0;34m]\u001b[0m\u001b[0;34m)\u001b[0m \u001b[0;32mfor\u001b[0m \u001b[0mi\u001b[0m \u001b[0;32min\u001b[0m \u001b[0mrange\u001b[0m\u001b[0;34m(\u001b[0m\u001b[0mlen\u001b[0m\u001b[0;34m(\u001b[0m\u001b[0mref_mol_3\u001b[0m\u001b[0;34m)\u001b[0m\u001b[0;34m)\u001b[0m\u001b[0;34m]\u001b[0m\u001b[0;34m)\u001b[0m\u001b[0;34m)\u001b[0m\u001b[0;34m*\u001b[0m\u001b[0;36m10\u001b[0m \u001b[0;31m# Angstrom\u001b[0m\u001b[0;34m\u001b[0m\u001b[0;34m\u001b[0m\u001b[0m\n\u001b[0m",
      "\u001b[0;31mNameError\u001b[0m: name 'ref_mol_3' is not defined"
     ]
    }
   ],
   "source": [
    "np.mean(np.concatenate([md.rmsd(synth_mol_3, ref_mol_3[i]) for i in range(len(ref_mol_3))]))*10 # Angstrom"
   ]
  },
  {
   "cell_type": "markdown",
   "metadata": {},
   "source": [
    "## TICA"
   ]
  },
  {
   "cell_type": "code",
   "execution_count": 219,
   "metadata": {},
   "outputs": [],
   "source": [
    "import pyemma as py"
   ]
  },
  {
   "cell_type": "code",
   "execution_count": 220,
   "metadata": {},
   "outputs": [],
   "source": [
    "featurizer = py.coordinates.featurizer(traj_ca.topology)\n",
    "featurizer.add_distances_ca(periodic=False)"
   ]
  },
  {
   "cell_type": "code",
   "execution_count": 221,
   "metadata": {},
   "outputs": [],
   "source": [
    "feature_source = py.coordinates.source(traj_ca.xyz, features=featurizer)"
   ]
  },
  {
   "cell_type": "code",
   "execution_count": 222,
   "metadata": {},
   "outputs": [],
   "source": [
    "feature_data = feature_source.get_output()[0]"
   ]
  },
  {
   "cell_type": "code",
   "execution_count": 223,
   "metadata": {},
   "outputs": [],
   "source": [
    "tica = py.coordinates.tica(data=feature_data, lag=100, dim=3, kinetic_map=True)"
   ]
  },
  {
   "cell_type": "code",
   "execution_count": 224,
   "metadata": {},
   "outputs": [],
   "source": [
    "tica_output = tica.get_output()\n",
    "tica_concatenated = np.concatenate(tica_output)"
   ]
  },
  {
   "cell_type": "code",
   "execution_count": 231,
   "metadata": {},
   "outputs": [
    {
     "ename": "ValueError",
     "evalue": "could not broadcast input array from shape (20,3) into shape (10,3)",
     "output_type": "error",
     "traceback": [
      "\u001b[0;31m---------------------------------------------------------------------------\u001b[0m",
      "\u001b[0;31mValueError\u001b[0m                                Traceback (most recent call last)",
      "\u001b[0;32m<ipython-input-231-387030a18e69>\u001b[0m in \u001b[0;36m<module>\u001b[0;34m\u001b[0m\n\u001b[0;32m----> 1\u001b[0;31m \u001b[0msynth_all_trajs\u001b[0m \u001b[0;34m=\u001b[0m \u001b[0;34m[\u001b[0m\u001b[0mgen_mol_traj\u001b[0m\u001b[0;34m(\u001b[0m\u001b[0mx\u001b[0m\u001b[0;34m)\u001b[0m \u001b[0;32mfor\u001b[0m \u001b[0mx\u001b[0m \u001b[0;32min\u001b[0m \u001b[0msynth_trajs\u001b[0m\u001b[0;34m]\u001b[0m\u001b[0;34m\u001b[0m\u001b[0;34m\u001b[0m\u001b[0m\n\u001b[0m",
      "\u001b[0;32m<ipython-input-231-387030a18e69>\u001b[0m in \u001b[0;36m<listcomp>\u001b[0;34m(.0)\u001b[0m\n\u001b[0;32m----> 1\u001b[0;31m \u001b[0msynth_all_trajs\u001b[0m \u001b[0;34m=\u001b[0m \u001b[0;34m[\u001b[0m\u001b[0mgen_mol_traj\u001b[0m\u001b[0;34m(\u001b[0m\u001b[0mx\u001b[0m\u001b[0;34m)\u001b[0m \u001b[0;32mfor\u001b[0m \u001b[0mx\u001b[0m \u001b[0;32min\u001b[0m \u001b[0msynth_trajs\u001b[0m\u001b[0;34m]\u001b[0m\u001b[0;34m\u001b[0m\u001b[0;34m\u001b[0m\u001b[0m\n\u001b[0m",
      "\u001b[0;32m<ipython-input-228-2e95fb2597bf>\u001b[0m in \u001b[0;36mgen_mol_traj\u001b[0;34m(x_scaled)\u001b[0m\n\u001b[1;32m      6\u001b[0m \u001b[0;34m\u001b[0m\u001b[0m\n\u001b[1;32m      7\u001b[0m     \u001b[0;32mfor\u001b[0m \u001b[0mi\u001b[0m \u001b[0;32min\u001b[0m \u001b[0mrange\u001b[0m\u001b[0;34m(\u001b[0m\u001b[0mlen\u001b[0m\u001b[0;34m(\u001b[0m\u001b[0mgen_traj\u001b[0m\u001b[0;34m)\u001b[0m\u001b[0;34m)\u001b[0m\u001b[0;34m:\u001b[0m\u001b[0;34m\u001b[0m\u001b[0;34m\u001b[0m\u001b[0m\n\u001b[0;32m----> 8\u001b[0;31m         \u001b[0mgen_traj\u001b[0m\u001b[0;34m.\u001b[0m\u001b[0mxyz\u001b[0m\u001b[0;34m[\u001b[0m\u001b[0mi\u001b[0m\u001b[0;34m]\u001b[0m \u001b[0;34m=\u001b[0m \u001b[0msynth\u001b[0m\u001b[0;34m[\u001b[0m\u001b[0mi\u001b[0m\u001b[0;34m]\u001b[0m\u001b[0;34m\u001b[0m\u001b[0;34m\u001b[0m\u001b[0m\n\u001b[0m\u001b[1;32m      9\u001b[0m \u001b[0;34m\u001b[0m\u001b[0m\n\u001b[1;32m     10\u001b[0m     \u001b[0mgen_traj\u001b[0m\u001b[0;34m.\u001b[0m\u001b[0msuperpose\u001b[0m\u001b[0;34m(\u001b[0m\u001b[0mgen_traj\u001b[0m\u001b[0;34m[\u001b[0m\u001b[0;36m0\u001b[0m\u001b[0;34m]\u001b[0m\u001b[0;34m)\u001b[0m\u001b[0;34m\u001b[0m\u001b[0;34m\u001b[0m\u001b[0m\n",
      "\u001b[0;31mValueError\u001b[0m: could not broadcast input array from shape (20,3) into shape (10,3)"
     ]
    }
   ],
   "source": [
    "synth_all_trajs = [gen_mol_traj(x) for x in synth_trajs]"
   ]
  },
  {
   "cell_type": "code",
   "execution_count": null,
   "metadata": {},
   "outputs": [],
   "source": [
    "synth_full = [x.xyz for x in synth_all_trajs]"
   ]
  },
  {
   "cell_type": "code",
   "execution_count": null,
   "metadata": {},
   "outputs": [],
   "source": [
    "py.config.show_progress_bars = False"
   ]
  },
  {
   "cell_type": "code",
   "execution_count": null,
   "metadata": {},
   "outputs": [],
   "source": [
    "synth_feat_source = py.coordinates.source(synth_full, features=featurizer)"
   ]
  },
  {
   "cell_type": "code",
   "execution_count": null,
   "metadata": {},
   "outputs": [],
   "source": [
    "synth_feature_data = synth_feat_source.get_output()"
   ]
  },
  {
   "cell_type": "code",
   "execution_count": null,
   "metadata": {},
   "outputs": [],
   "source": [
    "synth_tica_list = tica.transform(synth_feature_data)\n",
    "synth_tica_output = np.concatenate(synth_tica_list)"
   ]
  },
  {
   "cell_type": "code",
   "execution_count": null,
   "metadata": {},
   "outputs": [],
   "source": [
    "np.array([get_timescales([item[:, _1] for item in synth_tica_list], 1) * 100 for _1 in range(3)]) * 0.2"
   ]
  },
  {
   "cell_type": "code",
   "execution_count": null,
   "metadata": {},
   "outputs": [],
   "source": [
    "tica.timescales[:5] * 0.2"
   ]
  },
  {
   "cell_type": "code",
   "execution_count": null,
   "metadata": {},
   "outputs": [],
   "source": [
    "tica_timescales_blocks_md = np.array([get_timescales_blocking(tica_concatenated[:, ii], lag, 5) for ii in range(3)])\n",
    "tica_timescales_blocks_lss = np.array([get_timescales_blocking(np.array(synth_tica_list)[:,:,ii], 1, 5) for ii in range(3)])\n",
    "print(tica_timescales_blocks_md.mean(axis=1) * 0.2, tica_timescales_blocks_md.std(axis=1) * 0.2, \n",
    "      tica_timescales_blocks_lss.mean(axis=1) * 20, tica_timescales_blocks_lss.std(axis=1) * 20)"
   ]
  },
  {
   "cell_type": "code",
   "execution_count": null,
   "metadata": {},
   "outputs": [],
   "source": [
    "fig, ax = plt.subplots(2, 2, figsize=(8, 7), sharex=True)\n",
    "\n",
    "y_axes = [(-2.7, 2.7), (-3, 2)]\n",
    "for i in range(2):\n",
    "    _, _, misc = py.plots.plot_free_energy(tica_concatenated[::10,0], tica_concatenated[::10,i+1], ax=ax[i,0], cbar_label=None, legacy=False)\n",
    "    misc['cbar'].set_ticks(np.arange(0, 11))\n",
    "    _, _, misc = py.plots.plot_free_energy(synth_tica_output[::10,0], synth_tica_output[::10,i+1], ax=ax[i,1], legacy=False)    \n",
    "    misc['cbar'].set_ticks(np.arange(0, 11))\n",
    "    ax[i,0].set_ylim(y_axes[i])\n",
    "    ax[i,1].set_ylim(y_axes[i])\n",
    "    ax[i,1].set_yticks([])\n",
    "    ax[i,0].set_xlim([-2.5, 2])\n",
    "    ax[i,1].set_xlim([-2.5, 2])\n",
    "\n",
    "ax[0,0].set_title('MD')\n",
    "ax[0,1].set_title('LSS')\n",
    "ax[0,0].set_ylabel('TIC2')\n",
    "ax[1,0].set_xlabel('TIC1')\n",
    "ax[1,0].set_ylabel('TIC3')\n",
    "ax[1,1].set_xlabel('TIC1')\n",
    "plt.tight_layout()\n",
    "plt.savefig('tica_trpcage.pdf', dpi=300)"
   ]
  },
  {
   "cell_type": "code",
   "execution_count": null,
   "metadata": {},
   "outputs": [],
   "source": [
    "# for i, x_dim in enumerate(x_prop.T):\n",
    "#     plt.hist(2*(x_dim-0.5), bins=100);\n",
    "#     plt.hist(traj_prop[::100, i], bins=100, alpha=0.5);\n",
    "#     plt.show()"
   ]
  },
  {
   "cell_type": "markdown",
   "metadata": {},
   "source": [
    "## Compare timescales"
   ]
  },
  {
   "cell_type": "code",
   "execution_count": 267,
   "metadata": {},
   "outputs": [
    {
     "name": "stdout",
     "output_type": "stream",
     "text": [
      "Reference Timescale 0: 2173.2490737164603\n",
      "Synthetic Timescale 0: 61.17026538614878\n",
      "\n",
      "Reference Timescale 1: 96.03837422683024\n",
      "Synthetic Timescale 1: nan\n",
      "\n",
      "Reference Timescale 2: nan\n",
      "Synthetic Timescale 2: nan\n",
      "\n"
     ]
    },
    {
     "name": "stderr",
     "output_type": "stream",
     "text": [
      "/opt/anaconda3/envs/PythonGPU/lib/python3.7/site-packages/ipykernel_launcher.py:7: RuntimeWarning: invalid value encountered in log\n",
      "  import sys\n",
      "/opt/anaconda3/envs/PythonGPU/lib/python3.7/site-packages/ipykernel_launcher.py:3: RuntimeWarning: invalid value encountered in log\n",
      "  This is separate from the ipykernel package so we can avoid doing imports until\n"
     ]
    }
   ],
   "source": [
    "for i in range(3):\n",
    "    tc = np.corrcoef(traj_prop_scaled[:-lag:lag,i], traj_prop_scaled[lag::lag,i])[0,1]\n",
    "    ts = -lag/np.log(tc)\n",
    "    print(f'Reference Timescale {i}: {ts}')\n",
    "    \n",
    "    tc = np.corrcoef(x_prop[:-1:1,i], x_prop[1::1,i])[0,1]\n",
    "    ts = -lag/np.log(tc)\n",
    "\n",
    "    print(f'Synthetic Timescale {i}: {ts}\\n')"
   ]
  },
  {
   "cell_type": "code",
   "execution_count": 268,
   "metadata": {},
   "outputs": [
    {
     "data": {
      "text/plain": [
       "array([2063.09231095,  520.24998669,  150.20381646])"
      ]
     },
     "execution_count": 268,
     "metadata": {},
     "output_type": "execute_result"
    }
   ],
   "source": [
    "srv.timescales_"
   ]
  },
  {
   "cell_type": "code",
   "execution_count": 269,
   "metadata": {},
   "outputs": [],
   "source": [
    "x_prop_unscaled = prop_scaler.inverse_transform(x_prop)"
   ]
  },
  {
   "cell_type": "markdown",
   "metadata": {},
   "source": [
    "## Sample molecules"
   ]
  },
  {
   "cell_type": "code",
   "execution_count": 252,
   "metadata": {},
   "outputs": [],
   "source": [
    "molgen.is_fitted = True"
   ]
  },
  {
   "cell_type": "code",
   "execution_count": 253,
   "metadata": {},
   "outputs": [],
   "source": [
    "synth = scaler.inverse_transform(molgen.transform(x_prop_unscaled)).reshape(-1, 20, 3)"
   ]
  },
  {
   "cell_type": "markdown",
   "metadata": {},
   "source": [
    "Using synthetic data, override existing mdtraj struct"
   ]
  },
  {
   "cell_type": "code",
   "execution_count": 254,
   "metadata": {},
   "outputs": [],
   "source": [
    "gen_traj = traj_ca.slice(range(synth.shape[0]))"
   ]
  },
  {
   "cell_type": "code",
   "execution_count": 255,
   "metadata": {},
   "outputs": [
    {
     "ename": "ValueError",
     "evalue": "could not broadcast input array from shape (20,3) into shape (10,3)",
     "output_type": "error",
     "traceback": [
      "\u001b[0;31m---------------------------------------------------------------------------\u001b[0m",
      "\u001b[0;31mValueError\u001b[0m                                Traceback (most recent call last)",
      "\u001b[0;32m<ipython-input-255-5afbd5d9bdfe>\u001b[0m in \u001b[0;36m<module>\u001b[0;34m\u001b[0m\n\u001b[1;32m      1\u001b[0m \u001b[0;32mfor\u001b[0m \u001b[0mi\u001b[0m \u001b[0;32min\u001b[0m \u001b[0mrange\u001b[0m\u001b[0;34m(\u001b[0m\u001b[0mlen\u001b[0m\u001b[0;34m(\u001b[0m\u001b[0mgen_traj\u001b[0m\u001b[0;34m)\u001b[0m\u001b[0;34m)\u001b[0m\u001b[0;34m:\u001b[0m\u001b[0;34m\u001b[0m\u001b[0;34m\u001b[0m\u001b[0m\n\u001b[0;32m----> 2\u001b[0;31m     \u001b[0mgen_traj\u001b[0m\u001b[0;34m.\u001b[0m\u001b[0mxyz\u001b[0m\u001b[0;34m[\u001b[0m\u001b[0mi\u001b[0m\u001b[0;34m]\u001b[0m \u001b[0;34m=\u001b[0m \u001b[0msynth\u001b[0m\u001b[0;34m[\u001b[0m\u001b[0mi\u001b[0m\u001b[0;34m]\u001b[0m\u001b[0;34m\u001b[0m\u001b[0;34m\u001b[0m\u001b[0m\n\u001b[0m",
      "\u001b[0;31mValueError\u001b[0m: could not broadcast input array from shape (20,3) into shape (10,3)"
     ]
    }
   ],
   "source": [
    "for i in range(len(gen_traj)):\n",
    "    gen_traj.xyz[i] = synth[i] "
   ]
  },
  {
   "cell_type": "code",
   "execution_count": 256,
   "metadata": {},
   "outputs": [
    {
     "data": {
      "text/plain": [
       "<mdtraj.Trajectory with 5000 frames, 10 atoms, 10 residues, and unitcells at 0x1a9233b290>"
      ]
     },
     "execution_count": 256,
     "metadata": {},
     "output_type": "execute_result"
    }
   ],
   "source": [
    "gen_traj.superpose(gen_traj[0])"
   ]
  },
  {
   "cell_type": "code",
   "execution_count": 257,
   "metadata": {},
   "outputs": [
    {
     "data": {
      "application/vnd.jupyter.widget-view+json": {
       "model_id": "61f0c82b32844a93a7e5d3e79e6042ba",
       "version_major": 2,
       "version_minor": 0
      },
      "text/plain": [
       "NGLWidget(max_frame=4999)"
      ]
     },
     "metadata": {},
     "output_type": "display_data"
    }
   ],
   "source": [
    "nv.show_mdtraj(gen_traj)"
   ]
  },
  {
   "cell_type": "markdown",
   "metadata": {},
   "source": [
    "Save trajectory"
   ]
  },
  {
   "cell_type": "code",
   "execution_count": 265,
   "metadata": {},
   "outputs": [],
   "source": [
    "gen_traj.save_pdb('/Users/aawad.19/Documents/Ferguson Lab/LSS_all_files/Chignolin/synthetic_trajectory_chig.pdb')"
   ]
  },
  {
   "cell_type": "code",
   "execution_count": 277,
   "metadata": {},
   "outputs": [
    {
     "data": {
      "application/vnd.jupyter.widget-view+json": {
       "model_id": "b8271c5bcfae4edbabec379bf8070516",
       "version_major": 2,
       "version_minor": 0
      },
      "text/plain": [
       "NGLWidget()"
      ]
     },
     "metadata": {},
     "output_type": "display_data"
    }
   ],
   "source": [
    "nv.show_file('/Users/aawad.19/Documents/Ferguson Lab/LSS_all_files/Chignolin/synthetic_trajectory_chig.pdb')"
   ]
  },
  {
   "cell_type": "code",
   "execution_count": 263,
   "metadata": {},
   "outputs": [
    {
     "ename": "ValueError",
     "evalue": "could not broadcast input array from shape (20,3) into shape (10,3)",
     "output_type": "error",
     "traceback": [
      "\u001b[0;31m---------------------------------------------------------------------------\u001b[0m",
      "\u001b[0;31mValueError\u001b[0m                                Traceback (most recent call last)",
      "\u001b[0;32m<ipython-input-263-3ddb669c6b23>\u001b[0m in \u001b[0;36m<module>\u001b[0;34m\u001b[0m\n\u001b[0;32m----> 1\u001b[0;31m \u001b[0mgenerated_complete_traj\u001b[0m \u001b[0;34m=\u001b[0m \u001b[0mgen_mol_traj\u001b[0m\u001b[0;34m(\u001b[0m\u001b[0mbest_traj\u001b[0m\u001b[0;34m)\u001b[0m\u001b[0;34m\u001b[0m\u001b[0;34m\u001b[0m\u001b[0m\n\u001b[0m",
      "\u001b[0;32m<ipython-input-228-2e95fb2597bf>\u001b[0m in \u001b[0;36mgen_mol_traj\u001b[0;34m(x_scaled)\u001b[0m\n\u001b[1;32m      6\u001b[0m \u001b[0;34m\u001b[0m\u001b[0m\n\u001b[1;32m      7\u001b[0m     \u001b[0;32mfor\u001b[0m \u001b[0mi\u001b[0m \u001b[0;32min\u001b[0m \u001b[0mrange\u001b[0m\u001b[0;34m(\u001b[0m\u001b[0mlen\u001b[0m\u001b[0;34m(\u001b[0m\u001b[0mgen_traj\u001b[0m\u001b[0;34m)\u001b[0m\u001b[0;34m)\u001b[0m\u001b[0;34m:\u001b[0m\u001b[0;34m\u001b[0m\u001b[0;34m\u001b[0m\u001b[0m\n\u001b[0;32m----> 8\u001b[0;31m         \u001b[0mgen_traj\u001b[0m\u001b[0;34m.\u001b[0m\u001b[0mxyz\u001b[0m\u001b[0;34m[\u001b[0m\u001b[0mi\u001b[0m\u001b[0;34m]\u001b[0m \u001b[0;34m=\u001b[0m \u001b[0msynth\u001b[0m\u001b[0;34m[\u001b[0m\u001b[0mi\u001b[0m\u001b[0;34m]\u001b[0m\u001b[0;34m\u001b[0m\u001b[0;34m\u001b[0m\u001b[0m\n\u001b[0m\u001b[1;32m      9\u001b[0m \u001b[0;34m\u001b[0m\u001b[0m\n\u001b[1;32m     10\u001b[0m     \u001b[0mgen_traj\u001b[0m\u001b[0;34m.\u001b[0m\u001b[0msuperpose\u001b[0m\u001b[0;34m(\u001b[0m\u001b[0mgen_traj\u001b[0m\u001b[0;34m[\u001b[0m\u001b[0;36m0\u001b[0m\u001b[0;34m]\u001b[0m\u001b[0;34m)\u001b[0m\u001b[0;34m\u001b[0m\u001b[0;34m\u001b[0m\u001b[0m\n",
      "\u001b[0;31mValueError\u001b[0m: could not broadcast input array from shape (20,3) into shape (10,3)"
     ]
    }
   ],
   "source": [
    "generated_complete_traj = gen_mol_traj(best_traj)"
   ]
  },
  {
   "cell_type": "code",
   "execution_count": 264,
   "metadata": {},
   "outputs": [
    {
     "ename": "NameError",
     "evalue": "name 'generated_complete_traj' is not defined",
     "output_type": "error",
     "traceback": [
      "\u001b[0;31m---------------------------------------------------------------------------\u001b[0m",
      "\u001b[0;31mNameError\u001b[0m                                 Traceback (most recent call last)",
      "\u001b[0;32m<ipython-input-264-9ad34e8ea53f>\u001b[0m in \u001b[0;36m<module>\u001b[0;34m\u001b[0m\n\u001b[0;32m----> 1\u001b[0;31m \u001b[0mnv\u001b[0m\u001b[0;34m.\u001b[0m\u001b[0mshow_mdtraj\u001b[0m\u001b[0;34m(\u001b[0m\u001b[0mgenerated_complete_traj\u001b[0m\u001b[0;34m)\u001b[0m\u001b[0;34m\u001b[0m\u001b[0;34m\u001b[0m\u001b[0m\n\u001b[0m",
      "\u001b[0;31mNameError\u001b[0m: name 'generated_complete_traj' is not defined"
     ]
    }
   ],
   "source": [
    "nv.show_mdtraj(generated_complete_traj)"
   ]
  },
  {
   "cell_type": "markdown",
   "metadata": {},
   "source": [
    "## more analysis"
   ]
  },
  {
   "cell_type": "code",
   "execution_count": null,
   "metadata": {},
   "outputs": [],
   "source": [
    "real_rg = md.compute_rg(traj_ca)\n",
    "synth_rg = np.concatenate([md.compute_rg(item) for item in synth_all_trajs])"
   ]
  },
  {
   "cell_type": "code",
   "execution_count": null,
   "metadata": {},
   "outputs": [],
   "source": [
    "# _ = plt.hist(real_rg, normed=True, cumulative=True, label='CDF',\n",
    "#          histtype='step', alpha=0.8, color='k', bins=20)\n",
    "# _ = plt.hist(synth_rg, normed=True, cumulative=True, label='CDF',\n",
    "#          histtype='step', alpha=0.8, color='k', bins=20)"
   ]
  },
  {
   "cell_type": "code",
   "execution_count": null,
   "metadata": {},
   "outputs": [],
   "source": [
    "print(real_rg.mean(), real_rg.std(), synth_rg.mean(), synth_rg.std())"
   ]
  },
  {
   "cell_type": "code",
   "execution_count": null,
   "metadata": {},
   "outputs": [],
   "source": [
    "from scipy.stats import ks_2samp\n",
    "ks_2samp(real_rg, synth_rg)"
   ]
  },
  {
   "cell_type": "code",
   "execution_count": null,
   "metadata": {},
   "outputs": [],
   "source": [
    "fig, ax = plt.subplots()\n",
    "hist_bins = np.linspace(0.5, 1.8, 15)\n",
    "_ = ax.hist(real_rg, alpha=0.5, bins=hist_bins, normed=True, label='original')\n",
    "_ = ax.hist((synth_rg), alpha=0.5, bins=hist_bins, normed=True, label='synthetic')\n",
    "ax.legend()\n",
    "ax.set_xlabel('$R_g$/nm')\n",
    "ax.set_ylabel('probability density')\n",
    "fig.savefig('rg_hist.pdf', bbox_inches = 'tight', dpi=300)"
   ]
  },
  {
   "cell_type": "code",
   "execution_count": null,
   "metadata": {},
   "outputs": [],
   "source": [
    "data_to_plot = real_rg\n",
    "plt.plot(data_to_plot)\n",
    "plt.hlines(0.7, 0, data_to_plot.shape[0], color='r')\n",
    "plt.hlines(1.5, 0, data_to_plot.shape[0], color='y')"
   ]
  },
  {
   "cell_type": "code",
   "execution_count": null,
   "metadata": {},
   "outputs": [],
   "source": [
    "# compute mean first passage time\n",
    "def get_state(rg):\n",
    "    result_states = rg\n",
    "    result_states[np.where(rg < 0.7)] = 0\n",
    "    result_states[np.all([0.7 <= real_rg, real_rg < 1.5], axis=0)] = 1\n",
    "    result_states[np.where(rg >= 1.5)] = 2\n",
    "    return result_states\n",
    "    \n",
    "real_states = get_state(real_rg)"
   ]
  },
  {
   "cell_type": "code",
   "execution_count": null,
   "metadata": {},
   "outputs": [],
   "source": [
    "def get_mfpt_list(states_list, current_state):\n",
    "    mfpt = []\n",
    "    events = []\n",
    "    current_idx = 0\n",
    "    for idx, item in enumerate(states_list):\n",
    "        if abs(item - current_state) == 2:\n",
    "            mfpt.append(idx - current_idx)\n",
    "            events.append([current_idx, idx])\n",
    "            current_state = item\n",
    "            current_idx = idx\n",
    "    return np.array(mfpt), np.array(events)\n",
    "\n",
    "real_mfpt, events = get_mfpt_list(real_states, 0)"
   ]
  },
  {
   "cell_type": "code",
   "execution_count": null,
   "metadata": {},
   "outputs": [],
   "source": [
    "############################"
   ]
  },
  {
   "cell_type": "code",
   "execution_count": null,
   "metadata": {},
   "outputs": [],
   "source": [
    "_, dihedrals = md.compute_psi(traj)"
   ]
  },
  {
   "cell_type": "code",
   "execution_count": null,
   "metadata": {},
   "outputs": [],
   "source": [
    "plt.plot(np.sin(dihedrals[:, 17]))"
   ]
  },
  {
   "cell_type": "code",
   "execution_count": null,
   "metadata": {},
   "outputs": [],
   "source": []
  }
 ],
 "metadata": {
  "kernelspec": {
   "display_name": "Python 3",
   "language": "python",
   "name": "python3"
  },
  "language_info": {
   "codemirror_mode": {
    "name": "ipython",
    "version": 3
   },
   "file_extension": ".py",
   "mimetype": "text/x-python",
   "name": "python",
   "nbconvert_exporter": "python",
   "pygments_lexer": "ipython3",
   "version": "3.7.6"
  }
 },
 "nbformat": 4,
 "nbformat_minor": 2
}
