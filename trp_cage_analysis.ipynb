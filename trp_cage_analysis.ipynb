{
 "cells": [
  {
   "cell_type": "code",
   "execution_count": 2,
   "metadata": {},
   "outputs": [
    {
     "name": "stderr",
     "output_type": "stream",
     "text": [
      "/opt/anaconda3/envs/PythonGPU/lib/python3.7/site-packages/pyemma/__init__.py:92: UserWarning: You are not using the latest release of PyEMMA. Latest is 2.5.7, you have 2.5.6.\n",
      "  .format(latest=latest, current=current), category=UserWarning)\n"
     ]
    },
    {
     "data": {
      "application/vnd.jupyter.widget-view+json": {
       "model_id": "6c6302492a5d490f8f8bbbd72ef532de",
       "version_major": 2,
       "version_minor": 0
      },
      "text/plain": []
     },
     "metadata": {},
     "output_type": "display_data"
    }
   ],
   "source": [
    "%matplotlib inline \n",
    "import numpy as np \n",
    "import os, pickle, time\n",
    "import pyemma as py \n",
    "import mdtraj as md \n",
    "import nglview as nv \n",
    "from sklearn.preprocessing import MinMaxScaler\n",
    "import matplotlib.pyplot as plt"
   ]
  },
  {
   "cell_type": "code",
   "execution_count": 2,
   "metadata": {},
   "outputs": [],
   "source": [
    "os.environ['CUDA_DEVICE_ORDER'] = 'PCI_BUS_ID'\n",
    "os.environ['CUDA_VISIBLE_DEVICES'] = '1' "
   ]
  },
  {
   "cell_type": "code",
   "execution_count": 12,
   "metadata": {},
   "outputs": [
    {
     "ename": "AttributeError",
     "evalue": "module 'tensorflow.keras.backend' has no attribute 'tensorflow'",
     "output_type": "error",
     "traceback": [
      "\u001b[0;31m---------------------------------------------------------------------------\u001b[0m",
      "\u001b[0;31mAttributeError\u001b[0m                            Traceback (most recent call last)",
      "\u001b[0;32m<ipython-input-12-b2c917adddaf>\u001b[0m in \u001b[0;36m<module>\u001b[0;34m\u001b[0m\n\u001b[1;32m     12\u001b[0m \u001b[0;34m\u001b[0m\u001b[0m\n\u001b[1;32m     13\u001b[0m \u001b[0;31m# Create a session with the above options specified.\u001b[0m\u001b[0;34m\u001b[0m\u001b[0;34m\u001b[0m\u001b[0;34m\u001b[0m\u001b[0m\n\u001b[0;32m---> 14\u001b[0;31m \u001b[0mK\u001b[0m\u001b[0;34m.\u001b[0m\u001b[0mtensorflow\u001b[0m\u001b[0;34m.\u001b[0m\u001b[0mcompat\u001b[0m\u001b[0;34m.\u001b[0m\u001b[0mv1\u001b[0m\u001b[0;34m.\u001b[0m\u001b[0mkeras\u001b[0m\u001b[0;34m.\u001b[0m\u001b[0mbackend\u001b[0m\u001b[0;34m.\u001b[0m\u001b[0mset_session\u001b[0m\u001b[0;34m(\u001b[0m\u001b[0mtf\u001b[0m\u001b[0;34m.\u001b[0m\u001b[0mSession\u001b[0m\u001b[0;34m(\u001b[0m\u001b[0mconfig\u001b[0m\u001b[0;34m=\u001b[0m\u001b[0mconfig\u001b[0m\u001b[0;34m)\u001b[0m\u001b[0;34m)\u001b[0m\u001b[0;34m\u001b[0m\u001b[0;34m\u001b[0m\u001b[0m\n\u001b[0m",
      "\u001b[0;32m~/.local/lib/python3.7/site-packages/tensorflow/python/util/deprecation_wrapper.py\u001b[0m in \u001b[0;36m__getattr__\u001b[0;34m(self, name)\u001b[0m\n\u001b[1;32m    104\u001b[0m     \u001b[0;32mif\u001b[0m \u001b[0mname\u001b[0m\u001b[0;34m.\u001b[0m\u001b[0mstartswith\u001b[0m\u001b[0;34m(\u001b[0m\u001b[0;34m'_dw_'\u001b[0m\u001b[0;34m)\u001b[0m\u001b[0;34m:\u001b[0m\u001b[0;34m\u001b[0m\u001b[0;34m\u001b[0m\u001b[0m\n\u001b[1;32m    105\u001b[0m       \u001b[0;32mraise\u001b[0m \u001b[0mAttributeError\u001b[0m\u001b[0;34m(\u001b[0m\u001b[0;34m'Accessing local variables before they are created.'\u001b[0m\u001b[0;34m)\u001b[0m\u001b[0;34m\u001b[0m\u001b[0;34m\u001b[0m\u001b[0m\n\u001b[0;32m--> 106\u001b[0;31m     \u001b[0mattr\u001b[0m \u001b[0;34m=\u001b[0m \u001b[0mgetattr\u001b[0m\u001b[0;34m(\u001b[0m\u001b[0mself\u001b[0m\u001b[0;34m.\u001b[0m\u001b[0m_dw_wrapped_module\u001b[0m\u001b[0;34m,\u001b[0m \u001b[0mname\u001b[0m\u001b[0;34m)\u001b[0m\u001b[0;34m\u001b[0m\u001b[0;34m\u001b[0m\u001b[0m\n\u001b[0m\u001b[1;32m    107\u001b[0m     if (self._dw_warning_count < _PER_MODULE_WARNING_LIMIT and\n\u001b[1;32m    108\u001b[0m         name not in self._dw_deprecated_printed):\n",
      "\u001b[0;31mAttributeError\u001b[0m: module 'tensorflow.keras.backend' has no attribute 'tensorflow'"
     ]
    }
   ],
   "source": [
    "import tensorflow as tf\n",
    "import tensorflow.keras.backend as K\n",
    "#import tensorflow.compat.v1.keras.backend as K\n",
    "\n",
    "#config = tf.compat.v1.ConfigProto()\n",
    "config = tf.ConfigProto()\n",
    "# Don't pre-allocate memory; allocate as-needed\n",
    "config.gpu_options.allow_growth = True\n",
    " \n",
    "# Only allow a total of half the GPU memory to be allocated\n",
    "config.gpu_options.per_process_gpu_memory_fraction = 1.0\n",
    " \n",
    "# Create a session with the above options specified.\n",
    "K.tensorflow.compat.v1.keras.backend.set_session(tf.Session(config=config))"
   ]
  },
  {
   "cell_type": "code",
   "execution_count": 10,
   "metadata": {},
   "outputs": [],
   "source": [
    "import tensorflow.compat"
   ]
  },
  {
   "cell_type": "code",
   "execution_count": null,
   "metadata": {},
   "outputs": [],
   "source": [
    "import sys\n",
    "sys.path.append('/Users/aawad.19/Documents/Ferguson Lab/LSS_all_files/LSS_components')\n",
    "from hde import hde, MolGen, Propagator"
   ]
  },
  {
   "cell_type": "markdown",
   "metadata": {},
   "source": [
    "## generate trajectory"
   ]
  },
  {
   "cell_type": "code",
   "execution_count": 1,
   "metadata": {},
   "outputs": [
    {
     "ename": "NameError",
     "evalue": "name 'md' is not defined",
     "output_type": "error",
     "traceback": [
      "\u001b[0;31m---------------------------------------------------------------------------\u001b[0m",
      "\u001b[0;31mNameError\u001b[0m                                 Traceback (most recent call last)",
      "\u001b[0;32m<ipython-input-1-366cb1dfa9ff>\u001b[0m in \u001b[0;36m<module>\u001b[0;34m\u001b[0m\n\u001b[1;32m      3\u001b[0m \u001b[0;31m#trajs_all = [md.load(item, top='/home/kengyangyao/data/dataset/1_Trpcage_2JOF/0_simulation/200us_DEShaw/DESRES-Trajectory_2JOF-0-protein/2JOF-0-protein/2JOF-0-protein.pdb')\u001b[0m\u001b[0;34m\u001b[0m\u001b[0;34m\u001b[0m\u001b[0;34m\u001b[0m\u001b[0m\n\u001b[1;32m      4\u001b[0m \u001b[0;31m#             for item in trajs_files]\u001b[0m\u001b[0;34m\u001b[0m\u001b[0;34m\u001b[0m\u001b[0;34m\u001b[0m\u001b[0m\n\u001b[0;32m----> 5\u001b[0;31m \u001b[0mtraj\u001b[0m \u001b[0;34m=\u001b[0m \u001b[0mmd\u001b[0m\u001b[0;34m.\u001b[0m\u001b[0mload\u001b[0m\u001b[0;34m(\u001b[0m\u001b[0;34m'/Users/aawad/OneDrive/Documents/LSS_all_files/temp_traj.h5'\u001b[0m\u001b[0;34m)\u001b[0m\u001b[0;34m\u001b[0m\u001b[0;34m\u001b[0m\u001b[0m\n\u001b[0m",
      "\u001b[0;31mNameError\u001b[0m: name 'md' is not defined"
     ]
    }
   ],
   "source": [
    "#trajs_files = ['/home/kengyangyao/data/dataset/1_Trpcage_2JOF/0_simulation/200us_DEShaw/DESRES-Trajectory_2JOF-0-protein/2JOF-0-protein/2JOF-0-protein-%03d.dcd' % item\n",
    "#              for item in range(50)]\n",
    "#trajs_all = [md.load(item, top='/home/kengyangyao/data/dataset/1_Trpcage_2JOF/0_simulation/200us_DEShaw/DESRES-Trajectory_2JOF-0-protein/2JOF-0-protein/2JOF-0-protein.pdb')\n",
    "#             for item in trajs_files]\n",
    "traj = md.load('/Users/aawad/OneDrive/Documents/LSS_all_files/TRPcage/temp_traj.h5')"
   ]
  },
  {
   "cell_type": "code",
   "execution_count": 7,
   "metadata": {},
   "outputs": [],
   "source": [
    "#traj = md.join(trajs_all)"
   ]
  },
  {
   "cell_type": "code",
   "execution_count": 6,
   "metadata": {},
   "outputs": [],
   "source": [
    "def get_timescales(data, lag):\n",
    "    if type(data) is list:\n",
    "        temp_pair = (np.concatenate([item_traj[:-lag:lag] for item_traj in data]),\n",
    "                     np.concatenate([item_traj[lag::lag] for item_traj in data]))\n",
    "    else:\n",
    "        temp_pair = (data[:-lag:lag], data[lag::lag])\n",
    "    return -lag / np.log(np.corrcoef(temp_pair[0], temp_pair[1])[0][1])"
   ]
  },
  {
   "cell_type": "markdown",
   "metadata": {},
   "source": [
    "## Prepare trajectory"
   ]
  },
  {
   "cell_type": "code",
   "execution_count": 7,
   "metadata": {},
   "outputs": [],
   "source": [
    "# trj_dir = \"/home/hsidky/Data/DESRES-Trajectory_2JOF-0-protein/2JOF-0-protein\"\n",
    "# trj_file = os.path.join(trj_dir, \"trp-cage_rmsdmin.dcd\")\n",
    "# pdb_file = os.path.join(trj_dir, \"2JOF-0-protein.pdb\")"
   ]
  },
  {
   "cell_type": "code",
   "execution_count": 8,
   "metadata": {},
   "outputs": [],
   "source": [
    "# traj = md.load(trj_file, top=pdb_file)"
   ]
  },
  {
   "cell_type": "code",
   "execution_count": 9,
   "metadata": {},
   "outputs": [
    {
     "ename": "NameError",
     "evalue": "name 'traj' is not defined",
     "output_type": "error",
     "traceback": [
      "\u001b[1;31m---------------------------------------------------------------------------\u001b[0m",
      "\u001b[1;31mNameError\u001b[0m                                 Traceback (most recent call last)",
      "\u001b[1;32m<ipython-input-9-b090ce7d0471>\u001b[0m in \u001b[0;36m<module>\u001b[1;34m\u001b[0m\n\u001b[1;32m----> 1\u001b[1;33m \u001b[0mtraj\u001b[0m\u001b[1;33m.\u001b[0m\u001b[0msuperpose\u001b[0m\u001b[1;33m(\u001b[0m\u001b[0mtraj\u001b[0m\u001b[1;33m[\u001b[0m\u001b[1;36m0\u001b[0m\u001b[1;33m]\u001b[0m\u001b[1;33m)\u001b[0m\u001b[1;33m\u001b[0m\u001b[1;33m\u001b[0m\u001b[0m\n\u001b[0m",
      "\u001b[1;31mNameError\u001b[0m: name 'traj' is not defined"
     ]
    }
   ],
   "source": [
    "traj.superpose(traj[0])"
   ]
  },
  {
   "cell_type": "code",
   "execution_count": 10,
   "metadata": {},
   "outputs": [
    {
     "ename": "NameError",
     "evalue": "name 'traj' is not defined",
     "output_type": "error",
     "traceback": [
      "\u001b[1;31m---------------------------------------------------------------------------\u001b[0m",
      "\u001b[1;31mNameError\u001b[0m                                 Traceback (most recent call last)",
      "\u001b[1;32m<ipython-input-10-e7bab929bca8>\u001b[0m in \u001b[0;36m<module>\u001b[1;34m\u001b[0m\n\u001b[1;32m----> 1\u001b[1;33m \u001b[0malpha\u001b[0m \u001b[1;33m=\u001b[0m \u001b[0mtraj\u001b[0m\u001b[1;33m.\u001b[0m\u001b[0mtop\u001b[0m\u001b[1;33m.\u001b[0m\u001b[0mselect_atom_indices\u001b[0m\u001b[1;33m(\u001b[0m\u001b[1;34m'alpha'\u001b[0m\u001b[1;33m)\u001b[0m\u001b[1;33m\u001b[0m\u001b[1;33m\u001b[0m\u001b[0m\n\u001b[0m\u001b[0;32m      2\u001b[0m \u001b[0mtraj_ca\u001b[0m \u001b[1;33m=\u001b[0m \u001b[0mtraj\u001b[0m\u001b[1;33m.\u001b[0m\u001b[0matom_slice\u001b[0m\u001b[1;33m(\u001b[0m\u001b[0malpha\u001b[0m\u001b[1;33m)\u001b[0m\u001b[1;33m\u001b[0m\u001b[1;33m\u001b[0m\u001b[0m\n",
      "\u001b[1;31mNameError\u001b[0m: name 'traj' is not defined"
     ]
    }
   ],
   "source": [
    "alpha = traj.top.select_atom_indices('alpha')\n",
    "traj_ca = traj.atom_slice(alpha)"
   ]
  },
  {
   "cell_type": "code",
   "execution_count": 11,
   "metadata": {},
   "outputs": [
    {
     "ename": "NameError",
     "evalue": "name 'traj_ca' is not defined",
     "output_type": "error",
     "traceback": [
      "\u001b[1;31m---------------------------------------------------------------------------\u001b[0m",
      "\u001b[1;31mNameError\u001b[0m                                 Traceback (most recent call last)",
      "\u001b[1;32m<ipython-input-11-51f19fd74123>\u001b[0m in \u001b[0;36m<module>\u001b[1;34m\u001b[0m\n\u001b[1;32m----> 1\u001b[1;33m \u001b[0mtraj_ca\u001b[0m\u001b[1;33m.\u001b[0m\u001b[0msuperpose\u001b[0m\u001b[1;33m(\u001b[0m\u001b[0mtraj_ca\u001b[0m\u001b[1;33m[\u001b[0m\u001b[1;36m0\u001b[0m\u001b[1;33m]\u001b[0m\u001b[1;33m)\u001b[0m\u001b[1;33m\u001b[0m\u001b[1;33m\u001b[0m\u001b[0m\n\u001b[0m",
      "\u001b[1;31mNameError\u001b[0m: name 'traj_ca' is not defined"
     ]
    }
   ],
   "source": [
    "traj_ca.superpose(traj_ca[0])"
   ]
  },
  {
   "cell_type": "code",
   "execution_count": 24,
   "metadata": {},
   "outputs": [],
   "source": [
    "xyz = traj_ca.xyz.reshape(-1, len(alpha)*3)"
   ]
  },
  {
   "cell_type": "code",
   "execution_count": 25,
   "metadata": {},
   "outputs": [],
   "source": [
    "scaler = MinMaxScaler(feature_range=(-1,1))"
   ]
  },
  {
   "cell_type": "code",
   "execution_count": 26,
   "metadata": {},
   "outputs": [],
   "source": [
    "y_train = scaler.fit_transform(xyz)"
   ]
  },
  {
   "cell_type": "markdown",
   "metadata": {},
   "source": [
    "## Load SRV for reference"
   ]
  },
  {
   "cell_type": "code",
   "execution_count": 12,
   "metadata": {},
   "outputs": [
    {
     "name": "stderr",
     "output_type": "stream",
     "text": [
      "Using TensorFlow backend.\n"
     ]
    },
    {
     "name": "stdout",
     "output_type": "stream",
     "text": [
      "WARNING:tensorflow:From C:\\Users\\aawad\\anaconda3\\envs\\PyGPU\\lib\\site-packages\\keras\\backend\\tensorflow_backend.py:517: The name tf.placeholder is deprecated. Please use tf.compat.v1.placeholder instead.\n",
      "\n",
      "WARNING:tensorflow:From C:\\Users\\aawad\\anaconda3\\envs\\PyGPU\\lib\\site-packages\\keras\\backend\\tensorflow_backend.py:4138: The name tf.random_uniform is deprecated. Please use tf.random.uniform instead.\n",
      "\n",
      "WARNING:tensorflow:From C:\\Users\\aawad\\anaconda3\\envs\\PyGPU\\lib\\site-packages\\keras\\backend\\tensorflow_backend.py:131: The name tf.get_default_graph is deprecated. Please use tf.compat.v1.get_default_graph instead.\n",
      "\n",
      "WARNING:tensorflow:From C:\\Users\\aawad\\anaconda3\\envs\\PyGPU\\lib\\site-packages\\keras\\backend\\tensorflow_backend.py:133: The name tf.placeholder_with_default is deprecated. Please use tf.compat.v1.placeholder_with_default instead.\n",
      "\n",
      "WARNING:tensorflow:From C:\\Users\\aawad\\anaconda3\\envs\\PyGPU\\lib\\site-packages\\keras\\backend\\tensorflow_backend.py:4115: The name tf.random_normal is deprecated. Please use tf.random.normal instead.\n",
      "\n"
     ]
    },
    {
     "name": "stderr",
     "output_type": "stream",
     "text": [
      "C:\\Users\\aawad\\anaconda3\\envs\\PyGPU\\lib\\site-packages\\keras\\engine\\saving.py:292: UserWarning: No training configuration found in save file: the model was *not* compiled. Compile it manually.\n",
      "  warnings.warn('No training configuration found in save file: '\n"
     ]
    }
   ],
   "source": [
    "with open('lss_files/hde_model_078.pkl', 'rb') as f:\n",
    "    srv = pickle.load(f)"
   ]
  },
  {
   "cell_type": "code",
   "execution_count": 13,
   "metadata": {},
   "outputs": [
    {
     "name": "stdout",
     "output_type": "stream",
     "text": [
      "_________________________________________________________________\n",
      "Layer (type)                 Output Shape              Param #   \n",
      "=================================================================\n",
      "input_313 (InputLayer)       (None, 257)               0         \n",
      "_________________________________________________________________\n",
      "dense_235 (Dense)            (None, 100)               25800     \n",
      "_________________________________________________________________\n",
      "batch_normalization_79 (Batc (None, 100)               400       \n",
      "_________________________________________________________________\n",
      "dense_236 (Dense)            (None, 100)               10100     \n",
      "_________________________________________________________________\n",
      "dense_237 (Dense)            (None, 7)                 707       \n",
      "_________________________________________________________________\n",
      "gaussian_noise_79 (GaussianN (None, 7)                 0         \n",
      "=================================================================\n",
      "Total params: 37,007\n",
      "Trainable params: 36,807\n",
      "Non-trainable params: 200\n",
      "_________________________________________________________________\n"
     ]
    }
   ],
   "source": [
    "srv._encoder.summary()"
   ]
  },
  {
   "cell_type": "markdown",
   "metadata": {},
   "source": [
    "##  Load SRV coordinates"
   ]
  },
  {
   "cell_type": "code",
   "execution_count": 3,
   "metadata": {},
   "outputs": [
    {
     "name": "stdout",
     "output_type": "stream",
     "text": [
      "[[-2.2220640e+00 -2.7461052e-03 -4.8637390e-05 ...  3.2797718e-01\n",
      "   3.4070015e-03  1.2670994e-02]\n",
      " [-2.2201221e+00  6.9851875e-03  9.7711086e-03 ...  2.9644966e-01\n",
      "   2.1250248e-03  2.9906034e-02]\n",
      " [-2.2246542e+00 -4.0698051e-03 -3.5983324e-03 ...  3.3520985e-01\n",
      "  -8.0108643e-04  8.6567402e-03]\n",
      " ...\n",
      " [-2.1939452e+00  2.8890073e-02  4.3350101e-02 ...  1.6639423e-01\n",
      "   9.8657608e-04  1.0686326e-01]\n",
      " [-2.1928322e+00  3.8845360e-02  6.1335564e-02 ...  1.4590120e-01\n",
      "  -1.3196945e-02  9.5866442e-02]\n",
      " [-2.1893070e+00  4.3324411e-02  2.8441429e-02 ...  1.0629940e-01\n",
      "   6.5448284e-03  1.1007333e-01]]\n"
     ]
    }
   ],
   "source": [
    "Z = np.load('lss_files/hde_coords.npy')\n",
    "print(Z)"
   ]
  },
  {
   "cell_type": "code",
   "execution_count": 4,
   "metadata": {},
   "outputs": [],
   "source": [
    "srv_scaler = MinMaxScaler(feature_range=(-1,1))"
   ]
  },
  {
   "cell_type": "code",
   "execution_count": 6,
   "metadata": {},
   "outputs": [
    {
     "name": "stdout",
     "output_type": "stream",
     "text": [
      "[[-0.9915775  -0.74601257 -0.50507164]\n",
      " [-0.9902868  -0.7438494  -0.5022325 ]\n",
      " [-0.9932991  -0.7467945  -0.50529045]\n",
      " ...\n",
      " [-0.97288823 -0.73645234 -0.4841858 ]\n",
      " [-0.9721484  -0.73249036 -0.48576754]\n",
      " [-0.96980536 -0.73973656 -0.4879125 ]]\n"
     ]
    }
   ],
   "source": [
    "x_train = srv_scaler.fit_transform(Z[:,[0,2,3]])\n",
    "print(x_train)"
   ]
  },
  {
   "cell_type": "markdown",
   "metadata": {},
   "source": [
    "# Fit Generator"
   ]
  },
  {
   "cell_type": "code",
   "execution_count": 38,
   "metadata": {},
   "outputs": [
    {
     "name": "stdout",
     "output_type": "stream",
     "text": [
      "_________________________________________________________________\n",
      "Layer (type)                 Output Shape              Param #   \n",
      "=================================================================\n",
      "dense_1 (Dense)              (None, 200)               20800     \n",
      "_________________________________________________________________\n",
      "dense_2 (Dense)              (None, 200)               40200     \n",
      "_________________________________________________________________\n",
      "dense_3 (Dense)              (None, 200)               40200     \n",
      "_________________________________________________________________\n",
      "dense_4 (Dense)              (None, 60)                12060     \n",
      "=================================================================\n",
      "Total params: 113,260\n",
      "Trainable params: 113,260\n",
      "Non-trainable params: 0\n",
      "_________________________________________________________________\n",
      "_________________________________________________________________\n",
      "Layer (type)                 Output Shape              Param #   \n",
      "=================================================================\n",
      "dense_5 (Dense)              (None, 200)               12800     \n",
      "_________________________________________________________________\n",
      "dense_6 (Dense)              (None, 200)               40200     \n",
      "_________________________________________________________________\n",
      "dense_7 (Dense)              (None, 200)               40200     \n",
      "_________________________________________________________________\n",
      "dense_8 (Dense)              (None, 1)                 201       \n",
      "=================================================================\n",
      "Total params: 93,401\n",
      "Trainable params: 93,401\n",
      "Non-trainable params: 0\n",
      "_________________________________________________________________\n",
      "WARNING:tensorflow:From C:\\Users\\aawad\\anaconda3\\envs\\PyGPU\\lib\\site-packages\\keras\\optimizers.py:790: The name tf.train.Optimizer is deprecated. Please use tf.compat.v1.train.Optimizer instead.\n",
      "\n"
     ]
    }
   ],
   "source": [
    "molgen = MolGen(\n",
    "    latent_dim=x_train.shape[1],\n",
    "    output_dim=y_train.shape[1],\n",
    "    batch_size=20000,\n",
    "    noise_dim=100,\n",
    "    n_epochs=100000,\n",
    "    hidden_layer_depth=3,\n",
    "    hidden_size=200,\n",
    "    n_discriminator=5\n",
    ")"
   ]
  },
  {
   "cell_type": "code",
   "execution_count": 39,
   "metadata": {
    "scrolled": true
   },
   "outputs": [],
   "source": [
    "#molgen.fit(x_train, y_train)"
   ]
  },
  {
   "cell_type": "code",
   "execution_count": 40,
   "metadata": {},
   "outputs": [],
   "source": [
    "#molgen.generator.save('generator.h5')"
   ]
  },
  {
   "cell_type": "code",
   "execution_count": 41,
   "metadata": {},
   "outputs": [],
   "source": [
    "#molgen.discriminator.save('discriminator.h5')"
   ]
  },
  {
   "cell_type": "code",
   "execution_count": 42,
   "metadata": {},
   "outputs": [],
   "source": [
    "# with open('trp_cage_molgen.pkl', 'wb') as f:\n",
    "#     pickle.dump(molgen, f)"
   ]
  },
  {
   "cell_type": "code",
   "execution_count": 43,
   "metadata": {},
   "outputs": [],
   "source": [
    "from hde.molgen import swish"
   ]
  },
  {
   "cell_type": "code",
   "execution_count": 44,
   "metadata": {},
   "outputs": [
    {
     "name": "stdout",
     "output_type": "stream",
     "text": [
      "WARNING:tensorflow:No training configuration found in save file: the model was *not* compiled. Compile it manually.\n",
      "WARNING:tensorflow:No training configuration found in save file: the model was *not* compiled. Compile it manually.\n"
     ]
    }
   ],
   "source": [
    "molgen.generator = tf.keras.models.load_model('lss_files/generator_new_test.h5', custom_objects={'swish': swish})\n",
    "molgen.discriminator = tf.keras.models.load_model('lss_files/discriminator_new_test.h5', custom_objects={'swish': swish})"
   ]
  },
  {
   "cell_type": "markdown",
   "metadata": {},
   "source": [
    "## Propagator"
   ]
  },
  {
   "cell_type": "code",
   "execution_count": 45,
   "metadata": {},
   "outputs": [],
   "source": [
    "n_mix = 25\n",
    "lag = 100"
   ]
  },
  {
   "cell_type": "code",
   "execution_count": 46,
   "metadata": {},
   "outputs": [],
   "source": [
    "prop_scaler = MinMaxScaler(feature_range=(0,1))"
   ]
  },
  {
   "cell_type": "code",
   "execution_count": 47,
   "metadata": {},
   "outputs": [],
   "source": [
    "traj_prop = x_train"
   ]
  },
  {
   "cell_type": "code",
   "execution_count": 48,
   "metadata": {},
   "outputs": [],
   "source": [
    "traj_prop_scaled = prop_scaler.fit_transform(traj_prop)"
   ]
  },
  {
   "cell_type": "code",
   "execution_count": 49,
   "metadata": {},
   "outputs": [],
   "source": [
    "callbacks = [\n",
    "    tf.keras.callbacks.EarlyStopping(monitor='loss', patience=100, restore_best_weights=True)\n",
    "]"
   ]
  },
  {
   "cell_type": "code",
   "execution_count": 50,
   "metadata": {},
   "outputs": [
    {
     "name": "stdout",
     "output_type": "stream",
     "text": [
      "WARNING:tensorflow:From C:\\Users\\aawad\\anaconda3\\envs\\PyGPU\\lib\\site-packages\\tensorflow\\python\\ops\\init_ops.py:1251: calling VarianceScaling.__init__ (from tensorflow.python.ops.init_ops) with dtype is deprecated and will be removed in a future version.\n",
      "Instructions for updating:\n",
      "Call initializer instance with the dtype argument instead of passing it to the constructor\n",
      "WARNING:tensorflow:Entity <bound method MDN.call of <hde.propagator.MDN object at 0x000001807EC39848>> could not be transformed and will be executed as-is. Please report this to the AutgoGraph team. When filing the bug, set the verbosity to 10 (on Linux, `export AUTOGRAPH_VERBOSITY=10`) and attach the full output. Cause: converting <bound method MDN.call of <hde.propagator.MDN object at 0x000001807EC39848>>: AssertionError: Bad argument number for Name: 3, expecting 4\n",
      "WARNING: Entity <bound method MDN.call of <hde.propagator.MDN object at 0x000001807EC39848>> could not be transformed and will be executed as-is. Please report this to the AutgoGraph team. When filing the bug, set the verbosity to 10 (on Linux, `export AUTOGRAPH_VERBOSITY=10`) and attach the full output. Cause: converting <bound method MDN.call of <hde.propagator.MDN object at 0x000001807EC39848>>: AssertionError: Bad argument number for Name: 3, expecting 4\n",
      "WARNING:tensorflow:From C:\\Users\\aawad\\anaconda3\\envs\\PyGPU\\lib\\site-packages\\tensorflow\\python\\ops\\math_ops.py:2403: add_dispatch_support.<locals>.wrapper (from tensorflow.python.ops.array_ops) is deprecated and will be removed in a future version.\n",
      "Instructions for updating:\n",
      "Use tf.where in 2.0, which has the same broadcast rule as np.where\n",
      "WARNING:tensorflow:From C:\\Users\\aawad\\OneDrive\\Documents\\LSS_all_files\\hde\\propagator.py:171: The name tf.keras.backend.get_session is deprecated. Please use tf.compat.v1.keras.backend.get_session instead.\n",
      "\n"
     ]
    }
   ],
   "source": [
    "prop = Propagator(\n",
    "    traj_prop_scaled.shape[1], \n",
    "    n_components=n_mix, \n",
    "    lag_time=lag, \n",
    "    batch_size=200000, \n",
    "    learning_rate=0.0005, \n",
    "    n_epochs=20000,\n",
    "    callbacks=callbacks,\n",
    "    hidden_size=100,\n",
    "    activation='relu'\n",
    ")"
   ]
  },
  {
   "cell_type": "code",
   "execution_count": 51,
   "metadata": {},
   "outputs": [],
   "source": [
    "from hde.propagator import get_mixture_loss_func"
   ]
  },
  {
   "cell_type": "code",
   "execution_count": 52,
   "metadata": {},
   "outputs": [],
   "source": [
    "prop.model.compile(loss=get_mixture_loss_func(prop.input_dim, prop.n_components), optimizer=tf.keras.optimizers.Adam(lr=0.0001))"
   ]
  },
  {
   "cell_type": "markdown",
   "metadata": {},
   "source": [
    "Best so far: \n",
    "- -11.4 (hidden_size = 100, n_mix = 10)\n",
    "- -11.65 (hidden_size = 20, n_mix = 20, activation = relu)\n",
    "- -12.12 (hidden_size = 100, n_mix = 25, activation = relu)"
   ]
  },
  {
   "cell_type": "code",
   "execution_count": 53,
   "metadata": {},
   "outputs": [],
   "source": [
    "#prop.model.compile(loss=get_mixture_loss_func(prop.input_dim, prop.n_components), optimizer=tf.keras.optimizers.Adam(lr=0.001))\n",
    "#prop.fit([traj_prop_scaled, traj_prop_scaled[::-1]])"
   ]
  },
  {
   "cell_type": "code",
   "execution_count": 54,
   "metadata": {},
   "outputs": [],
   "source": [
    "# with open('trp_prop_weights.pkl', 'wb') as f:\n",
    "#     pickle.dump(prop.model.get_weights(), f)"
   ]
  },
  {
   "cell_type": "code",
   "execution_count": 55,
   "metadata": {},
   "outputs": [],
   "source": [
    "with open('lss_files/trp_prop_weights_1.pkl', 'rb') as f:\n",
    "    prop.model.set_weights(pickle.load(f))"
   ]
  },
  {
   "cell_type": "markdown",
   "metadata": {},
   "source": [
    "## Generate multiple trajectories"
   ]
  },
  {
   "cell_type": "code",
   "execution_count": 56,
   "metadata": {
    "scrolled": true
   },
   "outputs": [],
   "source": [
    "# synth_trajs = [prop.propagate(traj_prop_scaled[0].reshape(1,-1).astype(np.float32), 10440).reshape(10440, -1) for _ in range(100)]\n",
    "# np.save('/home/kengyangyao/data/LSS_paper_files/synth_trajs', synth_trajs)\n",
    "synth_trajs = np.load('/Users/aawad/OneDrive/Documents/LSS_all_files/LSS_paper_files/synth_trajs.npy')"
   ]
  },
  {
   "cell_type": "code",
   "execution_count": 57,
   "metadata": {},
   "outputs": [
    {
     "name": "stdout",
     "output_type": "stream",
     "text": [
      "WARNING:tensorflow:Entity <bound method MDN.call of <hde.propagator.MDN object at 0x000001807EC39848>> could not be transformed and will be executed as-is. Please report this to the AutgoGraph team. When filing the bug, set the verbosity to 10 (on Linux, `export AUTOGRAPH_VERBOSITY=10`) and attach the full output. Cause: converting <bound method MDN.call of <hde.propagator.MDN object at 0x000001807EC39848>>: AssertionError: Bad argument number for Name: 3, expecting 4\n",
      "WARNING: Entity <bound method MDN.call of <hde.propagator.MDN object at 0x000001807EC39848>> could not be transformed and will be executed as-is. Please report this to the AutgoGraph team. When filing the bug, set the verbosity to 10 (on Linux, `export AUTOGRAPH_VERBOSITY=10`) and attach the full output. Cause: converting <bound method MDN.call of <hde.propagator.MDN object at 0x000001807EC39848>>: AssertionError: Bad argument number for Name: 3, expecting 4\n"
     ]
    }
   ],
   "source": [
    "x_prop = prop.propagate(traj_prop_scaled[0].reshape(1,-1).astype(np.float32), 10000)\n",
    "x_prop = x_prop.reshape(10000, -1)"
   ]
  },
  {
   "cell_type": "code",
   "execution_count": 58,
   "metadata": {},
   "outputs": [
    {
     "data": {
      "text/plain": [
       "2934.895660396802"
      ]
     },
     "execution_count": 58,
     "metadata": {},
     "output_type": "execute_result"
    }
   ],
   "source": [
    "-lag / np.log(np.corrcoef(traj_prop[:-lag:lag, 0], traj_prop[lag::lag, 0])[0][1]) * 0.2"
   ]
  },
  {
   "cell_type": "code",
   "execution_count": 59,
   "metadata": {},
   "outputs": [
    {
     "name": "stdout",
     "output_type": "stream",
     "text": [
      "3002.405579029793 607.5120447310386\n",
      "538.8966382769831 370.12167868813134\n",
      "451.9073164106637 118.54539551432006\n",
      "2889.687930025424 196.90808446220674\n",
      "427.0337800740476 37.08323082527312\n",
      "415.18149996644405 13.312683360277077\n"
     ]
    }
   ],
   "source": [
    "def get_timescales_blocking(trajs, lag_time, num_blocks):\n",
    "    result = []\n",
    "    temp_size = trajs.shape[0] // num_blocks\n",
    "    for item in range(num_blocks):\n",
    "        temp_traj = trajs[item * temp_size: (item+1) * temp_size]\n",
    "        if temp_traj.ndim == 1:\n",
    "            temp_pair = (temp_traj[:-lag_time:lag_time], temp_traj[lag_time::lag_time])\n",
    "        elif temp_traj.ndim == 2:\n",
    "            temp_pair = (np.concatenate([item_traj[:-lag_time:lag_time] for item_traj in temp_traj]),\n",
    "                         np.concatenate([item_traj[lag_time::lag_time] for item_traj in temp_traj]))\n",
    "        result.append(-lag_time / np.log(np.corrcoef(temp_pair[0], temp_pair[1])[0,1]))\n",
    "    return np.array(result)\n",
    "\n",
    "for item in range(3):\n",
    "    timescales_md = get_timescales_blocking(traj_prop_scaled[:, item], 100, 5)\n",
    "    print(0.2 * timescales_md.mean(), 0.2 * timescales_md.std())\n",
    "for item in range(3):\n",
    "    timescales_lss = get_timescales_blocking(synth_trajs[:,:, item], 1, 5)\n",
    "    print(100 * 0.2 * timescales_lss.mean(), 100 * 0.2 * timescales_lss.std())"
   ]
  },
  {
   "cell_type": "code",
   "execution_count": 62,
   "metadata": {},
   "outputs": [
    {
     "data": {
      "text/plain": [
       "(array([14202.78045615,  2064.40350471,  2062.85361228]),\n",
       " array([2764.067281  ,  786.78146685,  295.09836994]))"
      ]
     },
     "execution_count": 62,
     "metadata": {},
     "output_type": "execute_result"
    }
   ],
   "source": [
    "np.array(synth_timescales).mean(axis=0), np.array(synth_timescales).std(axis=0)"
   ]
  },
  {
   "cell_type": "code",
   "execution_count": 63,
   "metadata": {},
   "outputs": [],
   "source": [
    "synth_timescales = []\n",
    "for st in synth_trajs:\n",
    "    \n",
    "    tss = []\n",
    "    for i in range(st.shape[1]):\n",
    "        tc = np.corrcoef(st[:-1:1,i], st[1::1,i])[0,1]\n",
    "        ts = -lag/np.log(tc)\n",
    "        tss.append(ts)\n",
    "    synth_timescales.append(tss)"
   ]
  },
  {
   "cell_type": "code",
   "execution_count": 64,
   "metadata": {},
   "outputs": [],
   "source": [
    "synth_timescales = np.array(synth_timescales)"
   ]
  },
  {
   "cell_type": "code",
   "execution_count": 65,
   "metadata": {},
   "outputs": [],
   "source": [
    "ref_timescales = [] \n",
    "for i in range(3):\n",
    "    tc = np.corrcoef(traj_prop_scaled[:-lag:lag,i], traj_prop_scaled[lag::lag,i])[0,1]\n",
    "    ts = -lag/np.log(tc)\n",
    "    ref_timescales.append(ts)\n",
    "\n",
    "ref_timescales = np.array(ref_timescales)"
   ]
  },
  {
   "cell_type": "code",
   "execution_count": 66,
   "metadata": {},
   "outputs": [],
   "source": [
    "sort_idx = np.argsort(np.sqrt(np.sum((synth_timescales - ref_timescales)**2, axis=1)))"
   ]
  },
  {
   "cell_type": "code",
   "execution_count": 67,
   "metadata": {},
   "outputs": [],
   "source": [
    "top_synth_trajs = [synth_trajs[i] for i in sort_idx[:10]]  # choose optimal 10 synthetic trajectories"
   ]
  },
  {
   "cell_type": "code",
   "execution_count": 68,
   "metadata": {},
   "outputs": [
    {
     "data": {
      "text/plain": [
       "array([14632.04196742,  2573.17300885,  2073.99267346])"
      ]
     },
     "execution_count": 68,
     "metadata": {},
     "output_type": "execute_result"
    }
   ],
   "source": [
    "np.mean(synth_timescales[sort_idx[:10]], axis=0)"
   ]
  },
  {
   "cell_type": "code",
   "execution_count": 69,
   "metadata": {},
   "outputs": [
    {
     "data": {
      "text/plain": [
       "array([591.09821639, 418.25162743, 244.3177718 ])"
      ]
     },
     "execution_count": 69,
     "metadata": {},
     "output_type": "execute_result"
    }
   ],
   "source": [
    "np.std(synth_timescales[sort_idx[:10]], axis=0)"
   ]
  },
  {
   "cell_type": "code",
   "execution_count": 70,
   "metadata": {},
   "outputs": [
    {
     "data": {
      "text/plain": [
       "array([14674.47839851,  2844.20018763,  2314.54976916])"
      ]
     },
     "execution_count": 70,
     "metadata": {},
     "output_type": "execute_result"
    }
   ],
   "source": [
    "ref_timescales"
   ]
  },
  {
   "cell_type": "code",
   "execution_count": 71,
   "metadata": {},
   "outputs": [
    {
     "name": "stdout",
     "output_type": "stream",
     "text": [
      "10.7 1.5524174696260022\n"
     ]
    }
   ],
   "source": [
    "counts_transitions = np.array([14, 9, 11, 11, 12, 10, 11, 10, 8, 11])\n",
    "print(counts_transitions.mean(), counts_transitions.std())"
   ]
  },
  {
   "cell_type": "code",
   "execution_count": 72,
   "metadata": {},
   "outputs": [],
   "source": [
    "#fig, ax = plt.subplots()\n",
    "#ax.plot(top_synth_trajs[9][:, 0])\n",
    "#ax.plot(traj_prop_scaled[:, 0])\n",
    "#fig.set_size_inches((15, 5))"
   ]
  },
  {
   "cell_type": "markdown",
   "metadata": {},
   "source": [
    "## Free energy comparison"
   ]
  },
  {
   "cell_type": "code",
   "execution_count": 111,
   "metadata": {},
   "outputs": [],
   "source": [
    "best_traj = top_synth_trajs[0]"
   ]
  },
  {
   "cell_type": "code",
   "execution_count": 112,
   "metadata": {},
   "outputs": [],
   "source": [
    "Ff_s, xf_s = np.histogram(np.concatenate(top_synth_trajs)[:,0], bins=100)\n",
    "Ff_r, xf_r = np.histogram(traj_prop_scaled[:,0], bins=100)"
   ]
  },
  {
   "cell_type": "code",
   "execution_count": 113,
   "metadata": {},
   "outputs": [],
   "source": [
    "x_ticks = np.arange(0, 1.01, 0.01)"
   ]
  },
  {
   "cell_type": "code",
   "execution_count": 114,
   "metadata": {},
   "outputs": [],
   "source": [
    "def uncertaity_with_blocking(data_to_use, num=5):\n",
    "    fes_list = []\n",
    "    data_length = data_to_use.shape[0]\n",
    "    for _1 in range(num):\n",
    "        itersample = data_to_use[data_length // num * _1: data_length // num * (_1+1)]\n",
    "        fes_count = np.histogram(itersample, bins=x_ticks, density=False)[0] + 1\n",
    "        fes_count = fes_count / fes_count.sum()\n",
    "        fes_list.append(-np.log(fes_count))\n",
    "    fes_list = np.array(fes_list)\n",
    "    confidence_interval = np.array([fes_list.mean(axis=0) - 1.96 * fes_list.std(axis=0),\n",
    "                           fes_list.mean(axis=0) + 1.96 * fes_list.std(axis=0)]).T\n",
    "    return fes_list, confidence_interval\n",
    "\n",
    "fes_list_md, confidence_interval_md = uncertaity_with_blocking(traj_prop_scaled[:,0])\n",
    "fes_list_lss, confidence_interval_lss = uncertaity_with_blocking(np.concatenate(synth_trajs)[:, 0], num=5)"
   ]
  },
  {
   "cell_type": "code",
   "execution_count": 115,
   "metadata": {},
   "outputs": [],
   "source": [
    "# bootstrap for uncertainty estimation\n",
    "def bootstrap_for_uncertainty_estimate(data_to_use, num=100):\n",
    "    fes_list = []\n",
    "    for _ in range(num):\n",
    "        itersample = np.random.choice(data_to_use, size=data_to_use.shape, replace=True)\n",
    "        fes_list.append(-np.log(np.histogram(itersample, bins=x_ticks, density=True)[0]))\n",
    "    fes_list = np.array(fes_list)\n",
    "    high_per, low_per = 1 - 0.025, 0.025\n",
    "    confidence_interval = []\n",
    "    for item in fes_list.T:\n",
    "        item.sort()\n",
    "        nn = len(item)\n",
    "        low_val, high_val = item[int(np.floor(nn * low_per))], item[int(np.floor(nn * high_per))]\n",
    "        confidence_interval.append([low_val, high_val])\n",
    "    confidence_interval = np.array(confidence_interval)\n",
    "    return fes_list, confidence_interval\n",
    "\n",
    "# fes_list_md, confidence_interval_md = bootstrap_for_uncertainty_estimate(traj_prop_scaled[:,0])\n",
    "# fes_list_lss, confidence_interval_lss = bootstrap_for_uncertainty_estimate(np.concatenate(synth_trajs)[:, 0])"
   ]
  },
  {
   "cell_type": "code",
   "execution_count": 116,
   "metadata": {},
   "outputs": [
    {
     "data": {
      "text/plain": [
       "9.575429891648527"
      ]
     },
     "execution_count": 116,
     "metadata": {},
     "output_type": "execute_result"
    }
   ],
   "source": [
    "np.mean((confidence_interval_md[:, 1] - confidence_interval_md[:, 0]) \n",
    "        / (confidence_interval_lss[:, 1] - confidence_interval_lss[:, 0]))"
   ]
  },
  {
   "cell_type": "code",
   "execution_count": 117,
   "metadata": {},
   "outputs": [
    {
     "data": {
      "image/png": "[encoded data removed]",
      "text/plain": [
       "<Figure size 432x360 with 1 Axes>"
      ]
     },
     "metadata": {
      "needs_background": "light"
     },
     "output_type": "display_data"
    }
   ],
   "source": [
    "fes_offset = fes_list_md.mean() - fes_list_lss.mean()\n",
    "fes_list_lss = fes_list_lss + fes_offset\n",
    "confidence_interval_lss = confidence_interval_lss + fes_offset\n",
    "plt.rcParams['font.size'] = 16\n",
    "fig = plt.figure(figsize=(6, 5))\n",
    "plt.plot(x_ticks[:-1], np.mean(fes_list_md, axis=0), linewidth=3, color='orange')\n",
    "plt.plot(x_ticks[:-1], np.mean(fes_list_lss, axis=0), linewidth=3, color='purple')\n",
    "plt.fill_between(x_ticks[:-1], confidence_interval_md[:, 0], confidence_interval_md[:, 1], alpha=0.4, color='orange')\n",
    "plt.fill_between(x_ticks[:-1], confidence_interval_lss[:, 0], confidence_interval_lss[:, 1], alpha=0.4, color='purple')\n",
    "plt.xlabel(r'$\\psi_1$')\n",
    "plt.ylabel('F ($k_BT$)')\n",
    "i = 0\n",
    "for spine in plt.gca().spines.values():\n",
    "    if (i+1) % 2 == 0:\n",
    "        spine.set_visible(False)\n",
    "    i += 1\n",
    "    \n",
    "plt.legend(['MD', 'LSS'], frameon=False, loc=(0, 0.9))\n",
    "\n",
    "plt.tight_layout()    \n",
    "plt.savefig('fes_comparison.png', dpi=300)"
   ]
  },
  {
   "cell_type": "code",
   "execution_count": 159,
   "metadata": {},
   "outputs": [
    {
     "data": {
      "text/plain": [
       "0.8660960162483972"
      ]
     },
     "execution_count": 159,
     "metadata": {},
     "output_type": "execute_result"
    }
   ],
   "source": [
    "np.sqrt(np.mean((-np.log(Ff_r) - (-np.log(Ff_s)-1.2))**2))"
   ]
  },
  {
   "cell_type": "code",
   "execution_count": 123,
   "metadata": {},
   "outputs": [],
   "source": [
    "def gen_mol_traj(x_scaled):\n",
    "    molgen.is_fitted = True\n",
    "    x_unscaled = prop_scaler.inverse_transform(x_scaled)\n",
    "    synth = scaler.inverse_transform(molgen.transform(x_unscaled)).reshape(-1, 20, 3)\n",
    "    gen_traj = traj_ca.slice(range(synth.shape[0]))\n",
    "    \n",
    "    for i in range(len(gen_traj)):\n",
    "        gen_traj.xyz[i] = synth[i] \n",
    "\n",
    "    gen_traj.superpose(gen_traj[0])\n",
    "    \n",
    "    return gen_traj"
   ]
  },
  {
   "cell_type": "code",
   "execution_count": 124,
   "metadata": {},
   "outputs": [],
   "source": [
    "def get_closest_frames(val, idx, traj, n=10):\n",
    "    matches = np.argsort(np.abs(traj[:,idx] - val))\n",
    "    return matches[:n]"
   ]
  },
  {
   "cell_type": "code",
   "execution_count": 158,
   "metadata": {},
   "outputs": [
    {
     "name": "stdout",
     "output_type": "stream",
     "text": [
      "0.13786413\n",
      "0.20079914\n"
     ]
    }
   ],
   "source": [
    "def get_RMSD_within_SRV_range(traj, srv_val, val_lo, val_hi):\n",
    "    idx = (srv_val > val_lo) & (srv_val < val_hi)\n",
    "    frames = traj[idx]\n",
    "    result = np.sqrt(frames.xyz.var(axis=0).sum(axis=1).mean())\n",
    "    return result\n",
    "\n",
    "print(get_RMSD_within_SRV_range(traj_ca, traj_prop_scaled[:, 0], 0.4, 0.5))\n",
    "print(get_RMSD_within_SRV_range(md.join(synth_all_trajs),\n",
    "                                np.concatenate(synth_trajs)[:, 0], 0.4, 0.5))"
   ]
  },
  {
   "cell_type": "markdown",
   "metadata": {},
   "source": [
    "Select structures closest to different CV values, then generate ensembles."
   ]
  },
  {
   "cell_type": "markdown",
   "metadata": {},
   "source": [
    "First pose"
   ]
  },
  {
   "cell_type": "code",
   "execution_count": 160,
   "metadata": {},
   "outputs": [],
   "source": [
    "synth_idx = get_closest_frames(0., 0, best_traj)\n",
    "ref_idx = get_closest_frames(0, 0, traj_prop_scaled)"
   ]
  },
  {
   "cell_type": "code",
   "execution_count": 161,
   "metadata": {},
   "outputs": [],
   "source": [
    "synth_mol_1 = gen_mol_traj(best_traj[synth_idx])\n",
    "ref_mol_1 = traj_ca[ref_idx]"
   ]
  },
  {
   "cell_type": "code",
   "execution_count": 162,
   "metadata": {},
   "outputs": [
    {
     "data": {
      "text/plain": [
       "3.0402976274490356"
      ]
     },
     "execution_count": 162,
     "metadata": {},
     "output_type": "execute_result"
    }
   ],
   "source": [
    "np.mean(np.concatenate([md.rmsd(synth_mol_1, ref_mol_1[i]) for i in range(len(ref_mol_1))]))*10 # Angstrom"
   ]
  },
  {
   "cell_type": "code",
   "execution_count": 163,
   "metadata": {},
   "outputs": [
    {
     "data": {
      "text/plain": [
       "2.988320291042328"
      ]
     },
     "execution_count": 163,
     "metadata": {},
     "output_type": "execute_result"
    }
   ],
   "source": [
    "np.mean(md.rmsd(synth_mol_1, ref_mol_1[6]))*10 # Angstrom. Central structure. "
   ]
  },
  {
   "cell_type": "code",
   "execution_count": 166,
   "metadata": {},
   "outputs": [
    {
     "data": {
      "text/plain": [
       "0.2779588"
      ]
     },
     "execution_count": 166,
     "metadata": {},
     "output_type": "execute_result"
    }
   ],
   "source": [
    "ref_2jof = md.load('/Users/aawad/OneDrive/Documents/LSS_all_files/2jof.pdb')\n",
    "ref_2jof = ref_2jof.atom_slice(ref_2jof.top.select_atom_indices('alpha'))\n",
    "np.mean(md.rmsd(synth_mol_1, ref_2jof))"
   ]
  },
  {
   "cell_type": "code",
   "execution_count": 167,
   "metadata": {},
   "outputs": [],
   "source": [
    "synth_mol_1.save_pdb('synth_mol_1.pdb')\n",
    "ref_mol_1.save_pdb('ref_mol_1.pdb')"
   ]
  },
  {
   "cell_type": "markdown",
   "metadata": {},
   "source": [
    "Third pose"
   ]
  },
  {
   "cell_type": "code",
   "execution_count": 168,
   "metadata": {},
   "outputs": [],
   "source": [
    "synth_idx = get_closest_frames(0.45, 0, best_traj)\n",
    "ref_idx = get_closest_frames(0.45, 0, traj_prop_scaled)"
   ]
  },
  {
   "cell_type": "code",
   "execution_count": 169,
   "metadata": {},
   "outputs": [],
   "source": [
    "synth_mol_3 = gen_mol_traj(best_traj[synth_idx])\n",
    "ref_mol_3 = traj_ca[ref_idx]"
   ]
  },
  {
   "cell_type": "code",
   "execution_count": 170,
   "metadata": {},
   "outputs": [],
   "source": [
    "synth_mol_3.save_pdb('synth_mol_3.pdb')\n",
    "ref_mol_3.save_pdb('ref_mol_3.pdb')"
   ]
  },
  {
   "cell_type": "code",
   "execution_count": 171,
   "metadata": {},
   "outputs": [
    {
     "data": {
      "text/plain": [
       "3.52274090051651"
      ]
     },
     "execution_count": 171,
     "metadata": {},
     "output_type": "execute_result"
    }
   ],
   "source": [
    "np.mean(np.concatenate([md.rmsd(synth_mol_3, ref_mol_3[i]) for i in range(len(ref_mol_3))]))*10 # Angstrom"
   ]
  },
  {
   "cell_type": "markdown",
   "metadata": {},
   "source": [
    "## TICA"
   ]
  },
  {
   "cell_type": "code",
   "execution_count": 172,
   "metadata": {},
   "outputs": [],
   "source": [
    "import pyemma as py"
   ]
  },
  {
   "cell_type": "code",
   "execution_count": 173,
   "metadata": {},
   "outputs": [],
   "source": [
    "featurizer = py.coordinates.featurizer(traj_ca.topology)\n",
    "featurizer.add_distances_ca(periodic=False)"
   ]
  },
  {
   "cell_type": "code",
   "execution_count": 174,
   "metadata": {},
   "outputs": [],
   "source": [
    "feature_source = py.coordinates.source(traj_ca.xyz, features=featurizer)"
   ]
  },
  {
   "cell_type": "code",
   "execution_count": 175,
   "metadata": {},
   "outputs": [],
   "source": [
    "feature_data = feature_source.get_output()[0]"
   ]
  },
  {
   "cell_type": "code",
   "execution_count": 176,
   "metadata": {},
   "outputs": [],
   "source": [
    "tica = py.coordinates.tica(data=feature_data, lag=100, dim=3, kinetic_map=True)"
   ]
  },
  {
   "cell_type": "code",
   "execution_count": 177,
   "metadata": {},
   "outputs": [],
   "source": [
    "tica_output = tica.get_output()\n",
    "tica_concatenated = np.concatenate(tica_output)"
   ]
  },
  {
   "cell_type": "code",
   "execution_count": 178,
   "metadata": {},
   "outputs": [],
   "source": [
    "synth_all_trajs = [gen_mol_traj(x) for x in synth_trajs]"
   ]
  },
  {
   "cell_type": "code",
   "execution_count": 179,
   "metadata": {},
   "outputs": [],
   "source": [
    "synth_full = [x.xyz for x in synth_all_trajs]"
   ]
  },
  {
   "cell_type": "code",
   "execution_count": 180,
   "metadata": {},
   "outputs": [],
   "source": [
    "py.config.show_progress_bars = False"
   ]
  },
  {
   "cell_type": "code",
   "execution_count": 181,
   "metadata": {},
   "outputs": [],
   "source": [
    "synth_feat_source = py.coordinates.source(synth_full, features=featurizer)"
   ]
  },
  {
   "cell_type": "code",
   "execution_count": 182,
   "metadata": {},
   "outputs": [],
   "source": [
    "synth_feature_data = synth_feat_source.get_output()"
   ]
  },
  {
   "cell_type": "code",
   "execution_count": 183,
   "metadata": {},
   "outputs": [],
   "source": [
    "synth_tica_list = tica.transform(synth_feature_data)\n",
    "synth_tica_output = np.concatenate(synth_tica_list)"
   ]
  },
  {
   "cell_type": "code",
   "execution_count": 184,
   "metadata": {},
   "outputs": [
    {
     "data": {
      "text/plain": [
       "array([167.92471418,  23.11895802,   8.74567856])"
      ]
     },
     "execution_count": 184,
     "metadata": {},
     "output_type": "execute_result"
    }
   ],
   "source": [
    "np.array([get_timescales([item[:, _1] for item in synth_tica_list], 1) * 100 for _1 in range(3)]) * 0.2"
   ]
  },
  {
   "cell_type": "code",
   "execution_count": 185,
   "metadata": {},
   "outputs": [
    {
     "data": {
      "text/plain": [
       "array([184.35500544,  62.90569517,  36.84374396,  25.86800399,\n",
       "        22.96492427])"
      ]
     },
     "execution_count": 185,
     "metadata": {},
     "output_type": "execute_result"
    }
   ],
   "source": [
    "tica.timescales[:5] * 0.2"
   ]
  },
  {
   "cell_type": "code",
   "execution_count": 186,
   "metadata": {},
   "outputs": [
    {
     "name": "stdout",
     "output_type": "stream",
     "text": [
      "[175.08595319  60.18126949  34.8251868 ] [72.87916135 15.97994496 10.92331816] [167.75659897  23.12129644   8.73630508] [13.60061328  0.61690608  0.25007722]\n"
     ]
    }
   ],
   "source": [
    "tica_timescales_blocks_md = np.array([get_timescales_blocking(tica_concatenated[:, ii], lag, 5) for ii in range(3)])\n",
    "tica_timescales_blocks_lss = np.array([get_timescales_blocking(np.array(synth_tica_list)[:,:,ii], 1, 5) for ii in range(3)])\n",
    "print(tica_timescales_blocks_md.mean(axis=1) * 0.2, tica_timescales_blocks_md.std(axis=1) * 0.2, \n",
    "      tica_timescales_blocks_lss.mean(axis=1) * 20, tica_timescales_blocks_lss.std(axis=1) * 20)"
   ]
  },
  {
   "cell_type": "code",
   "execution_count": 187,
   "metadata": {},
   "outputs": [
    {
     "data": {
      "image/png": "[encoded data removed]",
      "text/plain": [
       "<Figure size 576x504 with 8 Axes>"
      ]
     },
     "metadata": {
      "needs_background": "light"
     },
     "output_type": "display_data"
    }
   ],
   "source": [
    "fig, ax = plt.subplots(2, 2, figsize=(8, 7), sharex=True)\n",
    "\n",
    "y_axes = [(-2.7, 2.7), (-3, 2)]\n",
    "for i in range(2):\n",
    "    _, _, misc = py.plots.plot_free_energy(tica_concatenated[::10,0], tica_concatenated[::10,i+1], ax=ax[i,0], cbar_label=None, legacy=False)\n",
    "    misc['cbar'].set_ticks(np.arange(0, 11))\n",
    "    _, _, misc = py.plots.plot_free_energy(synth_tica_output[::10,0], synth_tica_output[::10,i+1], ax=ax[i,1], legacy=False)    \n",
    "    misc['cbar'].set_ticks(np.arange(0, 11))\n",
    "    ax[i,0].set_ylim(y_axes[i])\n",
    "    ax[i,1].set_ylim(y_axes[i])\n",
    "    ax[i,1].set_yticks([])\n",
    "    ax[i,0].set_xlim([-2.5, 2])\n",
    "    ax[i,1].set_xlim([-2.5, 2])\n",
    "\n",
    "ax[0,0].set_title('MD')\n",
    "ax[0,1].set_title('LSS')\n",
    "ax[0,0].set_ylabel('TIC2')\n",
    "ax[1,0].set_xlabel('TIC1')\n",
    "ax[1,0].set_ylabel('TIC3')\n",
    "ax[1,1].set_xlabel('TIC1')\n",
    "plt.tight_layout()\n",
    "plt.savefig('tica_trpcage.pdf', dpi=300)"
   ]
  },
  {
   "cell_type": "code",
   "execution_count": 188,
   "metadata": {},
   "outputs": [],
   "source": [
    "# for i, x_dim in enumerate(x_prop.T):\n",
    "#     plt.hist(2*(x_dim-0.5), bins=100);\n",
    "#     plt.hist(traj_prop[::100, i], bins=100, alpha=0.5);\n",
    "#     plt.show()"
   ]
  },
  {
   "cell_type": "markdown",
   "metadata": {},
   "source": [
    "## Compare timescales"
   ]
  },
  {
   "cell_type": "code",
   "execution_count": 189,
   "metadata": {},
   "outputs": [
    {
     "name": "stdout",
     "output_type": "stream",
     "text": [
      "Reference Timescale 0: 14674.47839850653\n",
      "Synthetic Timescale 0: 9220.353057189734\n",
      "\n",
      "Reference Timescale 1: 2844.2001876303216\n",
      "Synthetic Timescale 1: 1208.4813960564131\n",
      "\n",
      "Reference Timescale 2: 2314.549769157633\n",
      "Synthetic Timescale 2: 1839.0478473137691\n",
      "\n"
     ]
    }
   ],
   "source": [
    "for i in range(3):\n",
    "    tc = np.corrcoef(traj_prop_scaled[:-lag:lag,i], traj_prop_scaled[lag::lag,i])[0,1]\n",
    "    ts = -lag/np.log(tc)\n",
    "    print(f'Reference Timescale {i}: {ts}')\n",
    "    \n",
    "    tc = np.corrcoef(x_prop[:-1:1,i], x_prop[1::1,i])[0,1]\n",
    "    ts = -lag/np.log(tc)\n",
    "\n",
    "    print(f'Synthetic Timescale {i}: {ts}\\n')"
   ]
  },
  {
   "cell_type": "code",
   "execution_count": 190,
   "metadata": {},
   "outputs": [
    {
     "data": {
      "text/plain": [
       "array([15202.95527403,  5530.1103633 ,  2760.02392811,  2282.64666781,\n",
       "        1392.44260236,  1167.53880509,   845.65863691])"
      ]
     },
     "execution_count": 190,
     "metadata": {},
     "output_type": "execute_result"
    }
   ],
   "source": [
    "srv.timescales_"
   ]
  },
  {
   "cell_type": "code",
   "execution_count": 191,
   "metadata": {},
   "outputs": [],
   "source": [
    "x_prop_unscaled = prop_scaler.inverse_transform(x_prop)"
   ]
  },
  {
   "cell_type": "markdown",
   "metadata": {},
   "source": [
    "## Sample molecules"
   ]
  },
  {
   "cell_type": "code",
   "execution_count": 192,
   "metadata": {},
   "outputs": [],
   "source": [
    "molgen.is_fitted = True"
   ]
  },
  {
   "cell_type": "code",
   "execution_count": 193,
   "metadata": {},
   "outputs": [],
   "source": [
    "synth = scaler.inverse_transform(molgen.transform(x_prop_unscaled)).reshape(-1, 20, 3)"
   ]
  },
  {
   "cell_type": "markdown",
   "metadata": {},
   "source": [
    "Using synthetic data, override existing mdtraj struct"
   ]
  },
  {
   "cell_type": "code",
   "execution_count": 194,
   "metadata": {},
   "outputs": [],
   "source": [
    "gen_traj = traj_ca.slice(range(synth.shape[0]))"
   ]
  },
  {
   "cell_type": "code",
   "execution_count": 195,
   "metadata": {},
   "outputs": [],
   "source": [
    "for i in range(len(gen_traj)):\n",
    "    gen_traj.xyz[i] = synth[i] "
   ]
  },
  {
   "cell_type": "code",
   "execution_count": 196,
   "metadata": {},
   "outputs": [
    {
     "data": {
      "text/plain": [
       "<mdtraj.Trajectory with 10000 frames, 20 atoms, 20 residues, and unitcells at 0x180d4c624c8>"
      ]
     },
     "execution_count": 196,
     "metadata": {},
     "output_type": "execute_result"
    }
   ],
   "source": [
    "gen_traj.superpose(gen_traj[0])"
   ]
  },
  {
   "cell_type": "code",
   "execution_count": 197,
   "metadata": {},
   "outputs": [
    {
     "data": {
      "application/vnd.jupyter.widget-view+json": {
       "model_id": "236287beac90460295a2696db9a93753",
       "version_major": 2,
       "version_minor": 0
      },
      "text/plain": [
       "NGLWidget(max_frame=9999)"
      ]
     },
     "metadata": {},
     "output_type": "display_data"
    }
   ],
   "source": [
    "nv.show_mdtraj(gen_traj)"
   ]
  },
  {
   "cell_type": "markdown",
   "metadata": {},
   "source": [
    "Save trajectory"
   ]
  },
  {
   "cell_type": "code",
   "execution_count": 198,
   "metadata": {},
   "outputs": [],
   "source": [
    "gen_traj.save_pdb('synthetic_trajectory.pdb')"
   ]
  },
  {
   "cell_type": "code",
   "execution_count": 199,
   "metadata": {},
   "outputs": [
    {
     "data": {
      "application/vnd.jupyter.widget-view+json": {
       "model_id": "1b144fee6445442cafff20562d533434",
       "version_major": 2,
       "version_minor": 0
      },
      "text/plain": [
       "NGLWidget()"
      ]
     },
     "metadata": {},
     "output_type": "display_data"
    }
   ],
   "source": [
    "nv.show_file('synthetic_trajectory.pdb')"
   ]
  },
  {
   "cell_type": "code",
   "execution_count": 200,
   "metadata": {},
   "outputs": [],
   "source": [
    "generated_complete_traj = gen_mol_traj(best_traj)"
   ]
  },
  {
   "cell_type": "code",
   "execution_count": 201,
   "metadata": {},
   "outputs": [
    {
     "data": {
      "application/vnd.jupyter.widget-view+json": {
       "model_id": "f47f532c64874894882817b934a9261e",
       "version_major": 2,
       "version_minor": 0
      },
      "text/plain": [
       "NGLWidget(max_frame=10439)"
      ]
     },
     "metadata": {},
     "output_type": "display_data"
    }
   ],
   "source": [
    "nv.show_mdtraj(generated_complete_traj)"
   ]
  },
  {
   "cell_type": "markdown",
   "metadata": {},
   "source": [
    "## more analysis"
   ]
  },
  {
   "cell_type": "code",
   "execution_count": 202,
   "metadata": {},
   "outputs": [],
   "source": [
    "real_rg = md.compute_rg(traj_ca)\n",
    "synth_rg = np.concatenate([md.compute_rg(item) for item in synth_all_trajs])"
   ]
  },
  {
   "cell_type": "code",
   "execution_count": 203,
   "metadata": {},
   "outputs": [],
   "source": [
    "# _ = plt.hist(real_rg, normed=True, cumulative=True, label='CDF',\n",
    "#          histtype='step', alpha=0.8, color='k', bins=20)\n",
    "# _ = plt.hist(synth_rg, normed=True, cumulative=True, label='CDF',\n",
    "#          histtype='step', alpha=0.8, color='k', bins=20)"
   ]
  },
  {
   "cell_type": "code",
   "execution_count": 204,
   "metadata": {},
   "outputs": [
    {
     "name": "stdout",
     "output_type": "stream",
     "text": [
      "0.865238873524714 0.16274522113673479 0.8697210308354807 0.13231088563603796\n"
     ]
    }
   ],
   "source": [
    "print(real_rg.mean(), real_rg.std(), synth_rg.mean(), synth_rg.std())"
   ]
  },
  {
   "cell_type": "code",
   "execution_count": 205,
   "metadata": {},
   "outputs": [
    {
     "data": {
      "text/plain": [
       "Ks_2sampResult(statistic=0.20685249042145595, pvalue=0.0)"
      ]
     },
     "execution_count": 205,
     "metadata": {},
     "output_type": "execute_result"
    }
   ],
   "source": [
    "from scipy.stats import ks_2samp\n",
    "ks_2samp(real_rg, synth_rg)"
   ]
  },
  {
   "cell_type": "code",
   "execution_count": 206,
   "metadata": {},
   "outputs": [
    {
     "name": "stderr",
     "output_type": "stream",
     "text": [
      "C:\\Users\\aawad\\anaconda3\\envs\\PyGPU\\lib\\site-packages\\ipykernel_launcher.py:3: MatplotlibDeprecationWarning: \n",
      "The 'normed' kwarg was deprecated in Matplotlib 2.1 and will be removed in 3.1. Use 'density' instead.\n",
      "  This is separate from the ipykernel package so we can avoid doing imports until\n",
      "C:\\Users\\aawad\\anaconda3\\envs\\PyGPU\\lib\\site-packages\\ipykernel_launcher.py:4: MatplotlibDeprecationWarning: \n",
      "The 'normed' kwarg was deprecated in Matplotlib 2.1 and will be removed in 3.1. Use 'density' instead.\n",
      "  after removing the cwd from sys.path.\n"
     ]
    },
    {
     "data": {
      "image/png": "[encoded data removed]",
      "text/plain": [
       "<Figure size 432x288 with 1 Axes>"
      ]
     },
     "metadata": {
      "needs_background": "light"
     },
     "output_type": "display_data"
    }
   ],
   "source": [
    "fig, ax = plt.subplots()\n",
    "hist_bins = np.linspace(0.5, 1.8, 15)\n",
    "_ = ax.hist(real_rg, alpha=0.5, bins=hist_bins, normed=True, label='original')\n",
    "_ = ax.hist((synth_rg), alpha=0.5, bins=hist_bins, normed=True, label='synthetic')\n",
    "ax.legend()\n",
    "ax.set_xlabel('$R_g$/nm')\n",
    "ax.set_ylabel('probability density')\n",
    "fig.savefig('rg_hist.pdf', bbox_inches = 'tight', dpi=300)"
   ]
  },
  {
   "cell_type": "code",
   "execution_count": 207,
   "metadata": {},
   "outputs": [
    {
     "data": {
      "text/plain": [
       "<matplotlib.collections.LineCollection at 0x180d3c45c48>"
      ]
     },
     "execution_count": 207,
     "metadata": {},
     "output_type": "execute_result"
    },
    {
     "data": {
      "image/png": "[encoded data removed]",
      "text/plain": [
       "<Figure size 432x288 with 1 Axes>"
      ]
     },
     "metadata": {
      "needs_background": "light"
     },
     "output_type": "display_data"
    }
   ],
   "source": [
    "data_to_plot = real_rg\n",
    "plt.plot(data_to_plot)\n",
    "plt.hlines(0.7, 0, data_to_plot.shape[0], color='r')\n",
    "plt.hlines(1.5, 0, data_to_plot.shape[0], color='y')"
   ]
  },
  {
   "cell_type": "code",
   "execution_count": 208,
   "metadata": {},
   "outputs": [],
   "source": [
    "# compute mean first passage time\n",
    "def get_state(rg):\n",
    "    result_states = rg\n",
    "    result_states[np.where(rg < 0.7)] = 0\n",
    "    result_states[np.all([0.7 <= real_rg, real_rg < 1.5], axis=0)] = 1\n",
    "    result_states[np.where(rg >= 1.5)] = 2\n",
    "    return result_states\n",
    "    \n",
    "real_states = get_state(real_rg)"
   ]
  },
  {
   "cell_type": "code",
   "execution_count": 209,
   "metadata": {},
   "outputs": [],
   "source": [
    "def get_mfpt_list(states_list, current_state):\n",
    "    mfpt = []\n",
    "    events = []\n",
    "    current_idx = 0\n",
    "    for idx, item in enumerate(states_list):\n",
    "        if abs(item - current_state) == 2:\n",
    "            mfpt.append(idx - current_idx)\n",
    "            events.append([current_idx, idx])\n",
    "            current_state = item\n",
    "            current_idx = idx\n",
    "    return np.array(mfpt), np.array(events)\n",
    "\n",
    "real_mfpt, events = get_mfpt_list(real_states, 0)"
   ]
  },
  {
   "cell_type": "code",
   "execution_count": 206,
   "metadata": {},
   "outputs": [],
   "source": [
    "############################"
   ]
  },
  {
   "cell_type": "code",
   "execution_count": 210,
   "metadata": {},
   "outputs": [],
   "source": [
    "_, dihedrals = md.compute_psi(traj)"
   ]
  },
  {
   "cell_type": "code",
   "execution_count": 211,
   "metadata": {},
   "outputs": [
    {
     "data": {
      "text/plain": [
       "[<matplotlib.lines.Line2D at 0x1808288d508>]"
      ]
     },
     "execution_count": 211,
     "metadata": {},
     "output_type": "execute_result"
    },
    {
     "data": {
      "image/png": "[encoded data removed]",
      "text/plain": [
       "<Figure size 432x288 with 1 Axes>"
      ]
     },
     "metadata": {
      "needs_background": "light"
     },
     "output_type": "display_data"
    }
   ],
   "source": [
    "plt.plot(np.sin(dihedrals[:, 17]))"
   ]
  },
  {
   "cell_type": "code",
   "execution_count": null,
   "metadata": {},
   "outputs": [],
   "source": []
  }
 ],
 "metadata": {
  "kernelspec": {
   "display_name": "Python 3",
   "language": "python",
   "name": "python3"
  },
  "language_info": {
   "codemirror_mode": {
    "name": "ipython",
    "version": 3
   },
   "file_extension": ".py",
   "mimetype": "text/x-python",
   "name": "python",
   "nbconvert_exporter": "python",
   "pygments_lexer": "ipython3",
   "version": "3.7.6"
  }
 },
 "nbformat": 4,
 "nbformat_minor": 2
}
