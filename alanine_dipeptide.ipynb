{
 "cells": [
  {
   "cell_type": "code",
   "execution_count": 1,
   "metadata": {},
   "outputs": [
    {
     "name": "stderr",
     "output_type": "stream",
     "text": [
      "C:\\Users\\aawad\\anaconda3\\envs\\PyGPU\\lib\\site-packages\\tensorflow\\python\\framework\\dtypes.py:516: FutureWarning: Passing (type, 1) or '1type' as a synonym of type is deprecated; in a future version of numpy, it will be understood as (type, (1,)) / '(1,)type'.\n",
      "  _np_qint8 = np.dtype([(\"qint8\", np.int8, 1)])\n",
      "C:\\Users\\aawad\\anaconda3\\envs\\PyGPU\\lib\\site-packages\\tensorflow\\python\\framework\\dtypes.py:517: FutureWarning: Passing (type, 1) or '1type' as a synonym of type is deprecated; in a future version of numpy, it will be understood as (type, (1,)) / '(1,)type'.\n",
      "  _np_quint8 = np.dtype([(\"quint8\", np.uint8, 1)])\n",
      "C:\\Users\\aawad\\anaconda3\\envs\\PyGPU\\lib\\site-packages\\tensorflow\\python\\framework\\dtypes.py:518: FutureWarning: Passing (type, 1) or '1type' as a synonym of type is deprecated; in a future version of numpy, it will be understood as (type, (1,)) / '(1,)type'.\n",
      "  _np_qint16 = np.dtype([(\"qint16\", np.int16, 1)])\n",
      "C:\\Users\\aawad\\anaconda3\\envs\\PyGPU\\lib\\site-packages\\tensorflow\\python\\framework\\dtypes.py:519: FutureWarning: Passing (type, 1) or '1type' as a synonym of type is deprecated; in a future version of numpy, it will be understood as (type, (1,)) / '(1,)type'.\n",
      "  _np_quint16 = np.dtype([(\"quint16\", np.uint16, 1)])\n",
      "C:\\Users\\aawad\\anaconda3\\envs\\PyGPU\\lib\\site-packages\\tensorflow\\python\\framework\\dtypes.py:520: FutureWarning: Passing (type, 1) or '1type' as a synonym of type is deprecated; in a future version of numpy, it will be understood as (type, (1,)) / '(1,)type'.\n",
      "  _np_qint32 = np.dtype([(\"qint32\", np.int32, 1)])\n",
      "C:\\Users\\aawad\\anaconda3\\envs\\PyGPU\\lib\\site-packages\\tensorflow\\python\\framework\\dtypes.py:525: FutureWarning: Passing (type, 1) or '1type' as a synonym of type is deprecated; in a future version of numpy, it will be understood as (type, (1,)) / '(1,)type'.\n",
      "  np_resource = np.dtype([(\"resource\", np.ubyte, 1)])\n",
      "C:\\Users\\aawad\\anaconda3\\envs\\PyGPU\\lib\\site-packages\\pyemma\\__init__.py:92: UserWarning: You are not using the latest release of PyEMMA. Latest is 2.5.7, you have 2.5.6.\n",
      "  .format(latest=latest, current=current), category=UserWarning)\n",
      "C:\\Users\\aawad\\anaconda3\\envs\\PyGPU\\lib\\site-packages\\tensorboard\\compat\\tensorflow_stub\\dtypes.py:541: FutureWarning: Passing (type, 1) or '1type' as a synonym of type is deprecated; in a future version of numpy, it will be understood as (type, (1,)) / '(1,)type'.\n",
      "  _np_qint8 = np.dtype([(\"qint8\", np.int8, 1)])\n",
      "C:\\Users\\aawad\\anaconda3\\envs\\PyGPU\\lib\\site-packages\\tensorboard\\compat\\tensorflow_stub\\dtypes.py:542: FutureWarning: Passing (type, 1) or '1type' as a synonym of type is deprecated; in a future version of numpy, it will be understood as (type, (1,)) / '(1,)type'.\n",
      "  _np_quint8 = np.dtype([(\"quint8\", np.uint8, 1)])\n",
      "C:\\Users\\aawad\\anaconda3\\envs\\PyGPU\\lib\\site-packages\\tensorboard\\compat\\tensorflow_stub\\dtypes.py:543: FutureWarning: Passing (type, 1) or '1type' as a synonym of type is deprecated; in a future version of numpy, it will be understood as (type, (1,)) / '(1,)type'.\n",
      "  _np_qint16 = np.dtype([(\"qint16\", np.int16, 1)])\n",
      "C:\\Users\\aawad\\anaconda3\\envs\\PyGPU\\lib\\site-packages\\tensorboard\\compat\\tensorflow_stub\\dtypes.py:544: FutureWarning: Passing (type, 1) or '1type' as a synonym of type is deprecated; in a future version of numpy, it will be understood as (type, (1,)) / '(1,)type'.\n",
      "  _np_quint16 = np.dtype([(\"quint16\", np.uint16, 1)])\n",
      "C:\\Users\\aawad\\anaconda3\\envs\\PyGPU\\lib\\site-packages\\tensorboard\\compat\\tensorflow_stub\\dtypes.py:545: FutureWarning: Passing (type, 1) or '1type' as a synonym of type is deprecated; in a future version of numpy, it will be understood as (type, (1,)) / '(1,)type'.\n",
      "  _np_qint32 = np.dtype([(\"qint32\", np.int32, 1)])\n",
      "C:\\Users\\aawad\\anaconda3\\envs\\PyGPU\\lib\\site-packages\\tensorboard\\compat\\tensorflow_stub\\dtypes.py:550: FutureWarning: Passing (type, 1) or '1type' as a synonym of type is deprecated; in a future version of numpy, it will be understood as (type, (1,)) / '(1,)type'.\n",
      "  np_resource = np.dtype([(\"resource\", np.ubyte, 1)])\n",
      "Using TensorFlow backend.\n"
     ]
    },
    {
     "name": "stdout",
     "output_type": "stream",
     "text": [
      "WARNING:tensorflow:From C:\\Users\\aawad\\OneDrive\\Documents\\LSS_all_files\\srv-master\\paper_notebooks\\temp_tf_load.py:4: The name tf.ConfigProto is deprecated. Please use tf.compat.v1.ConfigProto instead.\n",
      "\n",
      "WARNING:tensorflow:From C:\\Users\\aawad\\OneDrive\\Documents\\LSS_all_files\\srv-master\\paper_notebooks\\temp_tf_load.py:6: The name tf.Session is deprecated. Please use tf.compat.v1.Session instead.\n",
      "\n"
     ]
    }
   ],
   "source": [
    "%load_ext autoreload\n",
    "%autoreload 2\n",
    "import sklearn.preprocessing as pre, scipy, numpy as np, matplotlib.pyplot as plt, glob, pickle, pyemma as py, sys, os\n",
    "# os.environ[\"CUDA_DEVICE_ORDER\"]=\"PCI_BUS_ID\"\n",
    "# os.environ[\"CUDA_VISIBLE_DEVICES\"]= \"2\"\n",
    "%matplotlib inline\n",
    "from temp_tf_load import *\n",
    "sys.path.append('../')\n",
    "from hde import HDE, analysis\n",
    "lag_time = 10\n",
    "import warnings\n",
    "warnings.filterwarnings('ignore')"
   ]
  },
  {
   "cell_type": "code",
   "execution_count": 2,
   "metadata": {},
   "outputs": [
    {
     "ename": "FileNotFoundError",
     "evalue": "[Errno 2] No such file or directory: '/home/kengyangyao/data/HDE_data/alanine_dipeptide/pairwise_dis.npy'",
     "output_type": "error",
     "traceback": [
      "\u001b[1;31m---------------------------------------------------------------------------\u001b[0m",
      "\u001b[1;31mFileNotFoundError\u001b[0m                         Traceback (most recent call last)",
      "\u001b[1;32m<ipython-input-2-b7bae4ebe79c>\u001b[0m in \u001b[0;36m<module>\u001b[1;34m\u001b[0m\n\u001b[0;32m      1\u001b[0m \u001b[1;31m# load pairwise distances and dihedral angles computed from simulation trajectory\u001b[0m\u001b[1;33m\u001b[0m\u001b[1;33m\u001b[0m\u001b[1;33m\u001b[0m\u001b[0m\n\u001b[1;32m----> 2\u001b[1;33m \u001b[0mpairwise_dis\u001b[0m \u001b[1;33m=\u001b[0m \u001b[0mnp\u001b[0m\u001b[1;33m.\u001b[0m\u001b[0mload\u001b[0m\u001b[1;33m(\u001b[0m\u001b[1;34m'/home/kengyangyao/data/HDE_data/alanine_dipeptide/pairwise_dis.npy'\u001b[0m\u001b[1;33m)\u001b[0m\u001b[1;33m\u001b[0m\u001b[1;33m\u001b[0m\u001b[0m\n\u001b[0m\u001b[0;32m      3\u001b[0m \u001b[0mdihedrals\u001b[0m \u001b[1;33m=\u001b[0m \u001b[0mnp\u001b[0m\u001b[1;33m.\u001b[0m\u001b[0mload\u001b[0m\u001b[1;33m(\u001b[0m\u001b[1;34m'/home/kengyangyao/data/HDE_data/alanine_dipeptide/dihedrals.npy'\u001b[0m\u001b[1;33m)\u001b[0m\u001b[1;33m\u001b[0m\u001b[1;33m\u001b[0m\u001b[0m\n\u001b[0;32m      4\u001b[0m \u001b[0mscaler\u001b[0m \u001b[1;33m=\u001b[0m \u001b[0mpre\u001b[0m\u001b[1;33m.\u001b[0m\u001b[0mMinMaxScaler\u001b[0m\u001b[1;33m(\u001b[0m\u001b[0mfeature_range\u001b[0m\u001b[1;33m=\u001b[0m\u001b[1;33m(\u001b[0m\u001b[1;33m-\u001b[0m\u001b[1;36m1\u001b[0m\u001b[1;33m,\u001b[0m \u001b[1;36m1\u001b[0m\u001b[1;33m)\u001b[0m\u001b[1;33m)\u001b[0m\u001b[1;33m\u001b[0m\u001b[1;33m\u001b[0m\u001b[0m\n\u001b[0;32m      5\u001b[0m \u001b[0mpairwise_dis_s\u001b[0m \u001b[1;33m=\u001b[0m \u001b[0mscaler\u001b[0m\u001b[1;33m.\u001b[0m\u001b[0mfit_transform\u001b[0m\u001b[1;33m(\u001b[0m\u001b[0mpairwise_dis\u001b[0m\u001b[1;33m)\u001b[0m\u001b[1;33m\u001b[0m\u001b[1;33m\u001b[0m\u001b[0m\n",
      "\u001b[1;32m~\\anaconda3\\envs\\PyGPU\\lib\\site-packages\\numpy\\lib\\npyio.py\u001b[0m in \u001b[0;36mload\u001b[1;34m(file, mmap_mode, allow_pickle, fix_imports, encoding)\u001b[0m\n\u001b[0;32m    414\u001b[0m             \u001b[0mown_fid\u001b[0m \u001b[1;33m=\u001b[0m \u001b[1;32mFalse\u001b[0m\u001b[1;33m\u001b[0m\u001b[1;33m\u001b[0m\u001b[0m\n\u001b[0;32m    415\u001b[0m         \u001b[1;32melse\u001b[0m\u001b[1;33m:\u001b[0m\u001b[1;33m\u001b[0m\u001b[1;33m\u001b[0m\u001b[0m\n\u001b[1;32m--> 416\u001b[1;33m             \u001b[0mfid\u001b[0m \u001b[1;33m=\u001b[0m \u001b[0mstack\u001b[0m\u001b[1;33m.\u001b[0m\u001b[0menter_context\u001b[0m\u001b[1;33m(\u001b[0m\u001b[0mopen\u001b[0m\u001b[1;33m(\u001b[0m\u001b[0mos_fspath\u001b[0m\u001b[1;33m(\u001b[0m\u001b[0mfile\u001b[0m\u001b[1;33m)\u001b[0m\u001b[1;33m,\u001b[0m \u001b[1;34m\"rb\"\u001b[0m\u001b[1;33m)\u001b[0m\u001b[1;33m)\u001b[0m\u001b[1;33m\u001b[0m\u001b[1;33m\u001b[0m\u001b[0m\n\u001b[0m\u001b[0;32m    417\u001b[0m             \u001b[0mown_fid\u001b[0m \u001b[1;33m=\u001b[0m \u001b[1;32mTrue\u001b[0m\u001b[1;33m\u001b[0m\u001b[1;33m\u001b[0m\u001b[0m\n\u001b[0;32m    418\u001b[0m \u001b[1;33m\u001b[0m\u001b[0m\n",
      "\u001b[1;31mFileNotFoundError\u001b[0m: [Errno 2] No such file or directory: '/home/kengyangyao/data/HDE_data/alanine_dipeptide/pairwise_dis.npy'"
     ]
    }
   ],
   "source": [
    "# load pairwise distances and dihedral angles computed from simulation trajectory\n",
    "pairwise_dis = np.load('/home/kengyangyao/data/HDE_data/alanine_dipeptide/pairwise_dis.npy')\n",
    "dihedrals = np.load('/home/kengyangyao/data/HDE_data/alanine_dipeptide/dihedrals.npy')\n",
    "scaler = pre.MinMaxScaler(feature_range=(-1, 1))\n",
    "pairwise_dis_s = scaler.fit_transform(pairwise_dis)\n",
    "cossin_dihedrals = np.concatenate([np.cos(dihedrals), np.sin(dihedrals)], axis=1)"
   ]
  },
  {
   "cell_type": "markdown",
   "metadata": {},
   "source": [
    "## kernel tICA"
   ]
  },
  {
   "cell_type": "code",
   "execution_count": 3,
   "metadata": {
    "scrolled": true
   },
   "outputs": [],
   "source": [
    "from temp_ktica import *"
   ]
  },
  {
   "cell_type": "code",
   "execution_count": 1,
   "metadata": {
    "scrolled": true
   },
   "outputs": [
    {
     "ename": "NameError",
     "evalue": "name 'pairwise_dis_s' is not defined",
     "output_type": "error",
     "traceback": [
      "\u001b[0;31m---------------------------------------------------------------------------\u001b[0m",
      "\u001b[0;31mNameError\u001b[0m                                 Traceback (most recent call last)",
      "\u001b[0;32m<ipython-input-1-39a1082d7cd1>\u001b[0m in \u001b[0;36m<module>\u001b[0;34m\u001b[0m\n\u001b[1;32m      4\u001b[0m \u001b[0mn_landmarks\u001b[0m \u001b[0;34m=\u001b[0m \u001b[0;36m2000\u001b[0m\u001b[0;34m\u001b[0m\u001b[0;34m\u001b[0m\u001b[0m\n\u001b[1;32m      5\u001b[0m \u001b[0mkmeans\u001b[0m \u001b[0;34m=\u001b[0m \u001b[0mKMeans\u001b[0m\u001b[0;34m(\u001b[0m\u001b[0minit\u001b[0m\u001b[0;34m=\u001b[0m\u001b[0;34m'k-means++'\u001b[0m\u001b[0;34m,\u001b[0m \u001b[0mn_clusters\u001b[0m\u001b[0;34m=\u001b[0m\u001b[0mn_landmarks\u001b[0m\u001b[0;34m,\u001b[0m \u001b[0mn_init\u001b[0m\u001b[0;34m=\u001b[0m\u001b[0;36m10\u001b[0m\u001b[0;34m)\u001b[0m\u001b[0;34m\u001b[0m\u001b[0;34m\u001b[0m\u001b[0m\n\u001b[0;32m----> 6\u001b[0;31m \u001b[0mkmeans\u001b[0m\u001b[0;34m.\u001b[0m\u001b[0mfit\u001b[0m\u001b[0;34m(\u001b[0m\u001b[0mpairwise_dis_s\u001b[0m\u001b[0;34m[\u001b[0m\u001b[0;34m:\u001b[0m\u001b[0;34m:\u001b[0m\u001b[0;36m50\u001b[0m\u001b[0;34m]\u001b[0m\u001b[0;34m)\u001b[0m\u001b[0;34m\u001b[0m\u001b[0;34m\u001b[0m\u001b[0m\n\u001b[0m",
      "\u001b[0;31mNameError\u001b[0m: name 'pairwise_dis_s' is not defined"
     ]
    }
   ],
   "source": [
    "# find landmarks, this may take a while.  We use 5000 landmarks in our paper, but it \n",
    "# takes very long time to do clustering, so here we use 2000 instead\n",
    "from sklearn.cluster import KMeans\n",
    "n_landmarks = 2000\n",
    "kmeans = KMeans(init='k-means++', n_clusters=n_landmarks, n_init=10)\n",
    "kmeans.fit(pairwise_dis_s[::50])"
   ]
  },
  {
   "cell_type": "code",
   "execution_count": 5,
   "metadata": {
    "scrolled": true
   },
   "outputs": [
    {
     "name": "stdout",
     "output_type": "stream",
     "text": [
      "using landmarks\n"
     ]
    },
    {
     "name": "stderr",
     "output_type": "stream",
     "text": [
      "100%|██████████| 30/30 [03:45<00:00,  7.13s/it]                       \n"
     ]
    },
    {
     "name": "stdout",
     "output_type": "stream",
     "text": [
      "2.0 [663.30461311  36.73776355  16.85202968   4.13034719   4.01966179]\n"
     ]
    }
   ],
   "source": [
    "# take longer than previous cell\n",
    "temp_dataset = pairwise_dis_s\n",
    "temp_landmarks = kmeans.cluster_centers_\n",
    "for sigma in [2.0]:    #  # best sigma for scaled pairwise distances with 5000 landmarks\n",
    "    ktica = Kernel_tica(3, lag_time=10, gamma=1./(2 * sigma ** 2), n_components_nystroem=len(temp_landmarks), \n",
    "                       landmarks = temp_landmarks)\n",
    "    ktica_coords = ktica.fit_transform([temp_dataset])[0]\n",
    "    print(sigma, ktica._tica.timescales[:5])\n",
    "    ktica_timescales = ktica._tica.timescales[:3]"
   ]
  },
  {
   "cell_type": "code",
   "execution_count": 6,
   "metadata": {},
   "outputs": [],
   "source": [
    "# these are precomputed ktica coordinates and timescales\n",
    "# ktica_coords = np.load('/home/kengyangyao/data/hde_paper_results/adp_ktica_coords.npy')\n",
    "# ktica_timescales = np.load('/home/kengyangyao/data/hde_paper_results/adp_ktica_timescales.npy')"
   ]
  },
  {
   "cell_type": "markdown",
   "metadata": {},
   "source": [
    "## HDE"
   ]
  },
  {
   "cell_type": "code",
   "execution_count": 3,
   "metadata": {},
   "outputs": [],
   "source": [
    "skip = 1\n",
    "from keras.callbacks import EarlyStopping\n",
    "earlyStopping = EarlyStopping(monitor='val_loss', patience=30, verbose=1, mode='min', restore_best_weights=True)\n",
    "hde = HDE(45, n_components=3, lag_time=lag_time // skip, dropout_rate=0, batch_size=50000, n_epochs=200, \n",
    "          validation_split=0.2, batch_normalization=True, learning_rate = 0.01,\n",
    "          callbacks=[earlyStopping])"
   ]
  },
  {
   "cell_type": "code",
   "execution_count": 4,
   "metadata": {
    "scrolled": true
   },
   "outputs": [
    {
     "ename": "NameError",
     "evalue": "name 'pairwise_dis_s' is not defined",
     "output_type": "error",
     "traceback": [
      "\u001b[1;31m---------------------------------------------------------------------------\u001b[0m",
      "\u001b[1;31mNameError\u001b[0m                                 Traceback (most recent call last)",
      "\u001b[1;32m<ipython-input-4-180a67d89cc3>\u001b[0m in \u001b[0;36m<module>\u001b[1;34m\u001b[0m\n\u001b[0;32m      2\u001b[0m \u001b[0mhde\u001b[0m\u001b[1;33m.\u001b[0m\u001b[0mbatch_size\u001b[0m \u001b[1;33m=\u001b[0m \u001b[1;36m200000\u001b[0m\u001b[1;33m\u001b[0m\u001b[1;33m\u001b[0m\u001b[0m\n\u001b[0;32m      3\u001b[0m \u001b[0mhde\u001b[0m\u001b[1;33m.\u001b[0m\u001b[0mn_epochs\u001b[0m \u001b[1;33m=\u001b[0m \u001b[1;36m50\u001b[0m\u001b[1;33m\u001b[0m\u001b[1;33m\u001b[0m\u001b[0m\n\u001b[1;32m----> 4\u001b[1;33m \u001b[0mhde\u001b[0m\u001b[1;33m.\u001b[0m\u001b[0mfit\u001b[0m\u001b[1;33m(\u001b[0m\u001b[0mpairwise_dis_s\u001b[0m\u001b[1;33m)\u001b[0m\u001b[1;33m\u001b[0m\u001b[1;33m\u001b[0m\u001b[0m\n\u001b[0m\u001b[0;32m      5\u001b[0m \u001b[1;31m# hde._recompile = True\u001b[0m\u001b[1;33m\u001b[0m\u001b[1;33m\u001b[0m\u001b[1;33m\u001b[0m\u001b[0m\n\u001b[0;32m      6\u001b[0m \u001b[1;31m# hde.r_degree = 5\u001b[0m\u001b[1;33m\u001b[0m\u001b[1;33m\u001b[0m\u001b[1;33m\u001b[0m\u001b[0m\n",
      "\u001b[1;31mNameError\u001b[0m: name 'pairwise_dis_s' is not defined"
     ]
    }
   ],
   "source": [
    "hde.r_degree = 10    # pre-training, to speed up discovery of first few slowest modes\n",
    "hde.batch_size = 200000\n",
    "hde.n_epochs = 50\n",
    "hde.fit(pairwise_dis_s)\n",
    "# hde._recompile = True\n",
    "# hde.r_degree = 5\n",
    "# hde.fit(pairwise_dis_s)\n",
    "# hde.batch_size = 500000\n",
    "# hde._recompile = True\n",
    "# hde.r_degree = 2\n",
    "# hde.n_epochs = 100\n",
    "# hde.fit(pairwise_dis_s)"
   ]
  },
  {
   "cell_type": "code",
   "execution_count": 22,
   "metadata": {
    "scrolled": true
   },
   "outputs": [
    {
     "name": "stdout",
     "output_type": "stream",
     "text": [
      "Train on 799992 samples, validate on 199998 samples\n",
      "Epoch 1/100\n",
      "799992/799992 [==============================] - 2s 3us/step - loss: -2.2296 - val_loss: -2.4945\n",
      "Epoch 2/100\n",
      "799992/799992 [==============================] - 1s 2us/step - loss: -2.5210 - val_loss: -2.5382\n",
      "Epoch 3/100\n",
      "799992/799992 [==============================] - 1s 2us/step - loss: -2.5420 - val_loss: -2.5472\n",
      "Epoch 4/100\n",
      "799992/799992 [==============================] - 1s 2us/step - loss: -2.5479 - val_loss: -2.5506\n",
      "Epoch 5/100\n",
      "799992/799992 [==============================] - 1s 2us/step - loss: -2.5504 - val_loss: -2.5522\n",
      "Epoch 6/100\n",
      "799992/799992 [==============================] - 1s 2us/step - loss: -2.5518 - val_loss: -2.5533\n",
      "Epoch 7/100\n",
      "799992/799992 [==============================] - 1s 2us/step - loss: -2.5526 - val_loss: -2.5539\n",
      "Epoch 8/100\n",
      "799992/799992 [==============================] - 1s 2us/step - loss: -2.5531 - val_loss: -2.5543\n",
      "Epoch 9/100\n",
      "799992/799992 [==============================] - 1s 2us/step - loss: -2.5534 - val_loss: -2.5546\n",
      "Epoch 10/100\n",
      "799992/799992 [==============================] - 1s 2us/step - loss: -2.5537 - val_loss: -2.5547\n",
      "Epoch 11/100\n",
      "799992/799992 [==============================] - 1s 2us/step - loss: -2.5539 - val_loss: -2.5548\n",
      "Epoch 12/100\n",
      "799992/799992 [==============================] - 1s 2us/step - loss: -2.5541 - val_loss: -2.5551\n",
      "Epoch 13/100\n",
      "799992/799992 [==============================] - 1s 2us/step - loss: -2.5542 - val_loss: -2.5551\n",
      "Epoch 14/100\n",
      "799992/799992 [==============================] - 1s 2us/step - loss: -2.5543 - val_loss: -2.5553\n",
      "Epoch 15/100\n",
      "799992/799992 [==============================] - 1s 2us/step - loss: -2.5544 - val_loss: -2.5554\n",
      "Epoch 16/100\n",
      "799992/799992 [==============================] - 1s 2us/step - loss: -2.5545 - val_loss: -2.5555\n",
      "Epoch 17/100\n",
      "799992/799992 [==============================] - 1s 2us/step - loss: -2.5546 - val_loss: -2.5555\n",
      "Epoch 18/100\n",
      "799992/799992 [==============================] - 1s 2us/step - loss: -2.5546 - val_loss: -2.5556\n",
      "Epoch 19/100\n",
      "799992/799992 [==============================] - 1s 1us/step - loss: -2.5547 - val_loss: -2.5556\n",
      "Epoch 20/100\n",
      "799992/799992 [==============================] - 1s 2us/step - loss: -2.5548 - val_loss: -2.5557\n",
      "Epoch 21/100\n",
      "799992/799992 [==============================] - 1s 2us/step - loss: -2.5548 - val_loss: -2.5556\n",
      "Epoch 22/100\n",
      "799992/799992 [==============================] - 1s 2us/step - loss: -2.5548 - val_loss: -2.5558\n",
      "Epoch 23/100\n",
      "799992/799992 [==============================] - 1s 2us/step - loss: -2.5549 - val_loss: -2.5558\n",
      "Epoch 24/100\n",
      "799992/799992 [==============================] - 1s 2us/step - loss: -2.5549 - val_loss: -2.5558\n",
      "Epoch 25/100\n",
      "799992/799992 [==============================] - 1s 1us/step - loss: -2.5550 - val_loss: -2.5558\n",
      "Epoch 26/100\n",
      "799992/799992 [==============================] - 1s 2us/step - loss: -2.5550 - val_loss: -2.5559\n",
      "Epoch 27/100\n",
      "799992/799992 [==============================] - 1s 2us/step - loss: -2.5551 - val_loss: -2.5559\n",
      "Epoch 28/100\n",
      "799992/799992 [==============================] - 1s 2us/step - loss: -2.5551 - val_loss: -2.5559\n",
      "Epoch 29/100\n",
      "799992/799992 [==============================] - 1s 2us/step - loss: -2.5551 - val_loss: -2.5559\n",
      "Epoch 30/100\n",
      "799992/799992 [==============================] - 1s 2us/step - loss: -2.5551 - val_loss: -2.5559\n",
      "Epoch 31/100\n",
      "799992/799992 [==============================] - 1s 2us/step - loss: -2.5552 - val_loss: -2.5560\n",
      "Epoch 32/100\n",
      "799992/799992 [==============================] - 1s 2us/step - loss: -2.5552 - val_loss: -2.5560\n",
      "Epoch 33/100\n",
      "799992/799992 [==============================] - 1s 2us/step - loss: -2.5552 - val_loss: -2.5560\n",
      "Epoch 34/100\n",
      "799992/799992 [==============================] - 1s 2us/step - loss: -2.5553 - val_loss: -2.5561\n",
      "Epoch 35/100\n",
      "799992/799992 [==============================] - 1s 2us/step - loss: -2.5552 - val_loss: -2.5560\n",
      "Epoch 36/100\n",
      "799992/799992 [==============================] - 1s 2us/step - loss: -2.5553 - val_loss: -2.5558\n",
      "Epoch 37/100\n",
      "799992/799992 [==============================] - 1s 2us/step - loss: -2.5553 - val_loss: -2.5561\n",
      "Epoch 38/100\n",
      "799992/799992 [==============================] - 1s 2us/step - loss: -2.5553 - val_loss: -2.5561\n",
      "Epoch 39/100\n",
      "799992/799992 [==============================] - 1s 2us/step - loss: -2.5553 - val_loss: -2.5561\n",
      "Epoch 40/100\n",
      "799992/799992 [==============================] - 1s 2us/step - loss: -2.5554 - val_loss: -2.5559\n",
      "Epoch 41/100\n",
      "799992/799992 [==============================] - 1s 2us/step - loss: -2.5554 - val_loss: -2.5561\n",
      "Epoch 42/100\n",
      "799992/799992 [==============================] - 1s 2us/step - loss: -2.5554 - val_loss: -2.5560\n",
      "Epoch 43/100\n",
      "799992/799992 [==============================] - 1s 2us/step - loss: -2.5553 - val_loss: -2.5562\n",
      "Epoch 44/100\n",
      "799992/799992 [==============================] - 1s 2us/step - loss: -2.5555 - val_loss: -2.5562\n",
      "Epoch 45/100\n",
      "799992/799992 [==============================] - 1s 2us/step - loss: -2.5554 - val_loss: -2.5562\n",
      "Epoch 46/100\n",
      "799992/799992 [==============================] - 1s 2us/step - loss: -2.5554 - val_loss: -2.5562\n",
      "Epoch 47/100\n",
      "799992/799992 [==============================] - 1s 2us/step - loss: -2.5555 - val_loss: -2.5562\n",
      "Epoch 48/100\n",
      "799992/799992 [==============================] - 1s 2us/step - loss: -2.5555 - val_loss: -2.5563\n",
      "Epoch 49/100\n",
      "799992/799992 [==============================] - 1s 2us/step - loss: -2.5555 - val_loss: -2.5564\n",
      "Epoch 50/100\n",
      "799992/799992 [==============================] - 1s 2us/step - loss: -2.5557 - val_loss: -2.5570\n",
      "Epoch 51/100\n",
      "799992/799992 [==============================] - 1s 2us/step - loss: -2.5563 - val_loss: -2.5537\n",
      "Epoch 52/100\n",
      "799992/799992 [==============================] - 1s 2us/step - loss: -2.5544 - val_loss: -2.5566\n",
      "Epoch 53/100\n",
      "799992/799992 [==============================] - 1s 2us/step - loss: -2.5641 - val_loss: -2.5529\n",
      "Epoch 54/100\n",
      "799992/799992 [==============================] - 1s 2us/step - loss: -2.6999 - val_loss: -2.8623\n",
      "Epoch 55/100\n",
      "799992/799992 [==============================] - 1s 2us/step - loss: -2.8467 - val_loss: -2.8783\n",
      "Epoch 56/100\n",
      "799992/799992 [==============================] - 1s 2us/step - loss: -2.8567 - val_loss: -2.8801\n",
      "Epoch 57/100\n",
      "799992/799992 [==============================] - 1s 2us/step - loss: -2.8574 - val_loss: -2.8806\n",
      "Epoch 58/100\n",
      "799992/799992 [==============================] - 1s 2us/step - loss: -2.8594 - val_loss: -2.8818\n",
      "Epoch 59/100\n",
      "799992/799992 [==============================] - 1s 2us/step - loss: -2.8614 - val_loss: -2.8831\n",
      "Epoch 60/100\n",
      "799992/799992 [==============================] - 1s 2us/step - loss: -2.8611 - val_loss: -2.8827\n",
      "Epoch 61/100\n",
      "799992/799992 [==============================] - 1s 2us/step - loss: -2.8641 - val_loss: -2.8832\n",
      "Epoch 62/100\n",
      "799992/799992 [==============================] - 1s 2us/step - loss: -2.8633 - val_loss: -2.8826\n",
      "Epoch 63/100\n",
      "799992/799992 [==============================] - 1s 2us/step - loss: -2.8657 - val_loss: -2.8824\n",
      "Epoch 64/100\n",
      "799992/799992 [==============================] - 1s 2us/step - loss: -2.8644 - val_loss: -2.8813\n",
      "Epoch 65/100\n",
      "799992/799992 [==============================] - 1s 2us/step - loss: -2.8647 - val_loss: -2.8800\n",
      "Epoch 66/100\n",
      "799992/799992 [==============================] - 1s 2us/step - loss: -2.8643 - val_loss: -2.8819\n",
      "Epoch 67/100\n",
      "799992/799992 [==============================] - 1s 2us/step - loss: -2.8680 - val_loss: -2.8827\n",
      "Epoch 68/100\n",
      "799992/799992 [==============================] - 1s 2us/step - loss: -2.8697 - val_loss: -2.8750\n",
      "Epoch 69/100\n",
      "799992/799992 [==============================] - 1s 2us/step - loss: -2.8668 - val_loss: -2.8742\n",
      "Epoch 70/100\n",
      "799992/799992 [==============================] - 1s 2us/step - loss: -2.8673 - val_loss: -2.8789\n",
      "Epoch 71/100\n",
      "799992/799992 [==============================] - 1s 2us/step - loss: -2.8697 - val_loss: -2.8815\n",
      "Epoch 72/100\n",
      "799992/799992 [==============================] - 1s 2us/step - loss: -2.8702 - val_loss: -2.8823\n",
      "Epoch 73/100\n",
      "799992/799992 [==============================] - 1s 2us/step - loss: -2.8701 - val_loss: -2.8791\n",
      "Epoch 74/100\n",
      "799992/799992 [==============================] - 1s 2us/step - loss: -2.8653 - val_loss: -2.8753\n",
      "Epoch 75/100\n"
     ]
    },
    {
     "name": "stdout",
     "output_type": "stream",
     "text": [
      "799992/799992 [==============================] - 1s 1us/step - loss: -2.8726 - val_loss: -2.8757\n",
      "Epoch 76/100\n",
      "799992/799992 [==============================] - 1s 2us/step - loss: -2.8698 - val_loss: -2.8796\n",
      "Epoch 77/100\n",
      "799992/799992 [==============================] - 1s 1us/step - loss: -2.8712 - val_loss: -2.8762\n",
      "Epoch 78/100\n",
      "799992/799992 [==============================] - 1s 1us/step - loss: -2.8731 - val_loss: -2.8766\n",
      "Epoch 79/100\n",
      "799992/799992 [==============================] - 1s 2us/step - loss: -2.8733 - val_loss: -2.8725\n",
      "Epoch 80/100\n",
      "799992/799992 [==============================] - 1s 2us/step - loss: -2.8739 - val_loss: -2.8769\n",
      "Epoch 81/100\n",
      "799992/799992 [==============================] - 1s 1us/step - loss: -2.8713 - val_loss: -2.8751\n",
      "Epoch 82/100\n",
      "799992/799992 [==============================] - 1s 2us/step - loss: -2.8748 - val_loss: -2.8720\n",
      "Epoch 83/100\n",
      "799992/799992 [==============================] - 1s 2us/step - loss: -2.8757 - val_loss: -2.8703\n",
      "Epoch 84/100\n",
      "799992/799992 [==============================] - 1s 2us/step - loss: -2.8778 - val_loss: -2.8723\n",
      "Epoch 85/100\n",
      "799992/799992 [==============================] - 1s 2us/step - loss: -2.8761 - val_loss: -2.8700\n",
      "Epoch 86/100\n",
      "799992/799992 [==============================] - 1s 2us/step - loss: -2.8772 - val_loss: -2.8716\n",
      "Epoch 87/100\n",
      "799992/799992 [==============================] - 1s 2us/step - loss: -2.8815 - val_loss: -2.8689\n",
      "Epoch 88/100\n",
      "799992/799992 [==============================] - 1s 2us/step - loss: -2.8826 - val_loss: -2.8606\n",
      "Epoch 89/100\n",
      "799992/799992 [==============================] - 1s 2us/step - loss: -2.8812 - val_loss: -2.8680\n",
      "Epoch 90/100\n",
      "799992/799992 [==============================] - 1s 2us/step - loss: -2.8803 - val_loss: -2.8650\n",
      "Epoch 91/100\n",
      "799992/799992 [==============================] - 1s 2us/step - loss: -2.8790 - val_loss: -2.8688\n",
      "Restoring model weights from the end of the best epoch\n",
      "Epoch 00091: early stopping\n"
     ]
    },
    {
     "data": {
      "text/plain": [
       "HDE(activation=None, batch_normalization=True, batch_size=50000,\n",
       "  callbacks=[<keras.callbacks.EarlyStopping object at 0x7f674c42a278>],\n",
       "  dropout_rate=0, hidden_layer_depth=None, hidden_size=None, input_size=45,\n",
       "  l2_regularization=0.0, lag_time=10, latent_space_noise=0,\n",
       "  learning_rate=0.01, n_components=3, n_epochs=100, validation_split=0.2,\n",
       "  verbose=True)"
      ]
     },
     "execution_count": 22,
     "metadata": {},
     "output_type": "execute_result"
    }
   ],
   "source": [
    "hde.r_degree = 2\n",
    "hde.n_epochs = 100\n",
    "hde.fit(pairwise_dis_s)"
   ]
  },
  {
   "cell_type": "code",
   "execution_count": 23,
   "metadata": {},
   "outputs": [
    {
     "name": "stdout",
     "output_type": "stream",
     "text": [
      "[796.48540322  36.66098692  17.30255634]\n"
     ]
    }
   ],
   "source": [
    "hde_coords = hde.transform(pairwise_dis_s)\n",
    "hde_timescales = hde.timescales_\n",
    "print(hde_timescales)"
   ]
  },
  {
   "cell_type": "markdown",
   "metadata": {},
   "source": [
    "## MSM"
   ]
  },
  {
   "cell_type": "code",
   "execution_count": 11,
   "metadata": {},
   "outputs": [],
   "source": [
    "tica = py.coordinates.tica(pairwise_dis_s, lag=lag_time, var_cutoff=0.99)\n",
    "tica_coords = np.concatenate(tica.get_output())"
   ]
  },
  {
   "cell_type": "code",
   "execution_count": 12,
   "metadata": {
    "scrolled": true
   },
   "outputs": [
    {
     "name": "stderr",
     "output_type": "stream",
     "text": [
      "initialize kmeans++ centers:   0%|          | 0/200 [00:00<?, ?it/s]\n",
      "100%|██████████| 200/200 [00:23<00:00,  8.48it/s]                             \n",
      "100%|██████████| 50/50 [00:27<00:00, 17.87s/it]                  \n"
     ]
    }
   ],
   "source": [
    "cluster = py.coordinates.cluster_kmeans(tica_coords, k=200, n_jobs=1, max_iter=50)"
   ]
  },
  {
   "cell_type": "code",
   "execution_count": 13,
   "metadata": {
    "scrolled": true
   },
   "outputs": [
    {
     "name": "stderr",
     "output_type": "stream",
     "text": [
      "100%|██████████| 100/100 [00:05<00:00, 17.38it/s]               "
     ]
    },
    {
     "name": "stdout",
     "output_type": "stream",
     "text": [
      "Fraction of states used = 1.00\n",
      "Fraction of counts used = 1.00\n"
     ]
    },
    {
     "name": "stderr",
     "output_type": "stream",
     "text": [
      "\n"
     ]
    }
   ],
   "source": [
    "msm = py.msm.bayesian_markov_model(cluster.dtrajs, lag=lag_time)\n",
    "print(\"Fraction of states used = {:.2f}\".format(msm.active_state_fraction))\n",
    "print(\"Fraction of counts used = {:.2f}\".format(msm.active_count_fraction))"
   ]
  },
  {
   "cell_type": "code",
   "execution_count": 14,
   "metadata": {},
   "outputs": [
    {
     "name": "stdout",
     "output_type": "stream",
     "text": [
      "[808.75677972  36.57383181  16.69828449   3.6630034 ]\n"
     ]
    }
   ],
   "source": [
    "eigvec = msm.eigenvectors_right()\n",
    "dtrajs = np.concatenate(cluster.dtrajs)\n",
    "msm_coords = eigvec[dtrajs,1:6]\n",
    "msm_timescales = msm.sample_mean('timescales', k=20)\n",
    "print(msm_timescales[:4])"
   ]
  },
  {
   "cell_type": "markdown",
   "metadata": {},
   "source": [
    "## compare results"
   ]
  },
  {
   "cell_type": "code",
   "execution_count": null,
   "metadata": {
    "scrolled": false
   },
   "outputs": [],
   "source": [
    "plt.rcParams['font.size'] = 14\n",
    "def get_adp_state_plot(n_models):    \n",
    "    skip = 10\n",
    "    fig, axes = plt.subplots(n_models, 3)\n",
    "    fig.set_size_inches(10, 3 * n_models + 1)\n",
    "\n",
    "    coords_list = [ktica_coords, hde_coords, msm_coords][:n_models]\n",
    "    timescales_list = [ktica_timescales, hde_timescales, msm_timescales][:n_models]\n",
    "    for index_row in range(n_models):\n",
    "        for item in range(3):\n",
    "            temp_coords = coords_list[index_row][::skip, item]\n",
    "            temp_coords *= np.sign(np.sum(temp_coords))\n",
    "            ax = axes[index_row, item]\n",
    "            im = ax.scatter(dihedrals[::skip, 0], dihedrals[::skip, 1], s=0.5, \n",
    "                                    c=temp_coords, cmap=plt.cm.RdBu)\n",
    "            fig.colorbar(im, ax=ax, label='$\\\\tilde{\\psi}_%d\\ (t_%d = %d$ ps)' % (\n",
    "                item + 1, item+1, timescales_list[index_row][item] * 2), fraction=0.046, pad=0.04)\n",
    "            ax.text(-2, 0, '$\\\\alpha$', color='white')\n",
    "            ax.text(-2.5, 2.2, '$\\\\beta$', color='white')\n",
    "            ax.text(-1.5, 2.2, '$P_{//}$', color='white')\n",
    "            ax.text(1.5, 0, '$\\\\alpha_L$')\n",
    "            ax.text(1.5, 2.5, '$\\\\gamma$')\n",
    "            ax.axis('square')\n",
    "            ax.set_xlim([-np.pi, np.pi])\n",
    "            ax.set_ylim([-np.pi, np.pi])\n",
    "            if index_row == n_models - 1: ax.set_xlabel('$\\phi$')\n",
    "            if item == 0: ax.set_ylabel('$\\psi$')\n",
    "\n",
    "    row_label_list = ['kTICA', 'HDE', 'MSM'][:n_models]\n",
    "    pad = 30 \n",
    "    for ax, row in zip(axes[:, 0], row_label_list):\n",
    "        ax.annotate(row, xy=(0, 0.5), xytext=(-ax.yaxis.labelpad - pad, 0),\n",
    "                    xycoords=ax.yaxis.label, textcoords='offset points',\n",
    "                    ha='right', va='center', fontsize=20)\n",
    "    plt.subplots_adjust(wspace=0.7, hspace=0.05)\n",
    "    return fig\n",
    "\n",
    "fig = get_adp_state_plot(3)"
   ]
  },
  {
   "cell_type": "code",
   "execution_count": null,
   "metadata": {},
   "outputs": [],
   "source": []
  }
 ],
 "metadata": {
  "kernelspec": {
   "display_name": "Python 3",
   "language": "python",
   "name": "python3"
  },
  "language_info": {
   "codemirror_mode": {
    "name": "ipython",
    "version": 3
   },
   "file_extension": ".py",
   "mimetype": "text/x-python",
   "name": "python",
   "nbconvert_exporter": "python",
   "pygments_lexer": "ipython3",
   "version": "3.7.6"
  }
 },
 "nbformat": 4,
 "nbformat_minor": 2
}
